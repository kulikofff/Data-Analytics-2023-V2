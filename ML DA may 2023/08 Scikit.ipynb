{
 "cells": [
  {
   "cell_type": "code",
   "execution_count": 211,
   "metadata": {},
   "outputs": [],
   "source": [
    "import pandas as pd\n",
    "import numpy as np\n",
    "import math"
   ]
  },
  {
   "cell_type": "code",
   "execution_count": 212,
   "metadata": {},
   "outputs": [],
   "source": [
    "#MeanImputer\n",
    "class MeanImputer():\n",
    "    def __init__(self, copy=True):\n",
    "        self.copy = copy\n",
    "    def __is_numpy(self, X):\n",
    "        #X : pandas.DataFrame или numpy.ndarray\n",
    "        #Is it numpy or not\n",
    "        return isinstance(X, np.ndarray)\n",
    "    def fit(self, X, y=None):\n",
    "        self._encoder_dict = {}\n",
    "        is_np = self.__is_numpy(X)\n",
    "        #reshape from 1D to 2D\n",
    "        if len(X.shape) == 1:\n",
    "            X = X.reshape(-1, 1)\n",
    "        #amount of columns\n",
    "        ncols = X.shape[1]\n",
    "        \n",
    "        if is_np:\n",
    "            for col in range(ncols):\n",
    "                self._encoder_dict[col] = np.nanmean(X[:, col])\n",
    "        else:\n",
    "            for col in X.columns:\n",
    "                self._encoder_dict[col] = X[col].mean()\n",
    "                \n",
    "        return self\n",
    "    \n",
    "    def transform(self, X):\n",
    "        if self.copy:\n",
    "            X = X.copy()\n",
    "        is_np = self.__is_numpy(X)\n",
    "        \n",
    "        if len(X.shape) == 1:\n",
    "            X = X.reshape(-1, 1)\n",
    "        ncols = X.shape[1]\n",
    "        \n",
    "        if is_np:\n",
    "            for col in range(ncols):\n",
    "                X[:, col] = np.nan_to_num(\n",
    "                    X[:, col],\n",
    "                nan=self._encoder_dict[col])\n",
    "        else:\n",
    "            for col in X.columns:\n",
    "                X[col] = np.where(X[col].isnull(),\n",
    "                                    self._encoder_dict[col],\n",
    "                                    X[col])\n",
    "        return X    "
   ]
  },
  {
   "cell_type": "code",
   "execution_count": 213,
   "metadata": {},
   "outputs": [
    {
     "data": {
      "text/html": [
       "<div>\n",
       "<style scoped>\n",
       "    .dataframe tbody tr th:only-of-type {\n",
       "        vertical-align: middle;\n",
       "    }\n",
       "\n",
       "    .dataframe tbody tr th {\n",
       "        vertical-align: top;\n",
       "    }\n",
       "\n",
       "    .dataframe thead th {\n",
       "        text-align: right;\n",
       "    }\n",
       "</style>\n",
       "<table border=\"1\" class=\"dataframe\">\n",
       "  <thead>\n",
       "    <tr style=\"text-align: right;\">\n",
       "      <th></th>\n",
       "      <th>Balance</th>\n",
       "      <th>Age</th>\n",
       "    </tr>\n",
       "  </thead>\n",
       "  <tbody>\n",
       "    <tr>\n",
       "      <th>0</th>\n",
       "      <td>8.3</td>\n",
       "      <td>23.0</td>\n",
       "    </tr>\n",
       "    <tr>\n",
       "      <th>1</th>\n",
       "      <td>NaN</td>\n",
       "      <td>29.0</td>\n",
       "    </tr>\n",
       "    <tr>\n",
       "      <th>2</th>\n",
       "      <td>10.2</td>\n",
       "      <td>36.0</td>\n",
       "    </tr>\n",
       "    <tr>\n",
       "      <th>3</th>\n",
       "      <td>3.1</td>\n",
       "      <td>NaN</td>\n",
       "    </tr>\n",
       "  </tbody>\n",
       "</table>\n",
       "</div>"
      ],
      "text/plain": [
       "   Balance   Age\n",
       "0      8.3  23.0\n",
       "1      NaN  29.0\n",
       "2     10.2  36.0\n",
       "3      3.1   NaN"
      ]
     },
     "execution_count": 213,
     "metadata": {},
     "output_type": "execute_result"
    }
   ],
   "source": [
    "toy_train = pd.DataFrame(\n",
    "{'Balance': [8.3, np.NaN, 10.2, 3.1],\n",
    "'Age': [23, 29, 36, np.NaN]})\n",
    "toy_train"
   ]
  },
  {
   "cell_type": "code",
   "execution_count": 214,
   "metadata": {},
   "outputs": [
    {
     "data": {
      "text/html": [
       "<div>\n",
       "<style scoped>\n",
       "    .dataframe tbody tr th:only-of-type {\n",
       "        vertical-align: middle;\n",
       "    }\n",
       "\n",
       "    .dataframe tbody tr th {\n",
       "        vertical-align: top;\n",
       "    }\n",
       "\n",
       "    .dataframe thead th {\n",
       "        text-align: right;\n",
       "    }\n",
       "</style>\n",
       "<table border=\"1\" class=\"dataframe\">\n",
       "  <thead>\n",
       "    <tr style=\"text-align: right;\">\n",
       "      <th></th>\n",
       "      <th>Balance</th>\n",
       "      <th>Age</th>\n",
       "    </tr>\n",
       "  </thead>\n",
       "  <tbody>\n",
       "    <tr>\n",
       "      <th>0</th>\n",
       "      <td>10.4</td>\n",
       "      <td>13.0</td>\n",
       "    </tr>\n",
       "    <tr>\n",
       "      <th>1</th>\n",
       "      <td>NaN</td>\n",
       "      <td>19.0</td>\n",
       "    </tr>\n",
       "    <tr>\n",
       "      <th>2</th>\n",
       "      <td>22.5</td>\n",
       "      <td>66.0</td>\n",
       "    </tr>\n",
       "    <tr>\n",
       "      <th>3</th>\n",
       "      <td>1.1</td>\n",
       "      <td>NaN</td>\n",
       "    </tr>\n",
       "  </tbody>\n",
       "</table>\n",
       "</div>"
      ],
      "text/plain": [
       "   Balance   Age\n",
       "0     10.4  13.0\n",
       "1      NaN  19.0\n",
       "2     22.5  66.0\n",
       "3      1.1   NaN"
      ]
     },
     "execution_count": 214,
     "metadata": {},
     "output_type": "execute_result"
    }
   ],
   "source": [
    "toy_test = pd.DataFrame(\n",
    "{'Balance': [10.4, np.NaN, 22.5, 1.1],\n",
    "'Age': [13, 19, 66, np.NaN]})\n",
    "toy_test"
   ]
  },
  {
   "cell_type": "code",
   "execution_count": 215,
   "metadata": {},
   "outputs": [
    {
     "data": {
      "text/plain": [
       "\"\\nfor col in toy_train.columns:\\n    toy_train[col].fillna(toy_train[col].mean(), inplace=True)\\n    toy_test[col].fillna(toy_train[col].mean(), inplace=True)\\nprint('обучающий датафрейм')\\nprint(toy_train)\\nprint('')\\nprint('тестовый датафрейм')\\nprint(toy_test)\\n\""
      ]
     },
     "execution_count": 215,
     "metadata": {},
     "output_type": "execute_result"
    }
   ],
   "source": [
    "#Using mean()\n",
    "'''\n",
    "for col in toy_train.columns:\n",
    "    toy_train[col].fillna(toy_train[col].mean(), inplace=True)\n",
    "    toy_test[col].fillna(toy_train[col].mean(), inplace=True)\n",
    "print('обучающий датафрейм')\n",
    "print(toy_train)\n",
    "print('')\n",
    "print('тестовый датафрейм')\n",
    "print(toy_test)\n",
    "'''"
   ]
  },
  {
   "cell_type": "code",
   "execution_count": 216,
   "metadata": {},
   "outputs": [
    {
     "data": {
      "text/html": [
       "<div>\n",
       "<style scoped>\n",
       "    .dataframe tbody tr th:only-of-type {\n",
       "        vertical-align: middle;\n",
       "    }\n",
       "\n",
       "    .dataframe tbody tr th {\n",
       "        vertical-align: top;\n",
       "    }\n",
       "\n",
       "    .dataframe thead th {\n",
       "        text-align: right;\n",
       "    }\n",
       "</style>\n",
       "<table border=\"1\" class=\"dataframe\">\n",
       "  <thead>\n",
       "    <tr style=\"text-align: right;\">\n",
       "      <th></th>\n",
       "      <th>Balance</th>\n",
       "      <th>Age</th>\n",
       "    </tr>\n",
       "  </thead>\n",
       "  <tbody>\n",
       "    <tr>\n",
       "      <th>0</th>\n",
       "      <td>8.3</td>\n",
       "      <td>23.000000</td>\n",
       "    </tr>\n",
       "    <tr>\n",
       "      <th>1</th>\n",
       "      <td>7.2</td>\n",
       "      <td>29.000000</td>\n",
       "    </tr>\n",
       "    <tr>\n",
       "      <th>2</th>\n",
       "      <td>10.2</td>\n",
       "      <td>36.000000</td>\n",
       "    </tr>\n",
       "    <tr>\n",
       "      <th>3</th>\n",
       "      <td>3.1</td>\n",
       "      <td>29.333333</td>\n",
       "    </tr>\n",
       "  </tbody>\n",
       "</table>\n",
       "</div>"
      ],
      "text/plain": [
       "   Balance        Age\n",
       "0      8.3  23.000000\n",
       "1      7.2  29.000000\n",
       "2     10.2  36.000000\n",
       "3      3.1  29.333333"
      ]
     },
     "execution_count": 216,
     "metadata": {},
     "output_type": "execute_result"
    }
   ],
   "source": [
    "imp = MeanImputer()\n",
    "imp.fit(toy_train)\n",
    "toy_train = imp.transform(toy_train)\n",
    "toy_train"
   ]
  },
  {
   "cell_type": "code",
   "execution_count": 217,
   "metadata": {},
   "outputs": [
    {
     "data": {
      "text/html": [
       "<div>\n",
       "<style scoped>\n",
       "    .dataframe tbody tr th:only-of-type {\n",
       "        vertical-align: middle;\n",
       "    }\n",
       "\n",
       "    .dataframe tbody tr th {\n",
       "        vertical-align: top;\n",
       "    }\n",
       "\n",
       "    .dataframe thead th {\n",
       "        text-align: right;\n",
       "    }\n",
       "</style>\n",
       "<table border=\"1\" class=\"dataframe\">\n",
       "  <thead>\n",
       "    <tr style=\"text-align: right;\">\n",
       "      <th></th>\n",
       "      <th>Balance</th>\n",
       "      <th>Age</th>\n",
       "    </tr>\n",
       "  </thead>\n",
       "  <tbody>\n",
       "    <tr>\n",
       "      <th>0</th>\n",
       "      <td>10.4</td>\n",
       "      <td>13.000000</td>\n",
       "    </tr>\n",
       "    <tr>\n",
       "      <th>1</th>\n",
       "      <td>7.2</td>\n",
       "      <td>19.000000</td>\n",
       "    </tr>\n",
       "    <tr>\n",
       "      <th>2</th>\n",
       "      <td>22.5</td>\n",
       "      <td>66.000000</td>\n",
       "    </tr>\n",
       "    <tr>\n",
       "      <th>3</th>\n",
       "      <td>1.1</td>\n",
       "      <td>29.333333</td>\n",
       "    </tr>\n",
       "  </tbody>\n",
       "</table>\n",
       "</div>"
      ],
      "text/plain": [
       "   Balance        Age\n",
       "0     10.4  13.000000\n",
       "1      7.2  19.000000\n",
       "2     22.5  66.000000\n",
       "3      1.1  29.333333"
      ]
     },
     "execution_count": 217,
     "metadata": {},
     "output_type": "execute_result"
    }
   ],
   "source": [
    "toy_test = imp.transform(toy_test)\n",
    "toy_test"
   ]
  },
  {
   "cell_type": "code",
   "execution_count": 218,
   "metadata": {},
   "outputs": [
    {
     "name": "stderr",
     "output_type": "stream",
     "text": [
      "C:\\Users\\Андрей Куликов\\AppData\\Local\\Temp\\ipykernel_13088\\1614832478.py:43: SettingWithCopyWarning: \n",
      "A value is trying to be set on a copy of a slice from a DataFrame.\n",
      "Try using .loc[row_indexer,col_indexer] = value instead\n",
      "\n",
      "See the caveats in the documentation: https://pandas.pydata.org/pandas-docs/stable/user_guide/indexing.html#returning-a-view-versus-a-copy\n",
      "  X[col] = np.where(X[col].isnull(),\n"
     ]
    },
    {
     "data": {
      "text/html": [
       "<div>\n",
       "<style scoped>\n",
       "    .dataframe tbody tr th:only-of-type {\n",
       "        vertical-align: middle;\n",
       "    }\n",
       "\n",
       "    .dataframe tbody tr th {\n",
       "        vertical-align: top;\n",
       "    }\n",
       "\n",
       "    .dataframe thead th {\n",
       "        text-align: right;\n",
       "    }\n",
       "</style>\n",
       "<table border=\"1\" class=\"dataframe\">\n",
       "  <thead>\n",
       "    <tr style=\"text-align: right;\">\n",
       "      <th></th>\n",
       "      <th>Balance</th>\n",
       "      <th>Age</th>\n",
       "    </tr>\n",
       "  </thead>\n",
       "  <tbody>\n",
       "    <tr>\n",
       "      <th>0</th>\n",
       "      <td>8.3</td>\n",
       "      <td>23.000000</td>\n",
       "    </tr>\n",
       "    <tr>\n",
       "      <th>1</th>\n",
       "      <td>NaN</td>\n",
       "      <td>29.000000</td>\n",
       "    </tr>\n",
       "    <tr>\n",
       "      <th>2</th>\n",
       "      <td>10.2</td>\n",
       "      <td>36.000000</td>\n",
       "    </tr>\n",
       "    <tr>\n",
       "      <th>3</th>\n",
       "      <td>3.1</td>\n",
       "      <td>29.333333</td>\n",
       "    </tr>\n",
       "  </tbody>\n",
       "</table>\n",
       "</div>"
      ],
      "text/plain": [
       "   Balance        Age\n",
       "0      8.3  23.000000\n",
       "1      NaN  29.000000\n",
       "2     10.2  36.000000\n",
       "3      3.1  29.333333"
      ]
     },
     "execution_count": 218,
     "metadata": {},
     "output_type": "execute_result"
    }
   ],
   "source": [
    "toy_train = pd.DataFrame(\n",
    "{'Balance': [8.3, np.NaN, 10.2, 3.1],\n",
    "'Age': [23, 29, 36, np.NaN]})\n",
    "# создаем экземпляр класса, отключив копирование\n",
    "imp = MeanImputer(copy=False)\n",
    "# обучаем модель\n",
    "imp.fit(toy_train[['Age']])\n",
    "# применяем модель\n",
    "toy_train['Age'] = imp.transform(toy_train[['Age']])\n",
    "toy_train"
   ]
  },
  {
   "cell_type": "code",
   "execution_count": 219,
   "metadata": {},
   "outputs": [
    {
     "data": {
      "text/plain": [
       "array([[10.4, 13. ],\n",
       "       [ nan, 19. ],\n",
       "       [22.5, 66. ],\n",
       "       [ 1.1,  nan]])"
      ]
     },
     "execution_count": 219,
     "metadata": {},
     "output_type": "execute_result"
    }
   ],
   "source": [
    "np_toy_train = np.array(pd.DataFrame(\n",
    "{'Balance': [8.3, np.NaN, 10.2, 3.1],\n",
    "'Age': [23, 29, 36, np.NaN]}))\n",
    "np_toy_train\n",
    "\n",
    "np_toy_test = np.array(pd.DataFrame(\n",
    "{'Balance': [10.4, np.NaN, 22.5, 1.1],\n",
    "'Age': [13, 19, 66, np.NaN]}))\n",
    "np_toy_test"
   ]
  },
  {
   "cell_type": "code",
   "execution_count": 220,
   "metadata": {},
   "outputs": [
    {
     "data": {
      "text/plain": [
       "array([[ 8.3       , 23.        ],\n",
       "       [ 7.2       , 29.        ],\n",
       "       [10.2       , 36.        ],\n",
       "       [ 3.1       , 29.33333333]])"
      ]
     },
     "execution_count": 220,
     "metadata": {},
     "output_type": "execute_result"
    }
   ],
   "source": [
    "imp.fit(np_toy_train)\n",
    "np_toy_train = imp.transform(np_toy_train)\n",
    "np_toy_train"
   ]
  },
  {
   "cell_type": "code",
   "execution_count": 221,
   "metadata": {},
   "outputs": [
    {
     "data": {
      "text/plain": [
       "array([[10.4       , 13.        ],\n",
       "       [ 7.2       , 19.        ],\n",
       "       [22.5       , 66.        ],\n",
       "       [ 1.1       , 29.33333333]])"
      ]
     },
     "execution_count": 221,
     "metadata": {},
     "output_type": "execute_result"
    }
   ],
   "source": [
    "np_toy_test = imp.transform(np_toy_test)\n",
    "np_toy_test"
   ]
  },
  {
   "cell_type": "code",
   "execution_count": 222,
   "metadata": {},
   "outputs": [],
   "source": [
    "#KNN Model code;\n",
    "\n",
    "class KNN_Estimator():\n",
    "    def _euclidean_distance(self, x1, x2):\n",
    "        distance = 0\n",
    "        for i in range(len(x1)):\n",
    "            distance += pow((x1[i] - x2[i]), 2)\n",
    "        return math.sqrt(distance)\n",
    "    \n",
    "    def _vote(self, neighbor_labels):\n",
    "        counts = np.bincount(neighbor_labels.astype('int'))\n",
    "        return counts.argmax()\n",
    "    \n",
    "    def __init__(self, k=5, task='classification'):\n",
    "        self.k = k\n",
    "        self.task = task\n",
    "        self.k_nearest_neighbors_ = []\n",
    "        \n",
    "    def fit(self, X, y):\n",
    "        self.X_memorized = X\n",
    "        self.y_memorized = y\n",
    "        \n",
    "    def predict(self, X):\n",
    "        y_pred = np.empty(X.shape[0])\n",
    "        if self.task == 'classification':\n",
    "            for i, test_sample in enumerate(X):\n",
    "                idx = np.argsort([self._euclidean_distance(\n",
    "                    test_sample, x) for x in self.X_memorized])[:self.k]\n",
    "                k_nearest_neighbors = np.array(\n",
    "                    [self.y_memorized[i] for i in idx])\n",
    "                self.k_nearest_neighbors_.append(k_nearest_neighbors)\n",
    "                y_pred[i] = self._vote(self.k_nearest_neighbors_[i])\n",
    "        if self.task == 'regression':\n",
    "            for i, test_sample in enumerate(X):\n",
    "                idx = np.argsort([self._euclidean_distance(\n",
    "                    test_sample, x) for x in self.X_memorized])[:self.k]\n",
    "                k_nearest_neighbors = np.array(\n",
    "                    [self.y_memorized[i] for i in idx])\n",
    "                self.k_nearest_neighbors_.append(k_nearest_neighbors)\n",
    "                y_pred[i] = np.mean(self.k_nearest_neighbors_[i])\n",
    "        return y_pred    \n",
    "    "
   ]
  },
  {
   "cell_type": "code",
   "execution_count": 223,
   "metadata": {},
   "outputs": [],
   "source": [
    "#Classification\n",
    "X_trn = np.array([[0.1, 0.2, 0.3],\n",
    "                                [0.7, 0.5, 0.2],\n",
    "                                [0.1, 0.2, 0.2],\n",
    "                                [0.9, 0.7, 3.5],\n",
    "                                [0.2, 0.4, 1.4],\n",
    "                                [0.4, 0.1, 0.5]])\n",
    "\n",
    "y_trn = np.array([1, 0, 1, 0, 0, 1])\n",
    "\n",
    "X_tst = np.array([[0.1, 0.7, 1.1],\n",
    "                                [0.5, 0.3, 2.8],\n",
    "                                [0.1, 0.1, 0.2],\n",
    "                                [0.9, 0.7, 1.5]])"
   ]
  },
  {
   "cell_type": "code",
   "execution_count": 224,
   "metadata": {},
   "outputs": [
    {
     "data": {
      "text/plain": [
       "array([1., 0., 1., 0.])"
      ]
     },
     "execution_count": 224,
     "metadata": {},
     "output_type": "execute_result"
    }
   ],
   "source": [
    "knn = KNN_Estimator(k=3, task='classification')\n",
    "knn.fit(X_trn, y_trn)\n",
    "\n",
    "pred = knn.predict(X_tst)\n",
    "pred"
   ]
  },
  {
   "cell_type": "code",
   "execution_count": 225,
   "metadata": {},
   "outputs": [
    {
     "data": {
      "text/plain": [
       "[array([0, 1, 1]), array([0, 0, 1]), array([1, 1, 1]), array([0, 1, 0])]"
      ]
     },
     "execution_count": 225,
     "metadata": {},
     "output_type": "execute_result"
    }
   ],
   "source": [
    "knn.k_nearest_neighbors_"
   ]
  },
  {
   "cell_type": "code",
   "execution_count": 226,
   "metadata": {},
   "outputs": [],
   "source": [
    "y_trn = np.array([1.2, 0.5, 1.4, 2.2, 3.5, 5.9])"
   ]
  },
  {
   "cell_type": "code",
   "execution_count": 227,
   "metadata": {},
   "outputs": [],
   "source": [
    "knn = KNN_Estimator(k=3, task='regression')\n",
    "knn.fit(X_trn, y_trn)"
   ]
  },
  {
   "cell_type": "code",
   "execution_count": 228,
   "metadata": {},
   "outputs": [
    {
     "data": {
      "text/plain": [
       "array([3.53333333, 3.86666667, 2.83333333, 3.3       ])"
      ]
     },
     "execution_count": 228,
     "metadata": {},
     "output_type": "execute_result"
    }
   ],
   "source": [
    "pred = knn.predict(X_tst)\n",
    "pred"
   ]
  },
  {
   "cell_type": "code",
   "execution_count": 229,
   "metadata": {},
   "outputs": [
    {
     "data": {
      "text/plain": [
       "[array([3.5, 5.9, 1.2]),\n",
       " array([2.2, 3.5, 5.9]),\n",
       " array([1.4, 1.2, 5.9]),\n",
       " array([3.5, 5.9, 0.5])]"
      ]
     },
     "execution_count": 229,
     "metadata": {},
     "output_type": "execute_result"
    }
   ],
   "source": [
    "knn.k_nearest_neighbors_"
   ]
  },
  {
   "cell_type": "code",
   "execution_count": 230,
   "metadata": {},
   "outputs": [],
   "source": [
    "a = [2, 4, 7, 9, 14, 20, 21, 22]\n",
    "b = [3, 5, 8, 10, 14, 20, 21, 30]\n",
    "\n",
    "def seven(a,b):\n",
    "    for i in range(len(a)):\n",
    "            if a[i] % 7 == 0 and b[i] % 7 == 0:\n",
    "                print(a[i])\n",
    "            else:\n",
    "                pass"
   ]
  },
  {
   "cell_type": "code",
   "execution_count": 231,
   "metadata": {},
   "outputs": [
    {
     "name": "stdout",
     "output_type": "stream",
     "text": [
      "14\n",
      "21\n"
     ]
    }
   ],
   "source": [
    "seven(a,b)"
   ]
  },
  {
   "cell_type": "code",
   "execution_count": 232,
   "metadata": {},
   "outputs": [
    {
     "data": {
      "text/plain": [
       "{14, 21}"
      ]
     },
     "execution_count": 232,
     "metadata": {},
     "output_type": "execute_result"
    }
   ],
   "source": [
    "def find(lst1, lst2):\n",
    "    lst1 = [i for i in lst1 if i % 7 == 0]\n",
    "    lst2 = [i for i in lst2 if i % 7 == 0]\n",
    "    return set(lst1) & set(lst2)\n",
    "\n",
    "find(a,b)"
   ]
  },
  {
   "cell_type": "code",
   "execution_count": 233,
   "metadata": {},
   "outputs": [],
   "source": [
    "a = [\"a\", \"b\", \"c\", \"d\", \"e\", \"f\"]\n",
    "b = [1, 0, 9, 3, 2, 0]"
   ]
  },
  {
   "cell_type": "code",
   "execution_count": 234,
   "metadata": {},
   "outputs": [],
   "source": [
    "def get_sorted(lst1, lst2):\n",
    "    lst_tmp = [x for x in zip(lst1, lst2)]\n",
    "    lst_tmp.sort(key=lambda x: x[1])\n",
    "    return [x[0] for x in lst_tmp]"
   ]
  },
  {
   "cell_type": "code",
   "execution_count": 235,
   "metadata": {},
   "outputs": [
    {
     "data": {
      "text/plain": [
       "['b', 'f', 'a', 'e', 'd', 'c']"
      ]
     },
     "execution_count": 235,
     "metadata": {},
     "output_type": "execute_result"
    }
   ],
   "source": [
    "get_sorted(a,b)"
   ]
  },
  {
   "cell_type": "code",
   "execution_count": 236,
   "metadata": {},
   "outputs": [
    {
     "data": {
      "text/plain": [
       "[('a', 1), ('b', 0), ('c', 9), ('d', 3), ('e', 2), ('f', 0)]"
      ]
     },
     "execution_count": 236,
     "metadata": {},
     "output_type": "execute_result"
    }
   ],
   "source": [
    "z = zip(a,b)\n",
    "z = list(z)\n",
    "z"
   ]
  },
  {
   "cell_type": "code",
   "execution_count": 237,
   "metadata": {},
   "outputs": [],
   "source": [
    "#Pipeline\n",
    "\n",
    "import pandas as pd\n",
    "import numpy as np\n",
    "import os\n",
    "from sklearn.model_selection import train_test_split\n",
    "from sklearn.preprocessing import StandardScaler\n",
    "from sklearn.linear_model import LogisticRegression"
   ]
  },
  {
   "cell_type": "code",
   "execution_count": 238,
   "metadata": {},
   "outputs": [
    {
     "data": {
      "text/plain": [
       "'f:\\\\KULIKOV\\\\ML\\\\MLCourseAI\\\\Data Analytics 2023 V2\\\\ML DA may 2023'"
      ]
     },
     "execution_count": 238,
     "metadata": {},
     "output_type": "execute_result"
    }
   ],
   "source": [
    "os.getcwd()"
   ]
  },
  {
   "cell_type": "code",
   "execution_count": 239,
   "metadata": {},
   "outputs": [],
   "source": [
    "#Loaddataset\n",
    "from sklearn.datasets import fetch_covtype\n",
    "import pandas as pd\n",
    "#https://scikit-learn.ru/7-2-real-world-datasets/\n",
    "#https://scikit-learn.org/stable/auto_examples/miscellaneous/plot_outlier_detection_bench.html#sphx-glr-auto-examples-miscellaneous-plot-outlier-detection-bench-py\n",
    "\n",
    "X, y = fetch_covtype(return_X_y=True, as_frame=True)\n",
    "s = (y == 2) + (y == 4)\n",
    "X = X.loc[s]\n",
    "y = y.loc[s]\n",
    "y = (y != 2).astype(np.int32)\n",
    "\n",
    "#X, _, y, _ = train_test_split(X, y, train_size=0.05, stratify=y, random_state=42)\n",
    "\n",
    "X_train, X_test, y_train, y_test = train_test_split(X, y, test_size=0.3, stratify=y, random_state=42)"
   ]
  },
  {
   "cell_type": "code",
   "execution_count": 240,
   "metadata": {},
   "outputs": [],
   "source": [
    "#Scaling\n",
    "standardscaler = StandardScaler()\n",
    "standardscaler.fit(X_train)\n",
    "# Transform ONLY to train and test, not to X. Because in X - other meanings.\n",
    "X_train_standardscaled = standardscaler.transform(X_train)  \n",
    "X_test_standardscaled = standardscaler.transform(X_test)"
   ]
  },
  {
   "cell_type": "code",
   "execution_count": 241,
   "metadata": {},
   "outputs": [
    {
     "name": "stdout",
     "output_type": "stream",
     "text": [
      "Score train: 1.000\n",
      "Score test: 1.000\n"
     ]
    }
   ],
   "source": [
    "#TFitting\n",
    "logreg = LogisticRegression(solver='lbfgs', max_iter=400)\n",
    "logreg.fit(X_train_standardscaled, y_train)\n",
    "print(\"Score train: {:.3f}\".format(\n",
    "logreg.score(X_train_standardscaled, y_train)))\n",
    "print(\"Score test: {:.3f}\".format(\n",
    "logreg.score(X_train_standardscaled, y_train)))"
   ]
  },
  {
   "cell_type": "code",
   "execution_count": 242,
   "metadata": {},
   "outputs": [
    {
     "name": "stdout",
     "output_type": "stream",
     "text": [
      "Score train: 1.000\n",
      "Score test: 1.000\n"
     ]
    }
   ],
   "source": [
    "#Getting score\n",
    "train_score = logreg.score(X_train_standardscaled, y_train)\n",
    "test_score = logreg.score(X_test_standardscaled, y_test)\n",
    "print(f\"Score train: {train_score:.3f}\")\n",
    "print(f\"Score test: {test_score:.3f}\")"
   ]
  },
  {
   "cell_type": "code",
   "execution_count": 243,
   "metadata": {},
   "outputs": [
    {
     "name": "stdout",
     "output_type": "stream",
     "text": [
      "Score train: 1.000\n",
      "Score test: 1.000\n"
     ]
    }
   ],
   "source": [
    "print(\"Score train: %.3f\" % train_score)\n",
    "print(\"Score test: %.3f\" % test_score)"
   ]
  },
  {
   "cell_type": "code",
   "execution_count": 244,
   "metadata": {},
   "outputs": [
    {
     "data": {
      "text/plain": [
       "array([0, 0, 0, ..., 0, 0, 0])"
      ]
     },
     "execution_count": 244,
     "metadata": {},
     "output_type": "execute_result"
    }
   ],
   "source": [
    "#Predictiong\n",
    "logreg_pred = logreg.predict(X_test_standardscaled)\n",
    "logreg_pred"
   ]
  },
  {
   "cell_type": "code",
   "execution_count": 245,
   "metadata": {},
   "outputs": [
    {
     "data": {
      "text/plain": [
       "array([[9.99999997e-01, 3.43359067e-09],\n",
       "       [9.99999998e-01, 2.17678902e-09],\n",
       "       [1.00000000e+00, 1.21786506e-12],\n",
       "       ...,\n",
       "       [1.00000000e+00, 2.28650412e-10],\n",
       "       [1.00000000e+00, 3.19741413e-12],\n",
       "       [1.00000000e+00, 6.61051203e-19]])"
      ]
     },
     "execution_count": 245,
     "metadata": {},
     "output_type": "execute_result"
    }
   ],
   "source": [
    "#Predicting probability\n",
    "logreg_pred = logreg.predict_proba(X_test_standardscaled)\n",
    "logreg_pred"
   ]
  },
  {
   "cell_type": "code",
   "execution_count": 246,
   "metadata": {},
   "outputs": [
    {
     "data": {
      "text/plain": [
       "array([-25.609])"
      ]
     },
     "execution_count": 246,
     "metadata": {},
     "output_type": "execute_result"
    }
   ],
   "source": [
    "#Constant\n",
    "intercept = np.round(logreg.intercept_, 3)\n",
    "intercept"
   ]
  },
  {
   "cell_type": "code",
   "execution_count": 247,
   "metadata": {},
   "outputs": [
    {
     "data": {
      "text/plain": [
       "array([[-6.863e+00, -4.450e-01,  4.950e-01, -4.370e-01, -3.320e-01,\n",
       "         4.905e+00,  9.090e-01,  1.671e+00, -1.179e+00,  1.724e+00,\n",
       "        -2.480e-01,  1.000e-03, -2.350e-01,  1.721e+00,  2.110e-01,\n",
       "        -4.000e-03,  5.290e-01,  1.100e-02,  1.590e-01,  1.800e-01,\n",
       "        -1.000e-03, -1.000e-03, -1.000e-03, -1.590e-01,  5.040e-01,\n",
       "        -1.900e-02, -1.000e-03,  1.890e-01,  0.000e+00, -6.400e-02,\n",
       "         2.500e-02, -5.600e-02, -0.000e+00, -3.900e-02,  0.000e+00,\n",
       "         1.000e-03, -0.000e+00, -1.100e-02,  0.000e+00, -4.000e-03,\n",
       "         1.000e-03,  0.000e+00, -8.100e-02, -2.860e-01,  1.000e-03,\n",
       "         2.000e-03,  1.000e-03,  0.000e+00,  0.000e+00,  0.000e+00,\n",
       "         0.000e+00,  1.000e-03,  0.000e+00,  0.000e+00]])"
      ]
     },
     "execution_count": 247,
     "metadata": {},
     "output_type": "execute_result"
    }
   ],
   "source": [
    "#Coef\n",
    "coef = np.round(logreg.coef_, 3)\n",
    "coef"
   ]
  },
  {
   "cell_type": "code",
   "execution_count": 248,
   "metadata": {},
   "outputs": [
    {
     "data": {
      "text/plain": [
       "array([0, 1])"
      ]
     },
     "execution_count": 248,
     "metadata": {},
     "output_type": "execute_result"
    }
   ],
   "source": [
    "#Classes\n",
    "classes = np.round(logreg.classes_, 3)\n",
    "classes"
   ]
  },
  {
   "cell_type": "code",
   "execution_count": 249,
   "metadata": {},
   "outputs": [
    {
     "data": {
      "text/plain": [
       "array([-6.86335327e+00, -4.44872949e-01,  4.95230289e-01, -4.37066814e-01,\n",
       "       -3.32491131e-01,  4.90456158e+00,  9.09293036e-01,  1.67094079e+00,\n",
       "       -1.17893584e+00,  1.72418089e+00, -2.47727420e-01,  1.30181700e-03,\n",
       "       -2.34978485e-01,  1.72075737e+00,  2.11016259e-01, -3.53628838e-03,\n",
       "        5.28561367e-01,  1.07845255e-02,  1.59423234e-01,  1.79662757e-01,\n",
       "       -9.17802709e-04, -1.34119874e-03, -7.05269441e-04, -1.59042417e-01,\n",
       "        5.03849394e-01, -1.86944028e-02, -9.44020346e-04,  1.89178845e-01,\n",
       "        0.00000000e+00, -6.44847844e-02,  2.51200087e-02, -5.58369297e-02,\n",
       "       -2.29150022e-04, -3.91221385e-02,  6.21205535e-05,  8.62002215e-04,\n",
       "       -2.76901069e-04, -1.08280955e-02,  2.09934128e-04, -4.11126506e-03,\n",
       "        6.19675404e-04,  2.48454983e-04, -8.14092955e-02, -2.86473120e-01,\n",
       "        5.78602864e-04,  1.72477402e-03,  5.40896563e-04,  3.61707208e-04,\n",
       "        8.77095533e-05,  1.56332368e-04,  0.00000000e+00,  6.12474037e-04,\n",
       "        4.17828904e-04,  4.74171341e-04])"
      ]
     },
     "execution_count": 249,
     "metadata": {},
     "output_type": "execute_result"
    }
   ],
   "source": [
    "logreg.coef_[0]"
   ]
  },
  {
   "cell_type": "code",
   "execution_count": 250,
   "metadata": {},
   "outputs": [
    {
     "name": "stdout",
     "output_type": "stream",
     "text": [
      "Elevation -6.863353273500244\n",
      "Aspect -0.44487294882555245\n",
      "Slope 0.4952302886105166\n",
      "Horizontal_Distance_To_Hydrology -0.4370668139499791\n",
      "Vertical_Distance_To_Hydrology -0.3324911313472247\n",
      "Horizontal_Distance_To_Roadways 4.904561581176035\n",
      "Hillshade_9am 0.9092930360668068\n",
      "Hillshade_Noon 1.6709407882924503\n",
      "Hillshade_3pm -1.1789358445753517\n",
      "Horizontal_Distance_To_Fire_Points 1.7241808871037037\n",
      "Wilderness_Area_0 -0.2477274195599548\n",
      "Wilderness_Area_1 0.0013018169964458474\n",
      "Wilderness_Area_2 -0.23497848521813966\n",
      "Wilderness_Area_3 1.7207573721353782\n",
      "Soil_Type_0 0.2110162589754352\n",
      "Soil_Type_1 -0.003536288377687285\n",
      "Soil_Type_2 0.5285613673827958\n",
      "Soil_Type_3 0.010784525517597626\n",
      "Soil_Type_4 0.1594232336686379\n",
      "Soil_Type_5 0.1796627570199406\n",
      "Soil_Type_6 -0.0009178027089207292\n",
      "Soil_Type_7 -0.0013411987397579893\n",
      "Soil_Type_8 -0.0007052694408819774\n",
      "Soil_Type_9 -0.1590424166118983\n",
      "Soil_Type_10 0.5038493940734217\n",
      "Soil_Type_11 -0.018694402803804383\n",
      "Soil_Type_12 -0.000944020346388549\n",
      "Soil_Type_13 0.18917884459680007\n",
      "Soil_Type_14 0.0\n",
      "Soil_Type_15 -0.06448478440581064\n",
      "Soil_Type_16 0.025120008713496473\n",
      "Soil_Type_17 -0.05583692966780314\n",
      "Soil_Type_18 -0.00022915002220328572\n",
      "Soil_Type_19 -0.039122138522166255\n",
      "Soil_Type_20 6.212055351544291e-05\n",
      "Soil_Type_21 0.0008620022146014992\n",
      "Soil_Type_22 -0.0002769010687539519\n",
      "Soil_Type_23 -0.010828095484330103\n",
      "Soil_Type_24 0.00020993412834998656\n",
      "Soil_Type_25 -0.004111265064822586\n",
      "Soil_Type_26 0.0006196754035057446\n",
      "Soil_Type_27 0.00024845498275235844\n",
      "Soil_Type_28 -0.08140929545421263\n",
      "Soil_Type_29 -0.2864731195390056\n",
      "Soil_Type_30 0.0005786028637214152\n",
      "Soil_Type_31 0.0017247740215853551\n",
      "Soil_Type_32 0.0005408965629223272\n",
      "Soil_Type_33 0.00036170720814086485\n",
      "Soil_Type_34 8.770955328582586e-05\n",
      "Soil_Type_35 0.0001563323680067643\n",
      "Soil_Type_36 0.0\n",
      "Soil_Type_37 0.0006124740372652737\n",
      "Soil_Type_38 0.00041782890361261304\n",
      "Soil_Type_39 0.0004741713412261966\n"
     ]
    }
   ],
   "source": [
    "#Coef for features\n",
    "for i,feature in zip(logreg.coef_[0], X_train.columns):\n",
    "    print(feature, i)"
   ]
  },
  {
   "cell_type": "code",
   "execution_count": 251,
   "metadata": {},
   "outputs": [],
   "source": [
    "#Bootstrap and out-of-bag\n",
    "from IPython.display import display\n",
    "from sklearn.preprocessing import StandardScaler\n",
    "from sklearn.linear_model import LogisticRegression\n",
    "from sklearn.tree import DecisionTreeRegressor"
   ]
  },
  {
   "cell_type": "code",
   "execution_count": 254,
   "metadata": {},
   "outputs": [
    {
     "data": {
      "text/html": [
       "<div>\n",
       "<style scoped>\n",
       "    .dataframe tbody tr th:only-of-type {\n",
       "        vertical-align: middle;\n",
       "    }\n",
       "\n",
       "    .dataframe tbody tr th {\n",
       "        vertical-align: top;\n",
       "    }\n",
       "\n",
       "    .dataframe thead th {\n",
       "        text-align: right;\n",
       "    }\n",
       "</style>\n",
       "<table border=\"1\" class=\"dataframe\">\n",
       "  <thead>\n",
       "    <tr style=\"text-align: right;\">\n",
       "      <th></th>\n",
       "      <th>Elevation</th>\n",
       "      <th>Aspect</th>\n",
       "      <th>Slope</th>\n",
       "      <th>Horizontal_Distance_To_Hydrology</th>\n",
       "      <th>Vertical_Distance_To_Hydrology</th>\n",
       "      <th>Horizontal_Distance_To_Roadways</th>\n",
       "      <th>Hillshade_9am</th>\n",
       "      <th>Hillshade_Noon</th>\n",
       "      <th>Hillshade_3pm</th>\n",
       "      <th>Horizontal_Distance_To_Fire_Points</th>\n",
       "      <th>...</th>\n",
       "      <th>Soil_Type_30</th>\n",
       "      <th>Soil_Type_31</th>\n",
       "      <th>Soil_Type_32</th>\n",
       "      <th>Soil_Type_33</th>\n",
       "      <th>Soil_Type_34</th>\n",
       "      <th>Soil_Type_35</th>\n",
       "      <th>Soil_Type_36</th>\n",
       "      <th>Soil_Type_37</th>\n",
       "      <th>Soil_Type_38</th>\n",
       "      <th>Soil_Type_39</th>\n",
       "    </tr>\n",
       "  </thead>\n",
       "  <tbody>\n",
       "    <tr>\n",
       "      <th>2</th>\n",
       "      <td>2804.0</td>\n",
       "      <td>139.0</td>\n",
       "      <td>9.0</td>\n",
       "      <td>268.0</td>\n",
       "      <td>65.0</td>\n",
       "      <td>3180.0</td>\n",
       "      <td>234.0</td>\n",
       "      <td>238.0</td>\n",
       "      <td>135.0</td>\n",
       "      <td>6121.0</td>\n",
       "      <td>...</td>\n",
       "      <td>0.0</td>\n",
       "      <td>0.0</td>\n",
       "      <td>0.0</td>\n",
       "      <td>0.0</td>\n",
       "      <td>0.0</td>\n",
       "      <td>0.0</td>\n",
       "      <td>0.0</td>\n",
       "      <td>0.0</td>\n",
       "      <td>0.0</td>\n",
       "      <td>0.0</td>\n",
       "    </tr>\n",
       "    <tr>\n",
       "      <th>3</th>\n",
       "      <td>2785.0</td>\n",
       "      <td>155.0</td>\n",
       "      <td>18.0</td>\n",
       "      <td>242.0</td>\n",
       "      <td>118.0</td>\n",
       "      <td>3090.0</td>\n",
       "      <td>238.0</td>\n",
       "      <td>238.0</td>\n",
       "      <td>122.0</td>\n",
       "      <td>6211.0</td>\n",
       "      <td>...</td>\n",
       "      <td>0.0</td>\n",
       "      <td>0.0</td>\n",
       "      <td>0.0</td>\n",
       "      <td>0.0</td>\n",
       "      <td>0.0</td>\n",
       "      <td>0.0</td>\n",
       "      <td>0.0</td>\n",
       "      <td>0.0</td>\n",
       "      <td>0.0</td>\n",
       "      <td>0.0</td>\n",
       "    </tr>\n",
       "    <tr>\n",
       "      <th>5</th>\n",
       "      <td>2579.0</td>\n",
       "      <td>132.0</td>\n",
       "      <td>6.0</td>\n",
       "      <td>300.0</td>\n",
       "      <td>-15.0</td>\n",
       "      <td>67.0</td>\n",
       "      <td>230.0</td>\n",
       "      <td>237.0</td>\n",
       "      <td>140.0</td>\n",
       "      <td>6031.0</td>\n",
       "      <td>...</td>\n",
       "      <td>0.0</td>\n",
       "      <td>0.0</td>\n",
       "      <td>0.0</td>\n",
       "      <td>0.0</td>\n",
       "      <td>0.0</td>\n",
       "      <td>0.0</td>\n",
       "      <td>0.0</td>\n",
       "      <td>0.0</td>\n",
       "      <td>0.0</td>\n",
       "      <td>0.0</td>\n",
       "    </tr>\n",
       "    <tr>\n",
       "      <th>11</th>\n",
       "      <td>2886.0</td>\n",
       "      <td>151.0</td>\n",
       "      <td>11.0</td>\n",
       "      <td>371.0</td>\n",
       "      <td>26.0</td>\n",
       "      <td>5253.0</td>\n",
       "      <td>234.0</td>\n",
       "      <td>240.0</td>\n",
       "      <td>136.0</td>\n",
       "      <td>4051.0</td>\n",
       "      <td>...</td>\n",
       "      <td>0.0</td>\n",
       "      <td>0.0</td>\n",
       "      <td>0.0</td>\n",
       "      <td>0.0</td>\n",
       "      <td>0.0</td>\n",
       "      <td>0.0</td>\n",
       "      <td>0.0</td>\n",
       "      <td>0.0</td>\n",
       "      <td>0.0</td>\n",
       "      <td>0.0</td>\n",
       "    </tr>\n",
       "    <tr>\n",
       "      <th>12</th>\n",
       "      <td>2742.0</td>\n",
       "      <td>134.0</td>\n",
       "      <td>22.0</td>\n",
       "      <td>150.0</td>\n",
       "      <td>69.0</td>\n",
       "      <td>3215.0</td>\n",
       "      <td>248.0</td>\n",
       "      <td>224.0</td>\n",
       "      <td>92.0</td>\n",
       "      <td>6091.0</td>\n",
       "      <td>...</td>\n",
       "      <td>0.0</td>\n",
       "      <td>0.0</td>\n",
       "      <td>0.0</td>\n",
       "      <td>0.0</td>\n",
       "      <td>0.0</td>\n",
       "      <td>0.0</td>\n",
       "      <td>0.0</td>\n",
       "      <td>0.0</td>\n",
       "      <td>0.0</td>\n",
       "      <td>0.0</td>\n",
       "    </tr>\n",
       "    <tr>\n",
       "      <th>...</th>\n",
       "      <td>...</td>\n",
       "      <td>...</td>\n",
       "      <td>...</td>\n",
       "      <td>...</td>\n",
       "      <td>...</td>\n",
       "      <td>...</td>\n",
       "      <td>...</td>\n",
       "      <td>...</td>\n",
       "      <td>...</td>\n",
       "      <td>...</td>\n",
       "      <td>...</td>\n",
       "      <td>...</td>\n",
       "      <td>...</td>\n",
       "      <td>...</td>\n",
       "      <td>...</td>\n",
       "      <td>...</td>\n",
       "      <td>...</td>\n",
       "      <td>...</td>\n",
       "      <td>...</td>\n",
       "      <td>...</td>\n",
       "      <td>...</td>\n",
       "    </tr>\n",
       "    <tr>\n",
       "      <th>576882</th>\n",
       "      <td>2617.0</td>\n",
       "      <td>29.0</td>\n",
       "      <td>13.0</td>\n",
       "      <td>390.0</td>\n",
       "      <td>128.0</td>\n",
       "      <td>2081.0</td>\n",
       "      <td>215.0</td>\n",
       "      <td>211.0</td>\n",
       "      <td>130.0</td>\n",
       "      <td>592.0</td>\n",
       "      <td>...</td>\n",
       "      <td>0.0</td>\n",
       "      <td>0.0</td>\n",
       "      <td>0.0</td>\n",
       "      <td>0.0</td>\n",
       "      <td>0.0</td>\n",
       "      <td>0.0</td>\n",
       "      <td>0.0</td>\n",
       "      <td>0.0</td>\n",
       "      <td>0.0</td>\n",
       "      <td>0.0</td>\n",
       "    </tr>\n",
       "    <tr>\n",
       "      <th>576883</th>\n",
       "      <td>2614.0</td>\n",
       "      <td>21.0</td>\n",
       "      <td>13.0</td>\n",
       "      <td>379.0</td>\n",
       "      <td>125.0</td>\n",
       "      <td>2051.0</td>\n",
       "      <td>211.0</td>\n",
       "      <td>212.0</td>\n",
       "      <td>135.0</td>\n",
       "      <td>618.0</td>\n",
       "      <td>...</td>\n",
       "      <td>0.0</td>\n",
       "      <td>0.0</td>\n",
       "      <td>0.0</td>\n",
       "      <td>0.0</td>\n",
       "      <td>0.0</td>\n",
       "      <td>0.0</td>\n",
       "      <td>0.0</td>\n",
       "      <td>0.0</td>\n",
       "      <td>0.0</td>\n",
       "      <td>0.0</td>\n",
       "    </tr>\n",
       "    <tr>\n",
       "      <th>576884</th>\n",
       "      <td>2612.0</td>\n",
       "      <td>17.0</td>\n",
       "      <td>13.0</td>\n",
       "      <td>371.0</td>\n",
       "      <td>123.0</td>\n",
       "      <td>2021.0</td>\n",
       "      <td>208.0</td>\n",
       "      <td>211.0</td>\n",
       "      <td>138.0</td>\n",
       "      <td>644.0</td>\n",
       "      <td>...</td>\n",
       "      <td>0.0</td>\n",
       "      <td>0.0</td>\n",
       "      <td>0.0</td>\n",
       "      <td>0.0</td>\n",
       "      <td>0.0</td>\n",
       "      <td>0.0</td>\n",
       "      <td>0.0</td>\n",
       "      <td>0.0</td>\n",
       "      <td>0.0</td>\n",
       "      <td>0.0</td>\n",
       "    </tr>\n",
       "    <tr>\n",
       "      <th>576885</th>\n",
       "      <td>2610.0</td>\n",
       "      <td>16.0</td>\n",
       "      <td>14.0</td>\n",
       "      <td>365.0</td>\n",
       "      <td>110.0</td>\n",
       "      <td>1991.0</td>\n",
       "      <td>208.0</td>\n",
       "      <td>211.0</td>\n",
       "      <td>138.0</td>\n",
       "      <td>671.0</td>\n",
       "      <td>...</td>\n",
       "      <td>0.0</td>\n",
       "      <td>0.0</td>\n",
       "      <td>0.0</td>\n",
       "      <td>0.0</td>\n",
       "      <td>0.0</td>\n",
       "      <td>0.0</td>\n",
       "      <td>0.0</td>\n",
       "      <td>0.0</td>\n",
       "      <td>0.0</td>\n",
       "      <td>0.0</td>\n",
       "    </tr>\n",
       "    <tr>\n",
       "      <th>576886</th>\n",
       "      <td>2608.0</td>\n",
       "      <td>23.0</td>\n",
       "      <td>14.0</td>\n",
       "      <td>361.0</td>\n",
       "      <td>108.0</td>\n",
       "      <td>1961.0</td>\n",
       "      <td>211.0</td>\n",
       "      <td>209.0</td>\n",
       "      <td>131.0</td>\n",
       "      <td>698.0</td>\n",
       "      <td>...</td>\n",
       "      <td>0.0</td>\n",
       "      <td>0.0</td>\n",
       "      <td>0.0</td>\n",
       "      <td>0.0</td>\n",
       "      <td>0.0</td>\n",
       "      <td>0.0</td>\n",
       "      <td>0.0</td>\n",
       "      <td>0.0</td>\n",
       "      <td>0.0</td>\n",
       "      <td>0.0</td>\n",
       "    </tr>\n",
       "  </tbody>\n",
       "</table>\n",
       "<p>286048 rows × 54 columns</p>\n",
       "</div>"
      ],
      "text/plain": [
       "        Elevation  Aspect  Slope  Horizontal_Distance_To_Hydrology  \\\n",
       "2          2804.0   139.0    9.0                             268.0   \n",
       "3          2785.0   155.0   18.0                             242.0   \n",
       "5          2579.0   132.0    6.0                             300.0   \n",
       "11         2886.0   151.0   11.0                             371.0   \n",
       "12         2742.0   134.0   22.0                             150.0   \n",
       "...           ...     ...    ...                               ...   \n",
       "576882     2617.0    29.0   13.0                             390.0   \n",
       "576883     2614.0    21.0   13.0                             379.0   \n",
       "576884     2612.0    17.0   13.0                             371.0   \n",
       "576885     2610.0    16.0   14.0                             365.0   \n",
       "576886     2608.0    23.0   14.0                             361.0   \n",
       "\n",
       "        Vertical_Distance_To_Hydrology  Horizontal_Distance_To_Roadways  \\\n",
       "2                                 65.0                           3180.0   \n",
       "3                                118.0                           3090.0   \n",
       "5                                -15.0                             67.0   \n",
       "11                                26.0                           5253.0   \n",
       "12                                69.0                           3215.0   \n",
       "...                                ...                              ...   \n",
       "576882                           128.0                           2081.0   \n",
       "576883                           125.0                           2051.0   \n",
       "576884                           123.0                           2021.0   \n",
       "576885                           110.0                           1991.0   \n",
       "576886                           108.0                           1961.0   \n",
       "\n",
       "        Hillshade_9am  Hillshade_Noon  Hillshade_3pm  \\\n",
       "2               234.0           238.0          135.0   \n",
       "3               238.0           238.0          122.0   \n",
       "5               230.0           237.0          140.0   \n",
       "11              234.0           240.0          136.0   \n",
       "12              248.0           224.0           92.0   \n",
       "...               ...             ...            ...   \n",
       "576882          215.0           211.0          130.0   \n",
       "576883          211.0           212.0          135.0   \n",
       "576884          208.0           211.0          138.0   \n",
       "576885          208.0           211.0          138.0   \n",
       "576886          211.0           209.0          131.0   \n",
       "\n",
       "        Horizontal_Distance_To_Fire_Points  ...  Soil_Type_30  Soil_Type_31  \\\n",
       "2                                   6121.0  ...           0.0           0.0   \n",
       "3                                   6211.0  ...           0.0           0.0   \n",
       "5                                   6031.0  ...           0.0           0.0   \n",
       "11                                  4051.0  ...           0.0           0.0   \n",
       "12                                  6091.0  ...           0.0           0.0   \n",
       "...                                    ...  ...           ...           ...   \n",
       "576882                               592.0  ...           0.0           0.0   \n",
       "576883                               618.0  ...           0.0           0.0   \n",
       "576884                               644.0  ...           0.0           0.0   \n",
       "576885                               671.0  ...           0.0           0.0   \n",
       "576886                               698.0  ...           0.0           0.0   \n",
       "\n",
       "        Soil_Type_32  Soil_Type_33  Soil_Type_34  Soil_Type_35  Soil_Type_36  \\\n",
       "2                0.0           0.0           0.0           0.0           0.0   \n",
       "3                0.0           0.0           0.0           0.0           0.0   \n",
       "5                0.0           0.0           0.0           0.0           0.0   \n",
       "11               0.0           0.0           0.0           0.0           0.0   \n",
       "12               0.0           0.0           0.0           0.0           0.0   \n",
       "...              ...           ...           ...           ...           ...   \n",
       "576882           0.0           0.0           0.0           0.0           0.0   \n",
       "576883           0.0           0.0           0.0           0.0           0.0   \n",
       "576884           0.0           0.0           0.0           0.0           0.0   \n",
       "576885           0.0           0.0           0.0           0.0           0.0   \n",
       "576886           0.0           0.0           0.0           0.0           0.0   \n",
       "\n",
       "        Soil_Type_37  Soil_Type_38  Soil_Type_39  \n",
       "2                0.0           0.0           0.0  \n",
       "3                0.0           0.0           0.0  \n",
       "5                0.0           0.0           0.0  \n",
       "11               0.0           0.0           0.0  \n",
       "12               0.0           0.0           0.0  \n",
       "...              ...           ...           ...  \n",
       "576882           0.0           0.0           0.0  \n",
       "576883           0.0           0.0           0.0  \n",
       "576884           0.0           0.0           0.0  \n",
       "576885           0.0           0.0           0.0  \n",
       "576886           0.0           0.0           0.0  \n",
       "\n",
       "[286048 rows x 54 columns]"
      ]
     },
     "execution_count": 254,
     "metadata": {},
     "output_type": "execute_result"
    }
   ],
   "source": [
    "X"
   ]
  },
  {
   "cell_type": "code",
   "execution_count": 296,
   "metadata": {},
   "outputs": [],
   "source": [
    "#Toy regression\n",
    "\n",
    "var_lst = ['Aspect', 'Slope',\n",
    "'Horizontal_Distance_To_Hydrology', 'Elevation']\n",
    "toy_data = X[var_lst].head(10)\n",
    "toy_labels = toy_data.pop('Elevation')"
   ]
  },
  {
   "cell_type": "code",
   "execution_count": 310,
   "metadata": {},
   "outputs": [
    {
     "data": {
      "text/plain": [
       "(10, 3)"
      ]
     },
     "execution_count": 310,
     "metadata": {},
     "output_type": "execute_result"
    }
   ],
   "source": [
    "toy_data.shape"
   ]
  },
  {
   "cell_type": "code",
   "execution_count": 308,
   "metadata": {},
   "outputs": [
    {
     "data": {
      "text/plain": [
       "(10,)"
      ]
     },
     "metadata": {},
     "output_type": "display_data"
    },
    {
     "data": {
      "text/html": [
       "<div>\n",
       "<style scoped>\n",
       "    .dataframe tbody tr th:only-of-type {\n",
       "        vertical-align: middle;\n",
       "    }\n",
       "\n",
       "    .dataframe tbody tr th {\n",
       "        vertical-align: top;\n",
       "    }\n",
       "\n",
       "    .dataframe thead th {\n",
       "        text-align: right;\n",
       "    }\n",
       "</style>\n",
       "<table border=\"1\" class=\"dataframe\">\n",
       "  <thead>\n",
       "    <tr style=\"text-align: right;\">\n",
       "      <th></th>\n",
       "      <th>Aspect</th>\n",
       "      <th>Slope</th>\n",
       "      <th>Horizontal_Distance_To_Hydrology</th>\n",
       "    </tr>\n",
       "  </thead>\n",
       "  <tbody>\n",
       "    <tr>\n",
       "      <th>27</th>\n",
       "      <td>148.0</td>\n",
       "      <td>16.0</td>\n",
       "      <td>323.0</td>\n",
       "    </tr>\n",
       "    <tr>\n",
       "      <th>11</th>\n",
       "      <td>151.0</td>\n",
       "      <td>11.0</td>\n",
       "      <td>371.0</td>\n",
       "    </tr>\n",
       "    <tr>\n",
       "      <th>28</th>\n",
       "      <td>135.0</td>\n",
       "      <td>1.0</td>\n",
       "      <td>212.0</td>\n",
       "    </tr>\n",
       "    <tr>\n",
       "      <th>12</th>\n",
       "      <td>134.0</td>\n",
       "      <td>22.0</td>\n",
       "      <td>150.0</td>\n",
       "    </tr>\n",
       "    <tr>\n",
       "      <th>27</th>\n",
       "      <td>148.0</td>\n",
       "      <td>16.0</td>\n",
       "      <td>323.0</td>\n",
       "    </tr>\n",
       "    <tr>\n",
       "      <th>41</th>\n",
       "      <td>346.0</td>\n",
       "      <td>2.0</td>\n",
       "      <td>0.0</td>\n",
       "    </tr>\n",
       "    <tr>\n",
       "      <th>5</th>\n",
       "      <td>132.0</td>\n",
       "      <td>6.0</td>\n",
       "      <td>300.0</td>\n",
       "    </tr>\n",
       "    <tr>\n",
       "      <th>27</th>\n",
       "      <td>148.0</td>\n",
       "      <td>16.0</td>\n",
       "      <td>323.0</td>\n",
       "    </tr>\n",
       "    <tr>\n",
       "      <th>28</th>\n",
       "      <td>135.0</td>\n",
       "      <td>1.0</td>\n",
       "      <td>212.0</td>\n",
       "    </tr>\n",
       "    <tr>\n",
       "      <th>12</th>\n",
       "      <td>134.0</td>\n",
       "      <td>22.0</td>\n",
       "      <td>150.0</td>\n",
       "    </tr>\n",
       "  </tbody>\n",
       "</table>\n",
       "</div>"
      ],
      "text/plain": [
       "    Aspect  Slope  Horizontal_Distance_To_Hydrology\n",
       "27   148.0   16.0                             323.0\n",
       "11   151.0   11.0                             371.0\n",
       "28   135.0    1.0                             212.0\n",
       "12   134.0   22.0                             150.0\n",
       "27   148.0   16.0                             323.0\n",
       "41   346.0    2.0                               0.0\n",
       "5    132.0    6.0                             300.0\n",
       "27   148.0   16.0                             323.0\n",
       "28   135.0    1.0                             212.0\n",
       "12   134.0   22.0                             150.0"
      ]
     },
     "metadata": {},
     "output_type": "display_data"
    },
    {
     "data": {
      "text/plain": [
       "27    2962.0\n",
       "11    2886.0\n",
       "28    2811.0\n",
       "12    2742.0\n",
       "27    2962.0\n",
       "41    2570.0\n",
       "5     2579.0\n",
       "27    2962.0\n",
       "28    2811.0\n",
       "12    2742.0\n",
       "Name: Elevation, dtype: float64"
      ]
     },
     "metadata": {},
     "output_type": "display_data"
    }
   ],
   "source": [
    "#Bootstrap - values can be repeated\n",
    "sample_indices = np.arange(toy_data.shape[0])\n",
    "rng = np.random.RandomState(42)\n",
    "bootstrap_indices = rng.choice(sample_indices,\n",
    "                               size=sample_indices.shape[0],\n",
    "                               replace=True)\n",
    "display(bootstrap_indices.shape)\n",
    "toy_data_boot = toy_data.iloc[bootstrap_indices]\n",
    "toy_labels_boot = toy_labels.iloc[bootstrap_indices]\n",
    "display(toy_data_boot)\n",
    "display(toy_labels_boot)"
   ]
  },
  {
   "cell_type": "code",
   "execution_count": 309,
   "metadata": {},
   "outputs": [
    {
     "data": {
      "text/plain": [
       "6"
      ]
     },
     "execution_count": 309,
     "metadata": {},
     "output_type": "execute_result"
    }
   ],
   "source": [
    "toy_labels_boot.nunique()"
   ]
  },
  {
   "cell_type": "code",
   "execution_count": 311,
   "metadata": {},
   "outputs": [
    {
     "data": {
      "text/html": [
       "<div>\n",
       "<style scoped>\n",
       "    .dataframe tbody tr th:only-of-type {\n",
       "        vertical-align: middle;\n",
       "    }\n",
       "\n",
       "    .dataframe tbody tr th {\n",
       "        vertical-align: top;\n",
       "    }\n",
       "\n",
       "    .dataframe thead th {\n",
       "        text-align: right;\n",
       "    }\n",
       "</style>\n",
       "<table border=\"1\" class=\"dataframe\">\n",
       "  <thead>\n",
       "    <tr style=\"text-align: right;\">\n",
       "      <th></th>\n",
       "      <th>Aspect</th>\n",
       "      <th>Slope</th>\n",
       "      <th>Horizontal_Distance_To_Hydrology</th>\n",
       "    </tr>\n",
       "  </thead>\n",
       "  <tbody>\n",
       "    <tr>\n",
       "      <th>2</th>\n",
       "      <td>139.0</td>\n",
       "      <td>9.0</td>\n",
       "      <td>268.0</td>\n",
       "    </tr>\n",
       "    <tr>\n",
       "      <th>3</th>\n",
       "      <td>155.0</td>\n",
       "      <td>18.0</td>\n",
       "      <td>242.0</td>\n",
       "    </tr>\n",
       "    <tr>\n",
       "      <th>21</th>\n",
       "      <td>209.0</td>\n",
       "      <td>17.0</td>\n",
       "      <td>216.0</td>\n",
       "    </tr>\n",
       "    <tr>\n",
       "      <th>35</th>\n",
       "      <td>45.0</td>\n",
       "      <td>19.0</td>\n",
       "      <td>242.0</td>\n",
       "    </tr>\n",
       "  </tbody>\n",
       "</table>\n",
       "</div>"
      ],
      "text/plain": [
       "    Aspect  Slope  Horizontal_Distance_To_Hydrology\n",
       "2    139.0    9.0                             268.0\n",
       "3    155.0   18.0                             242.0\n",
       "21   209.0   17.0                             216.0\n",
       "35    45.0   19.0                             242.0"
      ]
     },
     "metadata": {},
     "output_type": "display_data"
    },
    {
     "data": {
      "text/plain": [
       "2     2804.0\n",
       "3     2785.0\n",
       "21    2880.0\n",
       "35    2900.0\n",
       "Name: Elevation, dtype: float64"
      ]
     },
     "metadata": {},
     "output_type": "display_data"
    }
   ],
   "source": [
    "#Out-of-bag:\n",
    "toy_data_out_boot = toy_data[~toy_data.index.isin(\n",
    "toy_data_boot.index)]\n",
    "toy_labels_out_boot = toy_labels[~toy_labels.index.isin(\n",
    "toy_data_boot.index)]\n",
    "display(toy_data_out_boot)\n",
    "display(toy_labels_out_boot)"
   ]
  },
  {
   "cell_type": "code",
   "execution_count": 317,
   "metadata": {},
   "outputs": [],
   "source": [
    "#bootstrap and out-of-bag function\n",
    "def generate_bootstrap(rng, X, y, verbose=True):\n",
    "        sample_indices = np.arange(X.shape[0])\n",
    "        bootstrap_indices = rng.choice(sample_indices,\n",
    "                                       size=sample_indices.shape[0],\n",
    "                                       replace=True)\n",
    "        X_boot = X.iloc[bootstrap_indices]\n",
    "        y_boot = y.iloc[bootstrap_indices]\n",
    "        X_out_boot = X[~X.index.isin(X_boot.index)]\n",
    "        y_out_boot = y[~y.index.isin(X_boot.index)]\n",
    "        if verbose:\n",
    "            print(f\"{i}-iteration\")\n",
    "            print(f\"indexes in bootstrap: {X_boot.index.tolist()}\")\n",
    "            print(f\"indexes in out-of-bag: {X_out_boot.index.tolist()}\\n\")\n",
    "        return X_boot, y_boot, X_out_boot, y_out_boot"
   ]
  },
  {
   "cell_type": "code",
   "execution_count": 318,
   "metadata": {},
   "outputs": [
    {
     "name": "stdout",
     "output_type": "stream",
     "text": [
      "1-iteration\n",
      "indexes in bootstrap: [27, 11, 28, 12, 27, 41, 5, 27, 28, 12]\n",
      "indexes in out-of-bag: [2, 3, 21, 35]\n",
      "\n",
      "2-iteration\n",
      "indexes in bootstrap: [11, 28, 28, 5, 21, 12, 3, 28, 21, 3]\n",
      "indexes in out-of-bag: [2, 27, 35, 41]\n",
      "\n",
      "3-iteration\n",
      "indexes in bootstrap: [12, 2, 41, 21, 35, 2, 41, 5, 27, 11]\n",
      "indexes in out-of-bag: [3, 28]\n",
      "\n"
     ]
    }
   ],
   "source": [
    "rng = np.random.RandomState(42)\n",
    "standardscaler = StandardScaler()\n",
    "tree = DecisionTreeRegressor(random_state=42)\n",
    "test_score_lst = []\n",
    "for i in range(1, 4):\n",
    "    X_boot, y_boot, X_out_boot, y_out_boot = generate_bootstrap(\n",
    "    rng, toy_data, toy_labels)\n",
    "    tree.fit(X_boot, y_boot)\n",
    "    test_score = tree.score(X_out_boot, y_out_boot)\n",
    "    test_score_lst.append(test_score)"
   ]
  },
  {
   "cell_type": "code",
   "execution_count": 319,
   "metadata": {},
   "outputs": [
    {
     "name": "stdout",
     "output_type": "stream",
     "text": [
      "[-9.155198273820488, -0.9437390247197082, -184.94378698224853]\n"
     ]
    }
   ],
   "source": [
    "print(test_score_lst)"
   ]
  },
  {
   "cell_type": "code",
   "execution_count": 320,
   "metadata": {},
   "outputs": [
    {
     "name": "stdout",
     "output_type": "stream",
     "text": [
      "Mean Value R2: -65.014\n"
     ]
    }
   ],
   "source": [
    "mean_r2 = sum(test_score_lst) / len(test_score_lst)\n",
    "print(\"Mean Value R2: %.3f\" % mean_r2)"
   ]
  },
  {
   "cell_type": "code",
   "execution_count": 321,
   "metadata": {},
   "outputs": [
    {
     "name": "stdout",
     "output_type": "stream",
     "text": [
      "Mean Value R2: -65.014\n"
     ]
    }
   ],
   "source": [
    "#R2 in list\n",
    "import statistics\n",
    "mean_r2 = statistics.fmean(test_score_lst)\n",
    "print(\"Mean Value R2: %.3f\" % mean_r2)"
   ]
  },
  {
   "cell_type": "code",
   "execution_count": 324,
   "metadata": {},
   "outputs": [
    {
     "name": "stderr",
     "output_type": "stream",
     "text": [
      "c:\\Users\\Андрей Куликов\\AppData\\Local\\Programs\\Python\\Python311\\Lib\\site-packages\\sklearn\\linear_model\\_logistic.py:460: ConvergenceWarning: lbfgs failed to converge (status=1):\n",
      "STOP: TOTAL NO. of ITERATIONS REACHED LIMIT.\n",
      "\n",
      "Increase the number of iterations (max_iter) or scale the data as shown in:\n",
      "    https://scikit-learn.org/stable/modules/preprocessing.html\n",
      "Please also refer to the documentation for alternative solver options:\n",
      "    https://scikit-learn.org/stable/modules/linear_model.html#logistic-regression\n",
      "  n_iter_i = _check_optimize_result(\n",
      "c:\\Users\\Андрей Куликов\\AppData\\Local\\Programs\\Python\\Python311\\Lib\\site-packages\\sklearn\\linear_model\\_logistic.py:460: ConvergenceWarning: lbfgs failed to converge (status=1):\n",
      "STOP: TOTAL NO. of ITERATIONS REACHED LIMIT.\n",
      "\n",
      "Increase the number of iterations (max_iter) or scale the data as shown in:\n",
      "    https://scikit-learn.org/stable/modules/preprocessing.html\n",
      "Please also refer to the documentation for alternative solver options:\n",
      "    https://scikit-learn.org/stable/modules/linear_model.html#logistic-regression\n",
      "  n_iter_i = _check_optimize_result(\n"
     ]
    }
   ],
   "source": [
    "\n",
    "rng = np.random.RandomState(42)\n",
    "\n",
    "standardscaler = StandardScaler()\n",
    "\n",
    "logreg = LogisticRegression(solver='lbfgs', max_iter=200)\n",
    "\n",
    "test_score_lst = []\n",
    "\n",
    "for i in range(15):\n",
    "    X_boot, y_boot, X_out_boot, y_out_boot = generate_bootstrap(\n",
    "        rng, X_train, y_train, verbose=False)\n",
    "    standardscaler.fit(X_boot)\n",
    "    X_boot_scaled = standardscaler.transform(X_boot)\n",
    "    X_out_boot_scaled = standardscaler.transform(X_out_boot)\n",
    "    logreg.fit(X_boot_scaled, y_boot)\n",
    "   #     X_out_boot_scaled)\n",
    "    test_score = logreg.score(\n",
    "        X_out_boot_scaled, y_out_boot)\n",
    "    test_score_lst.append(test_score)\n",
    "    \n",
    "mean_acc = statistics.fmean(test_score_lst)\n",
    "print(\"Mean_acc: %.3f\" % mean_acc)"
   ]
  }
 ],
 "metadata": {
  "kernelspec": {
   "display_name": "Python 3.11.2 64-bit",
   "language": "python",
   "name": "python3"
  },
  "language_info": {
   "codemirror_mode": {
    "name": "ipython",
    "version": 3
   },
   "file_extension": ".py",
   "mimetype": "text/x-python",
   "name": "python",
   "nbconvert_exporter": "python",
   "pygments_lexer": "ipython3",
   "version": "3.11.5"
  },
  "vscode": {
   "interpreter": {
    "hash": "1682e5d06a6d97c1b1cf6bb4ae6cf16223e994936ddb1d53664597d7d46101fa"
   }
  }
 },
 "nbformat": 4,
 "nbformat_minor": 0
}
