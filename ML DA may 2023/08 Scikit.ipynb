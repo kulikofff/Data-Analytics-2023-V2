{
 "cells": [
  {
   "cell_type": "code",
   "execution_count": 1,
   "metadata": {},
   "outputs": [],
   "source": [
    "import pandas as pd\n",
    "import numpy as np\n",
    "import math"
   ]
  },
  {
   "cell_type": "code",
   "execution_count": 28,
   "metadata": {},
   "outputs": [],
   "source": [
    "#MeanImputer\n",
    "class MeanImputer():\n",
    "    def __init__(self, copy=True ):\n",
    "        self.copy = copy\n",
    "    def __is_numpy(self, X):\n",
    "        #X : pandas.DataFrame или numpy.ndarray\n",
    "        #Is it numpy or not\n",
    "        return isinstance(X, np.ndarray)\n",
    "    def fit(self, X, y=None):\n",
    "        self._encoder_dict = {}\n",
    "        is_np = self.__is_numpy(X)\n",
    "        #reshape from 1D to 2D\n",
    "        if len(X.shape) == 1:\n",
    "            X = X.reshape(-1, 1)\n",
    "        #amount of columns\n",
    "        ncols = X.shape[1]\n",
    "        \n",
    "        if is_np:\n",
    "            for col in range(ncols):\n",
    "                self._encoder_dict[col] = np.nanmean(X[:, col])\n",
    "        else:\n",
    "            for col in X.columns:\n",
    "                self._encoder_dict[col] = X[col].mean()\n",
    "                \n",
    "        return self\n",
    "    \n",
    "    def transform(self, X):\n",
    "        if self.copy:\n",
    "            X = X.copy()\n",
    "        is_np = self.__is_numpy(X)\n",
    "        \n",
    "        if len(X.shape) == 1:\n",
    "            X = X.reshape(-1, 1)\n",
    "        ncols = X.shape[1]\n",
    "        \n",
    "        if is_np:\n",
    "            for col in range(ncols):\n",
    "                X[:, col] = np.nan_to_num(\n",
    "                    X[:, col],\n",
    "                    nan=self._encoder_dict[col])\n",
    "            else:\n",
    "                for col in X.columns:\n",
    "                    X[col] = np.where(X[col].isnull(),\n",
    "                                     self._encoder_dict[col],\n",
    "                                     X[col])\n",
    "        return X    "
   ]
  },
  {
   "cell_type": "code",
   "execution_count": 36,
   "metadata": {},
   "outputs": [
    {
     "data": {
      "text/html": [
       "<div>\n",
       "<style scoped>\n",
       "    .dataframe tbody tr th:only-of-type {\n",
       "        vertical-align: middle;\n",
       "    }\n",
       "\n",
       "    .dataframe tbody tr th {\n",
       "        vertical-align: top;\n",
       "    }\n",
       "\n",
       "    .dataframe thead th {\n",
       "        text-align: right;\n",
       "    }\n",
       "</style>\n",
       "<table border=\"1\" class=\"dataframe\">\n",
       "  <thead>\n",
       "    <tr style=\"text-align: right;\">\n",
       "      <th></th>\n",
       "      <th>Balance</th>\n",
       "      <th>Age</th>\n",
       "    </tr>\n",
       "  </thead>\n",
       "  <tbody>\n",
       "    <tr>\n",
       "      <th>0</th>\n",
       "      <td>8.3</td>\n",
       "      <td>23.0</td>\n",
       "    </tr>\n",
       "    <tr>\n",
       "      <th>1</th>\n",
       "      <td>NaN</td>\n",
       "      <td>29.0</td>\n",
       "    </tr>\n",
       "    <tr>\n",
       "      <th>2</th>\n",
       "      <td>10.2</td>\n",
       "      <td>36.0</td>\n",
       "    </tr>\n",
       "    <tr>\n",
       "      <th>3</th>\n",
       "      <td>3.1</td>\n",
       "      <td>NaN</td>\n",
       "    </tr>\n",
       "  </tbody>\n",
       "</table>\n",
       "</div>"
      ],
      "text/plain": [
       "   Balance   Age\n",
       "0      8.3  23.0\n",
       "1      NaN  29.0\n",
       "2     10.2  36.0\n",
       "3      3.1   NaN"
      ]
     },
     "execution_count": 36,
     "metadata": {},
     "output_type": "execute_result"
    }
   ],
   "source": [
    "toy_train = pd.DataFrame(\n",
    "{'Balance': [8.3, np.NaN, 10.2, 3.1],\n",
    "'Age': [23, 29, 36, np.NaN]})\n",
    "toy_train"
   ]
  },
  {
   "cell_type": "code",
   "execution_count": 37,
   "metadata": {},
   "outputs": [
    {
     "data": {
      "text/html": [
       "<div>\n",
       "<style scoped>\n",
       "    .dataframe tbody tr th:only-of-type {\n",
       "        vertical-align: middle;\n",
       "    }\n",
       "\n",
       "    .dataframe tbody tr th {\n",
       "        vertical-align: top;\n",
       "    }\n",
       "\n",
       "    .dataframe thead th {\n",
       "        text-align: right;\n",
       "    }\n",
       "</style>\n",
       "<table border=\"1\" class=\"dataframe\">\n",
       "  <thead>\n",
       "    <tr style=\"text-align: right;\">\n",
       "      <th></th>\n",
       "      <th>Balance</th>\n",
       "      <th>Age</th>\n",
       "    </tr>\n",
       "  </thead>\n",
       "  <tbody>\n",
       "    <tr>\n",
       "      <th>0</th>\n",
       "      <td>10.4</td>\n",
       "      <td>13.0</td>\n",
       "    </tr>\n",
       "    <tr>\n",
       "      <th>1</th>\n",
       "      <td>NaN</td>\n",
       "      <td>19.0</td>\n",
       "    </tr>\n",
       "    <tr>\n",
       "      <th>2</th>\n",
       "      <td>22.5</td>\n",
       "      <td>66.0</td>\n",
       "    </tr>\n",
       "    <tr>\n",
       "      <th>3</th>\n",
       "      <td>1.1</td>\n",
       "      <td>NaN</td>\n",
       "    </tr>\n",
       "  </tbody>\n",
       "</table>\n",
       "</div>"
      ],
      "text/plain": [
       "   Balance   Age\n",
       "0     10.4  13.0\n",
       "1      NaN  19.0\n",
       "2     22.5  66.0\n",
       "3      1.1   NaN"
      ]
     },
     "execution_count": 37,
     "metadata": {},
     "output_type": "execute_result"
    }
   ],
   "source": [
    "toy_test = pd.DataFrame(\n",
    "{'Balance': [10.4, np.NaN, 22.5, 1.1],\n",
    "'Age': [13, 19, 66, np.NaN]})\n",
    "toy_test"
   ]
  },
  {
   "cell_type": "code",
   "execution_count": 34,
   "metadata": {},
   "outputs": [
    {
     "name": "stdout",
     "output_type": "stream",
     "text": [
      "обучающий датафрейм\n",
      "   Balance        Age\n",
      "0      8.3  23.000000\n",
      "1      7.2  29.000000\n",
      "2     10.2  36.000000\n",
      "3      3.1  29.333333\n",
      "\n",
      "тестовый датафрейм\n",
      "   Balance        Age\n",
      "0     10.4  13.000000\n",
      "1      7.2  19.000000\n",
      "2     22.5  66.000000\n",
      "3      1.1  29.333333\n"
     ]
    }
   ],
   "source": [
    "#Using mean()\n",
    "'''\n",
    "for col in toy_train.columns:\n",
    "    toy_train[col].fillna(toy_train[col].mean(), inplace=True)\n",
    "    toy_test[col].fillna(toy_train[col].mean(), inplace=True)\n",
    "print('обучающий датафрейм')\n",
    "print(toy_train)\n",
    "print('')\n",
    "print('тестовый датафрейм')\n",
    "print(toy_test)\n",
    "'''"
   ]
  },
  {
   "cell_type": "code",
   "execution_count": 35,
   "metadata": {},
   "outputs": [
    {
     "data": {
      "text/html": [
       "<div>\n",
       "<style scoped>\n",
       "    .dataframe tbody tr th:only-of-type {\n",
       "        vertical-align: middle;\n",
       "    }\n",
       "\n",
       "    .dataframe tbody tr th {\n",
       "        vertical-align: top;\n",
       "    }\n",
       "\n",
       "    .dataframe thead th {\n",
       "        text-align: right;\n",
       "    }\n",
       "</style>\n",
       "<table border=\"1\" class=\"dataframe\">\n",
       "  <thead>\n",
       "    <tr style=\"text-align: right;\">\n",
       "      <th></th>\n",
       "      <th>Balance</th>\n",
       "      <th>Age</th>\n",
       "    </tr>\n",
       "  </thead>\n",
       "  <tbody>\n",
       "    <tr>\n",
       "      <th>0</th>\n",
       "      <td>8.3</td>\n",
       "      <td>23.000000</td>\n",
       "    </tr>\n",
       "    <tr>\n",
       "      <th>1</th>\n",
       "      <td>7.2</td>\n",
       "      <td>29.000000</td>\n",
       "    </tr>\n",
       "    <tr>\n",
       "      <th>2</th>\n",
       "      <td>10.2</td>\n",
       "      <td>36.000000</td>\n",
       "    </tr>\n",
       "    <tr>\n",
       "      <th>3</th>\n",
       "      <td>3.1</td>\n",
       "      <td>29.333333</td>\n",
       "    </tr>\n",
       "  </tbody>\n",
       "</table>\n",
       "</div>"
      ],
      "text/plain": [
       "   Balance        Age\n",
       "0      8.3  23.000000\n",
       "1      7.2  29.000000\n",
       "2     10.2  36.000000\n",
       "3      3.1  29.333333"
      ]
     },
     "execution_count": 35,
     "metadata": {},
     "output_type": "execute_result"
    }
   ],
   "source": [
    "imp = MeanImputer()\n",
    "imp.fit(toy_train)\n",
    "toy_train = imp.transform(toy_train)\n",
    "toy_train"
   ]
  }
 ],
 "metadata": {
  "kernelspec": {
   "display_name": "Python 3.11.2 64-bit",
   "language": "python",
   "name": "python3"
  },
  "language_info": {
   "codemirror_mode": {
    "name": "ipython",
    "version": 3
   },
   "file_extension": ".py",
   "mimetype": "text/x-python",
   "name": "python",
   "nbconvert_exporter": "python",
   "pygments_lexer": "ipython3",
   "version": "3.11.5"
  },
  "vscode": {
   "interpreter": {
    "hash": "1682e5d06a6d97c1b1cf6bb4ae6cf16223e994936ddb1d53664597d7d46101fa"
   }
  }
 },
 "nbformat": 4,
 "nbformat_minor": 0
}
