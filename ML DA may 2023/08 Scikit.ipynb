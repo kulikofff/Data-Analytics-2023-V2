{
 "cells": [
  {
   "cell_type": "code",
   "execution_count": 360,
   "metadata": {},
   "outputs": [],
   "source": [
    "import pandas as pd\n",
    "import numpy as np\n",
    "import math"
   ]
  },
  {
   "cell_type": "code",
   "execution_count": 361,
   "metadata": {},
   "outputs": [],
   "source": [
    "#MeanImputer\n",
    "class MeanImputer():\n",
    "    def __init__(self, copy=True):\n",
    "        self.copy = copy\n",
    "    def __is_numpy(self, X):\n",
    "        #X : pandas.DataFrame или numpy.ndarray\n",
    "        #Is it numpy or not\n",
    "        return isinstance(X, np.ndarray)\n",
    "    def fit(self, X, y=None):\n",
    "        self._encoder_dict = {}\n",
    "        is_np = self.__is_numpy(X)\n",
    "        #reshape from 1D to 2D\n",
    "        if len(X.shape) == 1:\n",
    "            X = X.reshape(-1, 1)\n",
    "        #amount of columns\n",
    "        ncols = X.shape[1]\n",
    "        \n",
    "        if is_np:\n",
    "            for col in range(ncols):\n",
    "                self._encoder_dict[col] = np.nanmean(X[:, col])\n",
    "        else:\n",
    "            for col in X.columns:\n",
    "                self._encoder_dict[col] = X[col].mean()\n",
    "                \n",
    "        return self\n",
    "    \n",
    "    def transform(self, X):\n",
    "        if self.copy:\n",
    "            X = X.copy()\n",
    "        is_np = self.__is_numpy(X)\n",
    "        \n",
    "        if len(X.shape) == 1:\n",
    "            X = X.reshape(-1, 1)\n",
    "        ncols = X.shape[1]\n",
    "        \n",
    "        if is_np:\n",
    "            for col in range(ncols):\n",
    "                X[:, col] = np.nan_to_num(\n",
    "                    X[:, col],\n",
    "                nan=self._encoder_dict[col])\n",
    "        else:\n",
    "            for col in X.columns:\n",
    "                X[col] = np.where(X[col].isnull(),\n",
    "                                    self._encoder_dict[col],\n",
    "                                    X[col])\n",
    "        return X    "
   ]
  },
  {
   "cell_type": "code",
   "execution_count": 362,
   "metadata": {},
   "outputs": [
    {
     "data": {
      "text/html": [
       "<div>\n",
       "<style scoped>\n",
       "    .dataframe tbody tr th:only-of-type {\n",
       "        vertical-align: middle;\n",
       "    }\n",
       "\n",
       "    .dataframe tbody tr th {\n",
       "        vertical-align: top;\n",
       "    }\n",
       "\n",
       "    .dataframe thead th {\n",
       "        text-align: right;\n",
       "    }\n",
       "</style>\n",
       "<table border=\"1\" class=\"dataframe\">\n",
       "  <thead>\n",
       "    <tr style=\"text-align: right;\">\n",
       "      <th></th>\n",
       "      <th>Balance</th>\n",
       "      <th>Age</th>\n",
       "    </tr>\n",
       "  </thead>\n",
       "  <tbody>\n",
       "    <tr>\n",
       "      <th>0</th>\n",
       "      <td>8.3</td>\n",
       "      <td>23.0</td>\n",
       "    </tr>\n",
       "    <tr>\n",
       "      <th>1</th>\n",
       "      <td>NaN</td>\n",
       "      <td>29.0</td>\n",
       "    </tr>\n",
       "    <tr>\n",
       "      <th>2</th>\n",
       "      <td>10.2</td>\n",
       "      <td>36.0</td>\n",
       "    </tr>\n",
       "    <tr>\n",
       "      <th>3</th>\n",
       "      <td>3.1</td>\n",
       "      <td>NaN</td>\n",
       "    </tr>\n",
       "  </tbody>\n",
       "</table>\n",
       "</div>"
      ],
      "text/plain": [
       "   Balance   Age\n",
       "0      8.3  23.0\n",
       "1      NaN  29.0\n",
       "2     10.2  36.0\n",
       "3      3.1   NaN"
      ]
     },
     "execution_count": 362,
     "metadata": {},
     "output_type": "execute_result"
    }
   ],
   "source": [
    "toy_train = pd.DataFrame(\n",
    "{'Balance': [8.3, np.NaN, 10.2, 3.1],\n",
    "'Age': [23, 29, 36, np.NaN]})\n",
    "toy_train"
   ]
  },
  {
   "cell_type": "code",
   "execution_count": 363,
   "metadata": {},
   "outputs": [
    {
     "data": {
      "text/html": [
       "<div>\n",
       "<style scoped>\n",
       "    .dataframe tbody tr th:only-of-type {\n",
       "        vertical-align: middle;\n",
       "    }\n",
       "\n",
       "    .dataframe tbody tr th {\n",
       "        vertical-align: top;\n",
       "    }\n",
       "\n",
       "    .dataframe thead th {\n",
       "        text-align: right;\n",
       "    }\n",
       "</style>\n",
       "<table border=\"1\" class=\"dataframe\">\n",
       "  <thead>\n",
       "    <tr style=\"text-align: right;\">\n",
       "      <th></th>\n",
       "      <th>Balance</th>\n",
       "      <th>Age</th>\n",
       "    </tr>\n",
       "  </thead>\n",
       "  <tbody>\n",
       "    <tr>\n",
       "      <th>0</th>\n",
       "      <td>10.4</td>\n",
       "      <td>13.0</td>\n",
       "    </tr>\n",
       "    <tr>\n",
       "      <th>1</th>\n",
       "      <td>NaN</td>\n",
       "      <td>19.0</td>\n",
       "    </tr>\n",
       "    <tr>\n",
       "      <th>2</th>\n",
       "      <td>22.5</td>\n",
       "      <td>66.0</td>\n",
       "    </tr>\n",
       "    <tr>\n",
       "      <th>3</th>\n",
       "      <td>1.1</td>\n",
       "      <td>NaN</td>\n",
       "    </tr>\n",
       "  </tbody>\n",
       "</table>\n",
       "</div>"
      ],
      "text/plain": [
       "   Balance   Age\n",
       "0     10.4  13.0\n",
       "1      NaN  19.0\n",
       "2     22.5  66.0\n",
       "3      1.1   NaN"
      ]
     },
     "execution_count": 363,
     "metadata": {},
     "output_type": "execute_result"
    }
   ],
   "source": [
    "toy_test = pd.DataFrame(\n",
    "{'Balance': [10.4, np.NaN, 22.5, 1.1],\n",
    "'Age': [13, 19, 66, np.NaN]})\n",
    "toy_test"
   ]
  },
  {
   "cell_type": "code",
   "execution_count": 364,
   "metadata": {},
   "outputs": [
    {
     "data": {
      "text/plain": [
       "\"\\nfor col in toy_train.columns:\\n    toy_train[col].fillna(toy_train[col].mean(), inplace=True)\\n    toy_test[col].fillna(toy_train[col].mean(), inplace=True)\\nprint('обучающий датафрейм')\\nprint(toy_train)\\nprint('')\\nprint('тестовый датафрейм')\\nprint(toy_test)\\n\""
      ]
     },
     "execution_count": 364,
     "metadata": {},
     "output_type": "execute_result"
    }
   ],
   "source": [
    "#Using mean()\n",
    "'''\n",
    "for col in toy_train.columns:\n",
    "    toy_train[col].fillna(toy_train[col].mean(), inplace=True)\n",
    "    toy_test[col].fillna(toy_train[col].mean(), inplace=True)\n",
    "print('обучающий датафрейм')\n",
    "print(toy_train)\n",
    "print('')\n",
    "print('тестовый датафрейм')\n",
    "print(toy_test)\n",
    "'''"
   ]
  },
  {
   "cell_type": "code",
   "execution_count": 365,
   "metadata": {},
   "outputs": [
    {
     "data": {
      "text/html": [
       "<div>\n",
       "<style scoped>\n",
       "    .dataframe tbody tr th:only-of-type {\n",
       "        vertical-align: middle;\n",
       "    }\n",
       "\n",
       "    .dataframe tbody tr th {\n",
       "        vertical-align: top;\n",
       "    }\n",
       "\n",
       "    .dataframe thead th {\n",
       "        text-align: right;\n",
       "    }\n",
       "</style>\n",
       "<table border=\"1\" class=\"dataframe\">\n",
       "  <thead>\n",
       "    <tr style=\"text-align: right;\">\n",
       "      <th></th>\n",
       "      <th>Balance</th>\n",
       "      <th>Age</th>\n",
       "    </tr>\n",
       "  </thead>\n",
       "  <tbody>\n",
       "    <tr>\n",
       "      <th>0</th>\n",
       "      <td>8.3</td>\n",
       "      <td>23.000000</td>\n",
       "    </tr>\n",
       "    <tr>\n",
       "      <th>1</th>\n",
       "      <td>7.2</td>\n",
       "      <td>29.000000</td>\n",
       "    </tr>\n",
       "    <tr>\n",
       "      <th>2</th>\n",
       "      <td>10.2</td>\n",
       "      <td>36.000000</td>\n",
       "    </tr>\n",
       "    <tr>\n",
       "      <th>3</th>\n",
       "      <td>3.1</td>\n",
       "      <td>29.333333</td>\n",
       "    </tr>\n",
       "  </tbody>\n",
       "</table>\n",
       "</div>"
      ],
      "text/plain": [
       "   Balance        Age\n",
       "0      8.3  23.000000\n",
       "1      7.2  29.000000\n",
       "2     10.2  36.000000\n",
       "3      3.1  29.333333"
      ]
     },
     "execution_count": 365,
     "metadata": {},
     "output_type": "execute_result"
    }
   ],
   "source": [
    "imp = MeanImputer()\n",
    "imp.fit(toy_train)\n",
    "toy_train = imp.transform(toy_train)\n",
    "toy_train"
   ]
  },
  {
   "cell_type": "code",
   "execution_count": 366,
   "metadata": {},
   "outputs": [
    {
     "data": {
      "text/html": [
       "<div>\n",
       "<style scoped>\n",
       "    .dataframe tbody tr th:only-of-type {\n",
       "        vertical-align: middle;\n",
       "    }\n",
       "\n",
       "    .dataframe tbody tr th {\n",
       "        vertical-align: top;\n",
       "    }\n",
       "\n",
       "    .dataframe thead th {\n",
       "        text-align: right;\n",
       "    }\n",
       "</style>\n",
       "<table border=\"1\" class=\"dataframe\">\n",
       "  <thead>\n",
       "    <tr style=\"text-align: right;\">\n",
       "      <th></th>\n",
       "      <th>Balance</th>\n",
       "      <th>Age</th>\n",
       "    </tr>\n",
       "  </thead>\n",
       "  <tbody>\n",
       "    <tr>\n",
       "      <th>0</th>\n",
       "      <td>10.4</td>\n",
       "      <td>13.000000</td>\n",
       "    </tr>\n",
       "    <tr>\n",
       "      <th>1</th>\n",
       "      <td>7.2</td>\n",
       "      <td>19.000000</td>\n",
       "    </tr>\n",
       "    <tr>\n",
       "      <th>2</th>\n",
       "      <td>22.5</td>\n",
       "      <td>66.000000</td>\n",
       "    </tr>\n",
       "    <tr>\n",
       "      <th>3</th>\n",
       "      <td>1.1</td>\n",
       "      <td>29.333333</td>\n",
       "    </tr>\n",
       "  </tbody>\n",
       "</table>\n",
       "</div>"
      ],
      "text/plain": [
       "   Balance        Age\n",
       "0     10.4  13.000000\n",
       "1      7.2  19.000000\n",
       "2     22.5  66.000000\n",
       "3      1.1  29.333333"
      ]
     },
     "execution_count": 366,
     "metadata": {},
     "output_type": "execute_result"
    }
   ],
   "source": [
    "toy_test = imp.transform(toy_test)\n",
    "toy_test"
   ]
  },
  {
   "cell_type": "code",
   "execution_count": 367,
   "metadata": {},
   "outputs": [
    {
     "name": "stderr",
     "output_type": "stream",
     "text": [
      "C:\\Users\\Андрей Куликов\\AppData\\Local\\Temp\\ipykernel_13088\\1614832478.py:43: SettingWithCopyWarning: \n",
      "A value is trying to be set on a copy of a slice from a DataFrame.\n",
      "Try using .loc[row_indexer,col_indexer] = value instead\n",
      "\n",
      "See the caveats in the documentation: https://pandas.pydata.org/pandas-docs/stable/user_guide/indexing.html#returning-a-view-versus-a-copy\n",
      "  X[col] = np.where(X[col].isnull(),\n"
     ]
    },
    {
     "data": {
      "text/html": [
       "<div>\n",
       "<style scoped>\n",
       "    .dataframe tbody tr th:only-of-type {\n",
       "        vertical-align: middle;\n",
       "    }\n",
       "\n",
       "    .dataframe tbody tr th {\n",
       "        vertical-align: top;\n",
       "    }\n",
       "\n",
       "    .dataframe thead th {\n",
       "        text-align: right;\n",
       "    }\n",
       "</style>\n",
       "<table border=\"1\" class=\"dataframe\">\n",
       "  <thead>\n",
       "    <tr style=\"text-align: right;\">\n",
       "      <th></th>\n",
       "      <th>Balance</th>\n",
       "      <th>Age</th>\n",
       "    </tr>\n",
       "  </thead>\n",
       "  <tbody>\n",
       "    <tr>\n",
       "      <th>0</th>\n",
       "      <td>8.3</td>\n",
       "      <td>23.000000</td>\n",
       "    </tr>\n",
       "    <tr>\n",
       "      <th>1</th>\n",
       "      <td>NaN</td>\n",
       "      <td>29.000000</td>\n",
       "    </tr>\n",
       "    <tr>\n",
       "      <th>2</th>\n",
       "      <td>10.2</td>\n",
       "      <td>36.000000</td>\n",
       "    </tr>\n",
       "    <tr>\n",
       "      <th>3</th>\n",
       "      <td>3.1</td>\n",
       "      <td>29.333333</td>\n",
       "    </tr>\n",
       "  </tbody>\n",
       "</table>\n",
       "</div>"
      ],
      "text/plain": [
       "   Balance        Age\n",
       "0      8.3  23.000000\n",
       "1      NaN  29.000000\n",
       "2     10.2  36.000000\n",
       "3      3.1  29.333333"
      ]
     },
     "execution_count": 367,
     "metadata": {},
     "output_type": "execute_result"
    }
   ],
   "source": [
    "toy_train = pd.DataFrame(\n",
    "{'Balance': [8.3, np.NaN, 10.2, 3.1],\n",
    "'Age': [23, 29, 36, np.NaN]})\n",
    "# создаем экземпляр класса, отключив копирование\n",
    "imp = MeanImputer(copy=False)\n",
    "# обучаем модель\n",
    "imp.fit(toy_train[['Age']])\n",
    "# применяем модель\n",
    "toy_train['Age'] = imp.transform(toy_train[['Age']])\n",
    "toy_train"
   ]
  },
  {
   "cell_type": "code",
   "execution_count": 368,
   "metadata": {},
   "outputs": [
    {
     "data": {
      "text/plain": [
       "array([[10.4, 13. ],\n",
       "       [ nan, 19. ],\n",
       "       [22.5, 66. ],\n",
       "       [ 1.1,  nan]])"
      ]
     },
     "execution_count": 368,
     "metadata": {},
     "output_type": "execute_result"
    }
   ],
   "source": [
    "np_toy_train = np.array(pd.DataFrame(\n",
    "{'Balance': [8.3, np.NaN, 10.2, 3.1],\n",
    "'Age': [23, 29, 36, np.NaN]}))\n",
    "np_toy_train\n",
    "\n",
    "np_toy_test = np.array(pd.DataFrame(\n",
    "{'Balance': [10.4, np.NaN, 22.5, 1.1],\n",
    "'Age': [13, 19, 66, np.NaN]}))\n",
    "np_toy_test"
   ]
  },
  {
   "cell_type": "code",
   "execution_count": 369,
   "metadata": {},
   "outputs": [
    {
     "data": {
      "text/plain": [
       "array([[ 8.3       , 23.        ],\n",
       "       [ 7.2       , 29.        ],\n",
       "       [10.2       , 36.        ],\n",
       "       [ 3.1       , 29.33333333]])"
      ]
     },
     "execution_count": 369,
     "metadata": {},
     "output_type": "execute_result"
    }
   ],
   "source": [
    "imp.fit(np_toy_train)\n",
    "np_toy_train = imp.transform(np_toy_train)\n",
    "np_toy_train"
   ]
  },
  {
   "cell_type": "code",
   "execution_count": 370,
   "metadata": {},
   "outputs": [
    {
     "data": {
      "text/plain": [
       "array([[10.4       , 13.        ],\n",
       "       [ 7.2       , 19.        ],\n",
       "       [22.5       , 66.        ],\n",
       "       [ 1.1       , 29.33333333]])"
      ]
     },
     "execution_count": 370,
     "metadata": {},
     "output_type": "execute_result"
    }
   ],
   "source": [
    "np_toy_test = imp.transform(np_toy_test)\n",
    "np_toy_test"
   ]
  },
  {
   "cell_type": "code",
   "execution_count": 371,
   "metadata": {},
   "outputs": [],
   "source": [
    "#KNN Model code;\n",
    "\n",
    "class KNN_Estimator():\n",
    "    def _euclidean_distance(self, x1, x2):\n",
    "        distance = 0\n",
    "        for i in range(len(x1)):\n",
    "            distance += pow((x1[i] - x2[i]), 2)\n",
    "        return math.sqrt(distance)\n",
    "    \n",
    "    def _vote(self, neighbor_labels):\n",
    "        counts = np.bincount(neighbor_labels.astype('int'))\n",
    "        return counts.argmax()\n",
    "    \n",
    "    def __init__(self, k=5, task='classification'):\n",
    "        self.k = k\n",
    "        self.task = task\n",
    "        self.k_nearest_neighbors_ = []\n",
    "        \n",
    "    def fit(self, X, y):\n",
    "        self.X_memorized = X\n",
    "        self.y_memorized = y\n",
    "        \n",
    "    def predict(self, X):\n",
    "        y_pred = np.empty(X.shape[0])\n",
    "        if self.task == 'classification':\n",
    "            for i, test_sample in enumerate(X):\n",
    "                idx = np.argsort([self._euclidean_distance(\n",
    "                    test_sample, x) for x in self.X_memorized])[:self.k]\n",
    "                k_nearest_neighbors = np.array(\n",
    "                    [self.y_memorized[i] for i in idx])\n",
    "                self.k_nearest_neighbors_.append(k_nearest_neighbors)\n",
    "                y_pred[i] = self._vote(self.k_nearest_neighbors_[i])\n",
    "        if self.task == 'regression':\n",
    "            for i, test_sample in enumerate(X):\n",
    "                idx = np.argsort([self._euclidean_distance(\n",
    "                    test_sample, x) for x in self.X_memorized])[:self.k]\n",
    "                k_nearest_neighbors = np.array(\n",
    "                    [self.y_memorized[i] for i in idx])\n",
    "                self.k_nearest_neighbors_.append(k_nearest_neighbors)\n",
    "                y_pred[i] = np.mean(self.k_nearest_neighbors_[i])\n",
    "        return y_pred    \n",
    "    "
   ]
  },
  {
   "cell_type": "code",
   "execution_count": 372,
   "metadata": {},
   "outputs": [],
   "source": [
    "#Classification\n",
    "X_trn = np.array([[0.1, 0.2, 0.3],\n",
    "                                [0.7, 0.5, 0.2],\n",
    "                                [0.1, 0.2, 0.2],\n",
    "                                [0.9, 0.7, 3.5],\n",
    "                                [0.2, 0.4, 1.4],\n",
    "                                [0.4, 0.1, 0.5]])\n",
    "\n",
    "y_trn = np.array([1, 0, 1, 0, 0, 1])\n",
    "\n",
    "X_tst = np.array([[0.1, 0.7, 1.1],\n",
    "                                [0.5, 0.3, 2.8],\n",
    "                                [0.1, 0.1, 0.2],\n",
    "                                [0.9, 0.7, 1.5]])"
   ]
  },
  {
   "cell_type": "code",
   "execution_count": 373,
   "metadata": {},
   "outputs": [
    {
     "data": {
      "text/plain": [
       "array([1., 0., 1., 0.])"
      ]
     },
     "execution_count": 373,
     "metadata": {},
     "output_type": "execute_result"
    }
   ],
   "source": [
    "knn = KNN_Estimator(k=3, task='classification')\n",
    "knn.fit(X_trn, y_trn)\n",
    "\n",
    "pred = knn.predict(X_tst)\n",
    "pred"
   ]
  },
  {
   "cell_type": "code",
   "execution_count": 374,
   "metadata": {},
   "outputs": [
    {
     "data": {
      "text/plain": [
       "[array([0, 1, 1]), array([0, 0, 1]), array([1, 1, 1]), array([0, 1, 0])]"
      ]
     },
     "execution_count": 374,
     "metadata": {},
     "output_type": "execute_result"
    }
   ],
   "source": [
    "knn.k_nearest_neighbors_"
   ]
  },
  {
   "cell_type": "code",
   "execution_count": 375,
   "metadata": {},
   "outputs": [],
   "source": [
    "y_trn = np.array([1.2, 0.5, 1.4, 2.2, 3.5, 5.9])"
   ]
  },
  {
   "cell_type": "code",
   "execution_count": 376,
   "metadata": {},
   "outputs": [],
   "source": [
    "knn = KNN_Estimator(k=3, task='regression')\n",
    "knn.fit(X_trn, y_trn)"
   ]
  },
  {
   "cell_type": "code",
   "execution_count": 377,
   "metadata": {},
   "outputs": [
    {
     "data": {
      "text/plain": [
       "array([3.53333333, 3.86666667, 2.83333333, 3.3       ])"
      ]
     },
     "execution_count": 377,
     "metadata": {},
     "output_type": "execute_result"
    }
   ],
   "source": [
    "pred = knn.predict(X_tst)\n",
    "pred"
   ]
  },
  {
   "cell_type": "code",
   "execution_count": 378,
   "metadata": {},
   "outputs": [
    {
     "data": {
      "text/plain": [
       "[array([3.5, 5.9, 1.2]),\n",
       " array([2.2, 3.5, 5.9]),\n",
       " array([1.4, 1.2, 5.9]),\n",
       " array([3.5, 5.9, 0.5])]"
      ]
     },
     "execution_count": 378,
     "metadata": {},
     "output_type": "execute_result"
    }
   ],
   "source": [
    "knn.k_nearest_neighbors_"
   ]
  },
  {
   "cell_type": "code",
   "execution_count": 379,
   "metadata": {},
   "outputs": [],
   "source": [
    "a = [2, 4, 7, 9, 14, 20, 21, 22]\n",
    "b = [3, 5, 8, 10, 14, 20, 21, 30]\n",
    "\n",
    "def seven(a,b):\n",
    "    for i in range(len(a)):\n",
    "            if a[i] % 7 == 0 and b[i] % 7 == 0:\n",
    "                print(a[i])\n",
    "            else:\n",
    "                pass"
   ]
  },
  {
   "cell_type": "code",
   "execution_count": 380,
   "metadata": {},
   "outputs": [
    {
     "name": "stdout",
     "output_type": "stream",
     "text": [
      "14\n",
      "21\n"
     ]
    }
   ],
   "source": [
    "seven(a,b)"
   ]
  },
  {
   "cell_type": "code",
   "execution_count": 381,
   "metadata": {},
   "outputs": [
    {
     "data": {
      "text/plain": [
       "{14, 21}"
      ]
     },
     "execution_count": 381,
     "metadata": {},
     "output_type": "execute_result"
    }
   ],
   "source": [
    "def find(lst1, lst2):\n",
    "    lst1 = [i for i in lst1 if i % 7 == 0]\n",
    "    lst2 = [i for i in lst2 if i % 7 == 0]\n",
    "    return set(lst1) & set(lst2)\n",
    "\n",
    "find(a,b)"
   ]
  },
  {
   "cell_type": "code",
   "execution_count": 382,
   "metadata": {},
   "outputs": [],
   "source": [
    "a = [\"a\", \"b\", \"c\", \"d\", \"e\", \"f\"]\n",
    "b = [1, 0, 9, 3, 2, 0]"
   ]
  },
  {
   "cell_type": "code",
   "execution_count": 383,
   "metadata": {},
   "outputs": [],
   "source": [
    "def get_sorted(lst1, lst2):\n",
    "    lst_tmp = [x for x in zip(lst1, lst2)]\n",
    "    lst_tmp.sort(key=lambda x: x[1])\n",
    "    return [x[0] for x in lst_tmp]"
   ]
  },
  {
   "cell_type": "code",
   "execution_count": 384,
   "metadata": {},
   "outputs": [
    {
     "data": {
      "text/plain": [
       "['b', 'f', 'a', 'e', 'd', 'c']"
      ]
     },
     "execution_count": 384,
     "metadata": {},
     "output_type": "execute_result"
    }
   ],
   "source": [
    "get_sorted(a,b)"
   ]
  },
  {
   "cell_type": "code",
   "execution_count": 385,
   "metadata": {},
   "outputs": [
    {
     "data": {
      "text/plain": [
       "[('a', 1), ('b', 0), ('c', 9), ('d', 3), ('e', 2), ('f', 0)]"
      ]
     },
     "execution_count": 385,
     "metadata": {},
     "output_type": "execute_result"
    }
   ],
   "source": [
    "z = zip(a,b)\n",
    "z = list(z)\n",
    "z"
   ]
  },
  {
   "cell_type": "code",
   "execution_count": 386,
   "metadata": {},
   "outputs": [],
   "source": [
    "#Pipeline\n",
    "\n",
    "import pandas as pd\n",
    "import numpy as np\n",
    "import os\n",
    "from sklearn.model_selection import train_test_split\n",
    "from sklearn.preprocessing import StandardScaler\n",
    "from sklearn.linear_model import LogisticRegression"
   ]
  },
  {
   "cell_type": "code",
   "execution_count": 387,
   "metadata": {},
   "outputs": [
    {
     "data": {
      "text/plain": [
       "'f:\\\\KULIKOV\\\\ML\\\\MLCourseAI\\\\Data Analytics 2023 V2\\\\ML DA may 2023'"
      ]
     },
     "execution_count": 387,
     "metadata": {},
     "output_type": "execute_result"
    }
   ],
   "source": [
    "os.getcwd()"
   ]
  },
  {
   "cell_type": "code",
   "execution_count": 388,
   "metadata": {},
   "outputs": [],
   "source": [
    "#Loaddataset\n",
    "from sklearn.datasets import fetch_covtype\n",
    "import pandas as pd\n",
    "#https://scikit-learn.ru/7-2-real-world-datasets/\n",
    "#https://scikit-learn.org/stable/auto_examples/miscellaneous/plot_outlier_detection_bench.html#sphx-glr-auto-examples-miscellaneous-plot-outlier-detection-bench-py\n",
    "\n",
    "X, y = fetch_covtype(return_X_y=True, as_frame=True)\n",
    "s = (y == 2) + (y == 4)\n",
    "X = X.loc[s]\n",
    "y = y.loc[s]\n",
    "y = (y != 2).astype(np.int32)\n",
    "\n",
    "#X, _, y, _ = train_test_split(X, y, train_size=0.05, stratify=y, random_state=42)\n",
    "\n",
    "X_train, X_test, y_train, y_test = train_test_split(X, y, test_size=0.3, stratify=y, random_state=42)"
   ]
  },
  {
   "cell_type": "code",
   "execution_count": 389,
   "metadata": {},
   "outputs": [],
   "source": [
    "#Scaling\n",
    "standardscaler = StandardScaler()\n",
    "standardscaler.fit(X_train)\n",
    "# Transform ONLY to train and test, not to X. Because in X - other meanings.\n",
    "X_train_standardscaled = standardscaler.transform(X_train)  \n",
    "X_test_standardscaled = standardscaler.transform(X_test)"
   ]
  },
  {
   "cell_type": "code",
   "execution_count": 390,
   "metadata": {},
   "outputs": [
    {
     "name": "stdout",
     "output_type": "stream",
     "text": [
      "Score train: 1.000\n",
      "Score test: 1.000\n"
     ]
    }
   ],
   "source": [
    "#TFitting\n",
    "logreg = LogisticRegression(solver='lbfgs', max_iter=400)\n",
    "logreg.fit(X_train_standardscaled, y_train)\n",
    "print(\"Score train: {:.3f}\".format(\n",
    "logreg.score(X_train_standardscaled, y_train)))\n",
    "print(\"Score test: {:.3f}\".format(\n",
    "logreg.score(X_train_standardscaled, y_train)))"
   ]
  },
  {
   "cell_type": "code",
   "execution_count": 391,
   "metadata": {},
   "outputs": [
    {
     "name": "stdout",
     "output_type": "stream",
     "text": [
      "Score train: 1.000\n",
      "Score test: 1.000\n"
     ]
    }
   ],
   "source": [
    "#Getting score\n",
    "train_score = logreg.score(X_train_standardscaled, y_train)\n",
    "test_score = logreg.score(X_test_standardscaled, y_test)\n",
    "print(f\"Score train: {train_score:.3f}\")\n",
    "print(f\"Score test: {test_score:.3f}\")"
   ]
  },
  {
   "cell_type": "code",
   "execution_count": 392,
   "metadata": {},
   "outputs": [
    {
     "name": "stdout",
     "output_type": "stream",
     "text": [
      "Score train: 1.000\n",
      "Score test: 1.000\n"
     ]
    }
   ],
   "source": [
    "print(\"Score train: %.3f\" % train_score)\n",
    "print(\"Score test: %.3f\" % test_score)"
   ]
  },
  {
   "cell_type": "code",
   "execution_count": 393,
   "metadata": {},
   "outputs": [
    {
     "data": {
      "text/plain": [
       "array([0, 0, 0, ..., 0, 0, 0])"
      ]
     },
     "execution_count": 393,
     "metadata": {},
     "output_type": "execute_result"
    }
   ],
   "source": [
    "#Predictiong\n",
    "logreg_pred = logreg.predict(X_test_standardscaled)\n",
    "logreg_pred"
   ]
  },
  {
   "cell_type": "code",
   "execution_count": 394,
   "metadata": {},
   "outputs": [
    {
     "data": {
      "text/plain": [
       "array([[9.99999997e-01, 3.43359067e-09],\n",
       "       [9.99999998e-01, 2.17678902e-09],\n",
       "       [1.00000000e+00, 1.21786506e-12],\n",
       "       ...,\n",
       "       [1.00000000e+00, 2.28650412e-10],\n",
       "       [1.00000000e+00, 3.19741413e-12],\n",
       "       [1.00000000e+00, 6.61051203e-19]])"
      ]
     },
     "execution_count": 394,
     "metadata": {},
     "output_type": "execute_result"
    }
   ],
   "source": [
    "#Predicting probability\n",
    "logreg_pred = logreg.predict_proba(X_test_standardscaled)\n",
    "logreg_pred"
   ]
  },
  {
   "cell_type": "code",
   "execution_count": 395,
   "metadata": {},
   "outputs": [
    {
     "data": {
      "text/plain": [
       "array([-25.609])"
      ]
     },
     "execution_count": 395,
     "metadata": {},
     "output_type": "execute_result"
    }
   ],
   "source": [
    "#Constant\n",
    "intercept = np.round(logreg.intercept_, 3)\n",
    "intercept"
   ]
  },
  {
   "cell_type": "code",
   "execution_count": 396,
   "metadata": {},
   "outputs": [
    {
     "data": {
      "text/plain": [
       "array([[-6.863e+00, -4.450e-01,  4.950e-01, -4.370e-01, -3.320e-01,\n",
       "         4.905e+00,  9.090e-01,  1.671e+00, -1.179e+00,  1.724e+00,\n",
       "        -2.480e-01,  1.000e-03, -2.350e-01,  1.721e+00,  2.110e-01,\n",
       "        -4.000e-03,  5.290e-01,  1.100e-02,  1.590e-01,  1.800e-01,\n",
       "        -1.000e-03, -1.000e-03, -1.000e-03, -1.590e-01,  5.040e-01,\n",
       "        -1.900e-02, -1.000e-03,  1.890e-01,  0.000e+00, -6.400e-02,\n",
       "         2.500e-02, -5.600e-02, -0.000e+00, -3.900e-02,  0.000e+00,\n",
       "         1.000e-03, -0.000e+00, -1.100e-02,  0.000e+00, -4.000e-03,\n",
       "         1.000e-03,  0.000e+00, -8.100e-02, -2.860e-01,  1.000e-03,\n",
       "         2.000e-03,  1.000e-03,  0.000e+00,  0.000e+00,  0.000e+00,\n",
       "         0.000e+00,  1.000e-03,  0.000e+00,  0.000e+00]])"
      ]
     },
     "execution_count": 396,
     "metadata": {},
     "output_type": "execute_result"
    }
   ],
   "source": [
    "#Coef\n",
    "coef = np.round(logreg.coef_, 3)\n",
    "coef"
   ]
  },
  {
   "cell_type": "code",
   "execution_count": 397,
   "metadata": {},
   "outputs": [
    {
     "data": {
      "text/plain": [
       "array([0, 1])"
      ]
     },
     "execution_count": 397,
     "metadata": {},
     "output_type": "execute_result"
    }
   ],
   "source": [
    "#Classes\n",
    "classes = np.round(logreg.classes_, 3)\n",
    "classes"
   ]
  },
  {
   "cell_type": "code",
   "execution_count": 398,
   "metadata": {},
   "outputs": [
    {
     "data": {
      "text/plain": [
       "array([-6.86335327e+00, -4.44872949e-01,  4.95230289e-01, -4.37066814e-01,\n",
       "       -3.32491131e-01,  4.90456158e+00,  9.09293036e-01,  1.67094079e+00,\n",
       "       -1.17893584e+00,  1.72418089e+00, -2.47727420e-01,  1.30181700e-03,\n",
       "       -2.34978485e-01,  1.72075737e+00,  2.11016259e-01, -3.53628838e-03,\n",
       "        5.28561367e-01,  1.07845255e-02,  1.59423234e-01,  1.79662757e-01,\n",
       "       -9.17802709e-04, -1.34119874e-03, -7.05269441e-04, -1.59042417e-01,\n",
       "        5.03849394e-01, -1.86944028e-02, -9.44020346e-04,  1.89178845e-01,\n",
       "        0.00000000e+00, -6.44847844e-02,  2.51200087e-02, -5.58369297e-02,\n",
       "       -2.29150022e-04, -3.91221385e-02,  6.21205535e-05,  8.62002215e-04,\n",
       "       -2.76901069e-04, -1.08280955e-02,  2.09934128e-04, -4.11126506e-03,\n",
       "        6.19675404e-04,  2.48454983e-04, -8.14092955e-02, -2.86473120e-01,\n",
       "        5.78602864e-04,  1.72477402e-03,  5.40896563e-04,  3.61707208e-04,\n",
       "        8.77095533e-05,  1.56332368e-04,  0.00000000e+00,  6.12474037e-04,\n",
       "        4.17828904e-04,  4.74171341e-04])"
      ]
     },
     "execution_count": 398,
     "metadata": {},
     "output_type": "execute_result"
    }
   ],
   "source": [
    "logreg.coef_[0]"
   ]
  },
  {
   "cell_type": "code",
   "execution_count": 399,
   "metadata": {},
   "outputs": [
    {
     "name": "stdout",
     "output_type": "stream",
     "text": [
      "Elevation -6.863353273500244\n",
      "Aspect -0.44487294882555245\n",
      "Slope 0.4952302886105166\n",
      "Horizontal_Distance_To_Hydrology -0.4370668139499791\n",
      "Vertical_Distance_To_Hydrology -0.3324911313472247\n",
      "Horizontal_Distance_To_Roadways 4.904561581176035\n",
      "Hillshade_9am 0.9092930360668068\n",
      "Hillshade_Noon 1.6709407882924503\n",
      "Hillshade_3pm -1.1789358445753517\n",
      "Horizontal_Distance_To_Fire_Points 1.7241808871037037\n",
      "Wilderness_Area_0 -0.2477274195599548\n",
      "Wilderness_Area_1 0.0013018169964458474\n",
      "Wilderness_Area_2 -0.23497848521813966\n",
      "Wilderness_Area_3 1.7207573721353782\n",
      "Soil_Type_0 0.2110162589754352\n",
      "Soil_Type_1 -0.003536288377687285\n",
      "Soil_Type_2 0.5285613673827958\n",
      "Soil_Type_3 0.010784525517597626\n",
      "Soil_Type_4 0.1594232336686379\n",
      "Soil_Type_5 0.1796627570199406\n",
      "Soil_Type_6 -0.0009178027089207292\n",
      "Soil_Type_7 -0.0013411987397579893\n",
      "Soil_Type_8 -0.0007052694408819774\n",
      "Soil_Type_9 -0.1590424166118983\n",
      "Soil_Type_10 0.5038493940734217\n",
      "Soil_Type_11 -0.018694402803804383\n",
      "Soil_Type_12 -0.000944020346388549\n",
      "Soil_Type_13 0.18917884459680007\n",
      "Soil_Type_14 0.0\n",
      "Soil_Type_15 -0.06448478440581064\n",
      "Soil_Type_16 0.025120008713496473\n",
      "Soil_Type_17 -0.05583692966780314\n",
      "Soil_Type_18 -0.00022915002220328572\n",
      "Soil_Type_19 -0.039122138522166255\n",
      "Soil_Type_20 6.212055351544291e-05\n",
      "Soil_Type_21 0.0008620022146014992\n",
      "Soil_Type_22 -0.0002769010687539519\n",
      "Soil_Type_23 -0.010828095484330103\n",
      "Soil_Type_24 0.00020993412834998656\n",
      "Soil_Type_25 -0.004111265064822586\n",
      "Soil_Type_26 0.0006196754035057446\n",
      "Soil_Type_27 0.00024845498275235844\n",
      "Soil_Type_28 -0.08140929545421263\n",
      "Soil_Type_29 -0.2864731195390056\n",
      "Soil_Type_30 0.0005786028637214152\n",
      "Soil_Type_31 0.0017247740215853551\n",
      "Soil_Type_32 0.0005408965629223272\n",
      "Soil_Type_33 0.00036170720814086485\n",
      "Soil_Type_34 8.770955328582586e-05\n",
      "Soil_Type_35 0.0001563323680067643\n",
      "Soil_Type_36 0.0\n",
      "Soil_Type_37 0.0006124740372652737\n",
      "Soil_Type_38 0.00041782890361261304\n",
      "Soil_Type_39 0.0004741713412261966\n"
     ]
    }
   ],
   "source": [
    "#Coef for features\n",
    "for i,feature in zip(logreg.coef_[0], X_train.columns):\n",
    "    print(feature, i)"
   ]
  },
  {
   "cell_type": "code",
   "execution_count": 400,
   "metadata": {},
   "outputs": [],
   "source": [
    "#Bootstrap and out-of-bag\n",
    "from IPython.display import display\n",
    "from sklearn.preprocessing import StandardScaler\n",
    "from sklearn.linear_model import LogisticRegression\n",
    "from sklearn.tree import DecisionTreeRegressor"
   ]
  },
  {
   "cell_type": "code",
   "execution_count": 401,
   "metadata": {},
   "outputs": [
    {
     "data": {
      "text/html": [
       "<div>\n",
       "<style scoped>\n",
       "    .dataframe tbody tr th:only-of-type {\n",
       "        vertical-align: middle;\n",
       "    }\n",
       "\n",
       "    .dataframe tbody tr th {\n",
       "        vertical-align: top;\n",
       "    }\n",
       "\n",
       "    .dataframe thead th {\n",
       "        text-align: right;\n",
       "    }\n",
       "</style>\n",
       "<table border=\"1\" class=\"dataframe\">\n",
       "  <thead>\n",
       "    <tr style=\"text-align: right;\">\n",
       "      <th></th>\n",
       "      <th>Elevation</th>\n",
       "      <th>Aspect</th>\n",
       "      <th>Slope</th>\n",
       "      <th>Horizontal_Distance_To_Hydrology</th>\n",
       "      <th>Vertical_Distance_To_Hydrology</th>\n",
       "      <th>Horizontal_Distance_To_Roadways</th>\n",
       "      <th>Hillshade_9am</th>\n",
       "      <th>Hillshade_Noon</th>\n",
       "      <th>Hillshade_3pm</th>\n",
       "      <th>Horizontal_Distance_To_Fire_Points</th>\n",
       "      <th>...</th>\n",
       "      <th>Soil_Type_30</th>\n",
       "      <th>Soil_Type_31</th>\n",
       "      <th>Soil_Type_32</th>\n",
       "      <th>Soil_Type_33</th>\n",
       "      <th>Soil_Type_34</th>\n",
       "      <th>Soil_Type_35</th>\n",
       "      <th>Soil_Type_36</th>\n",
       "      <th>Soil_Type_37</th>\n",
       "      <th>Soil_Type_38</th>\n",
       "      <th>Soil_Type_39</th>\n",
       "    </tr>\n",
       "  </thead>\n",
       "  <tbody>\n",
       "    <tr>\n",
       "      <th>2</th>\n",
       "      <td>2804.0</td>\n",
       "      <td>139.0</td>\n",
       "      <td>9.0</td>\n",
       "      <td>268.0</td>\n",
       "      <td>65.0</td>\n",
       "      <td>3180.0</td>\n",
       "      <td>234.0</td>\n",
       "      <td>238.0</td>\n",
       "      <td>135.0</td>\n",
       "      <td>6121.0</td>\n",
       "      <td>...</td>\n",
       "      <td>0.0</td>\n",
       "      <td>0.0</td>\n",
       "      <td>0.0</td>\n",
       "      <td>0.0</td>\n",
       "      <td>0.0</td>\n",
       "      <td>0.0</td>\n",
       "      <td>0.0</td>\n",
       "      <td>0.0</td>\n",
       "      <td>0.0</td>\n",
       "      <td>0.0</td>\n",
       "    </tr>\n",
       "    <tr>\n",
       "      <th>3</th>\n",
       "      <td>2785.0</td>\n",
       "      <td>155.0</td>\n",
       "      <td>18.0</td>\n",
       "      <td>242.0</td>\n",
       "      <td>118.0</td>\n",
       "      <td>3090.0</td>\n",
       "      <td>238.0</td>\n",
       "      <td>238.0</td>\n",
       "      <td>122.0</td>\n",
       "      <td>6211.0</td>\n",
       "      <td>...</td>\n",
       "      <td>0.0</td>\n",
       "      <td>0.0</td>\n",
       "      <td>0.0</td>\n",
       "      <td>0.0</td>\n",
       "      <td>0.0</td>\n",
       "      <td>0.0</td>\n",
       "      <td>0.0</td>\n",
       "      <td>0.0</td>\n",
       "      <td>0.0</td>\n",
       "      <td>0.0</td>\n",
       "    </tr>\n",
       "    <tr>\n",
       "      <th>5</th>\n",
       "      <td>2579.0</td>\n",
       "      <td>132.0</td>\n",
       "      <td>6.0</td>\n",
       "      <td>300.0</td>\n",
       "      <td>-15.0</td>\n",
       "      <td>67.0</td>\n",
       "      <td>230.0</td>\n",
       "      <td>237.0</td>\n",
       "      <td>140.0</td>\n",
       "      <td>6031.0</td>\n",
       "      <td>...</td>\n",
       "      <td>0.0</td>\n",
       "      <td>0.0</td>\n",
       "      <td>0.0</td>\n",
       "      <td>0.0</td>\n",
       "      <td>0.0</td>\n",
       "      <td>0.0</td>\n",
       "      <td>0.0</td>\n",
       "      <td>0.0</td>\n",
       "      <td>0.0</td>\n",
       "      <td>0.0</td>\n",
       "    </tr>\n",
       "    <tr>\n",
       "      <th>11</th>\n",
       "      <td>2886.0</td>\n",
       "      <td>151.0</td>\n",
       "      <td>11.0</td>\n",
       "      <td>371.0</td>\n",
       "      <td>26.0</td>\n",
       "      <td>5253.0</td>\n",
       "      <td>234.0</td>\n",
       "      <td>240.0</td>\n",
       "      <td>136.0</td>\n",
       "      <td>4051.0</td>\n",
       "      <td>...</td>\n",
       "      <td>0.0</td>\n",
       "      <td>0.0</td>\n",
       "      <td>0.0</td>\n",
       "      <td>0.0</td>\n",
       "      <td>0.0</td>\n",
       "      <td>0.0</td>\n",
       "      <td>0.0</td>\n",
       "      <td>0.0</td>\n",
       "      <td>0.0</td>\n",
       "      <td>0.0</td>\n",
       "    </tr>\n",
       "    <tr>\n",
       "      <th>12</th>\n",
       "      <td>2742.0</td>\n",
       "      <td>134.0</td>\n",
       "      <td>22.0</td>\n",
       "      <td>150.0</td>\n",
       "      <td>69.0</td>\n",
       "      <td>3215.0</td>\n",
       "      <td>248.0</td>\n",
       "      <td>224.0</td>\n",
       "      <td>92.0</td>\n",
       "      <td>6091.0</td>\n",
       "      <td>...</td>\n",
       "      <td>0.0</td>\n",
       "      <td>0.0</td>\n",
       "      <td>0.0</td>\n",
       "      <td>0.0</td>\n",
       "      <td>0.0</td>\n",
       "      <td>0.0</td>\n",
       "      <td>0.0</td>\n",
       "      <td>0.0</td>\n",
       "      <td>0.0</td>\n",
       "      <td>0.0</td>\n",
       "    </tr>\n",
       "    <tr>\n",
       "      <th>...</th>\n",
       "      <td>...</td>\n",
       "      <td>...</td>\n",
       "      <td>...</td>\n",
       "      <td>...</td>\n",
       "      <td>...</td>\n",
       "      <td>...</td>\n",
       "      <td>...</td>\n",
       "      <td>...</td>\n",
       "      <td>...</td>\n",
       "      <td>...</td>\n",
       "      <td>...</td>\n",
       "      <td>...</td>\n",
       "      <td>...</td>\n",
       "      <td>...</td>\n",
       "      <td>...</td>\n",
       "      <td>...</td>\n",
       "      <td>...</td>\n",
       "      <td>...</td>\n",
       "      <td>...</td>\n",
       "      <td>...</td>\n",
       "      <td>...</td>\n",
       "    </tr>\n",
       "    <tr>\n",
       "      <th>576882</th>\n",
       "      <td>2617.0</td>\n",
       "      <td>29.0</td>\n",
       "      <td>13.0</td>\n",
       "      <td>390.0</td>\n",
       "      <td>128.0</td>\n",
       "      <td>2081.0</td>\n",
       "      <td>215.0</td>\n",
       "      <td>211.0</td>\n",
       "      <td>130.0</td>\n",
       "      <td>592.0</td>\n",
       "      <td>...</td>\n",
       "      <td>0.0</td>\n",
       "      <td>0.0</td>\n",
       "      <td>0.0</td>\n",
       "      <td>0.0</td>\n",
       "      <td>0.0</td>\n",
       "      <td>0.0</td>\n",
       "      <td>0.0</td>\n",
       "      <td>0.0</td>\n",
       "      <td>0.0</td>\n",
       "      <td>0.0</td>\n",
       "    </tr>\n",
       "    <tr>\n",
       "      <th>576883</th>\n",
       "      <td>2614.0</td>\n",
       "      <td>21.0</td>\n",
       "      <td>13.0</td>\n",
       "      <td>379.0</td>\n",
       "      <td>125.0</td>\n",
       "      <td>2051.0</td>\n",
       "      <td>211.0</td>\n",
       "      <td>212.0</td>\n",
       "      <td>135.0</td>\n",
       "      <td>618.0</td>\n",
       "      <td>...</td>\n",
       "      <td>0.0</td>\n",
       "      <td>0.0</td>\n",
       "      <td>0.0</td>\n",
       "      <td>0.0</td>\n",
       "      <td>0.0</td>\n",
       "      <td>0.0</td>\n",
       "      <td>0.0</td>\n",
       "      <td>0.0</td>\n",
       "      <td>0.0</td>\n",
       "      <td>0.0</td>\n",
       "    </tr>\n",
       "    <tr>\n",
       "      <th>576884</th>\n",
       "      <td>2612.0</td>\n",
       "      <td>17.0</td>\n",
       "      <td>13.0</td>\n",
       "      <td>371.0</td>\n",
       "      <td>123.0</td>\n",
       "      <td>2021.0</td>\n",
       "      <td>208.0</td>\n",
       "      <td>211.0</td>\n",
       "      <td>138.0</td>\n",
       "      <td>644.0</td>\n",
       "      <td>...</td>\n",
       "      <td>0.0</td>\n",
       "      <td>0.0</td>\n",
       "      <td>0.0</td>\n",
       "      <td>0.0</td>\n",
       "      <td>0.0</td>\n",
       "      <td>0.0</td>\n",
       "      <td>0.0</td>\n",
       "      <td>0.0</td>\n",
       "      <td>0.0</td>\n",
       "      <td>0.0</td>\n",
       "    </tr>\n",
       "    <tr>\n",
       "      <th>576885</th>\n",
       "      <td>2610.0</td>\n",
       "      <td>16.0</td>\n",
       "      <td>14.0</td>\n",
       "      <td>365.0</td>\n",
       "      <td>110.0</td>\n",
       "      <td>1991.0</td>\n",
       "      <td>208.0</td>\n",
       "      <td>211.0</td>\n",
       "      <td>138.0</td>\n",
       "      <td>671.0</td>\n",
       "      <td>...</td>\n",
       "      <td>0.0</td>\n",
       "      <td>0.0</td>\n",
       "      <td>0.0</td>\n",
       "      <td>0.0</td>\n",
       "      <td>0.0</td>\n",
       "      <td>0.0</td>\n",
       "      <td>0.0</td>\n",
       "      <td>0.0</td>\n",
       "      <td>0.0</td>\n",
       "      <td>0.0</td>\n",
       "    </tr>\n",
       "    <tr>\n",
       "      <th>576886</th>\n",
       "      <td>2608.0</td>\n",
       "      <td>23.0</td>\n",
       "      <td>14.0</td>\n",
       "      <td>361.0</td>\n",
       "      <td>108.0</td>\n",
       "      <td>1961.0</td>\n",
       "      <td>211.0</td>\n",
       "      <td>209.0</td>\n",
       "      <td>131.0</td>\n",
       "      <td>698.0</td>\n",
       "      <td>...</td>\n",
       "      <td>0.0</td>\n",
       "      <td>0.0</td>\n",
       "      <td>0.0</td>\n",
       "      <td>0.0</td>\n",
       "      <td>0.0</td>\n",
       "      <td>0.0</td>\n",
       "      <td>0.0</td>\n",
       "      <td>0.0</td>\n",
       "      <td>0.0</td>\n",
       "      <td>0.0</td>\n",
       "    </tr>\n",
       "  </tbody>\n",
       "</table>\n",
       "<p>286048 rows × 54 columns</p>\n",
       "</div>"
      ],
      "text/plain": [
       "        Elevation  Aspect  Slope  Horizontal_Distance_To_Hydrology  \\\n",
       "2          2804.0   139.0    9.0                             268.0   \n",
       "3          2785.0   155.0   18.0                             242.0   \n",
       "5          2579.0   132.0    6.0                             300.0   \n",
       "11         2886.0   151.0   11.0                             371.0   \n",
       "12         2742.0   134.0   22.0                             150.0   \n",
       "...           ...     ...    ...                               ...   \n",
       "576882     2617.0    29.0   13.0                             390.0   \n",
       "576883     2614.0    21.0   13.0                             379.0   \n",
       "576884     2612.0    17.0   13.0                             371.0   \n",
       "576885     2610.0    16.0   14.0                             365.0   \n",
       "576886     2608.0    23.0   14.0                             361.0   \n",
       "\n",
       "        Vertical_Distance_To_Hydrology  Horizontal_Distance_To_Roadways  \\\n",
       "2                                 65.0                           3180.0   \n",
       "3                                118.0                           3090.0   \n",
       "5                                -15.0                             67.0   \n",
       "11                                26.0                           5253.0   \n",
       "12                                69.0                           3215.0   \n",
       "...                                ...                              ...   \n",
       "576882                           128.0                           2081.0   \n",
       "576883                           125.0                           2051.0   \n",
       "576884                           123.0                           2021.0   \n",
       "576885                           110.0                           1991.0   \n",
       "576886                           108.0                           1961.0   \n",
       "\n",
       "        Hillshade_9am  Hillshade_Noon  Hillshade_3pm  \\\n",
       "2               234.0           238.0          135.0   \n",
       "3               238.0           238.0          122.0   \n",
       "5               230.0           237.0          140.0   \n",
       "11              234.0           240.0          136.0   \n",
       "12              248.0           224.0           92.0   \n",
       "...               ...             ...            ...   \n",
       "576882          215.0           211.0          130.0   \n",
       "576883          211.0           212.0          135.0   \n",
       "576884          208.0           211.0          138.0   \n",
       "576885          208.0           211.0          138.0   \n",
       "576886          211.0           209.0          131.0   \n",
       "\n",
       "        Horizontal_Distance_To_Fire_Points  ...  Soil_Type_30  Soil_Type_31  \\\n",
       "2                                   6121.0  ...           0.0           0.0   \n",
       "3                                   6211.0  ...           0.0           0.0   \n",
       "5                                   6031.0  ...           0.0           0.0   \n",
       "11                                  4051.0  ...           0.0           0.0   \n",
       "12                                  6091.0  ...           0.0           0.0   \n",
       "...                                    ...  ...           ...           ...   \n",
       "576882                               592.0  ...           0.0           0.0   \n",
       "576883                               618.0  ...           0.0           0.0   \n",
       "576884                               644.0  ...           0.0           0.0   \n",
       "576885                               671.0  ...           0.0           0.0   \n",
       "576886                               698.0  ...           0.0           0.0   \n",
       "\n",
       "        Soil_Type_32  Soil_Type_33  Soil_Type_34  Soil_Type_35  Soil_Type_36  \\\n",
       "2                0.0           0.0           0.0           0.0           0.0   \n",
       "3                0.0           0.0           0.0           0.0           0.0   \n",
       "5                0.0           0.0           0.0           0.0           0.0   \n",
       "11               0.0           0.0           0.0           0.0           0.0   \n",
       "12               0.0           0.0           0.0           0.0           0.0   \n",
       "...              ...           ...           ...           ...           ...   \n",
       "576882           0.0           0.0           0.0           0.0           0.0   \n",
       "576883           0.0           0.0           0.0           0.0           0.0   \n",
       "576884           0.0           0.0           0.0           0.0           0.0   \n",
       "576885           0.0           0.0           0.0           0.0           0.0   \n",
       "576886           0.0           0.0           0.0           0.0           0.0   \n",
       "\n",
       "        Soil_Type_37  Soil_Type_38  Soil_Type_39  \n",
       "2                0.0           0.0           0.0  \n",
       "3                0.0           0.0           0.0  \n",
       "5                0.0           0.0           0.0  \n",
       "11               0.0           0.0           0.0  \n",
       "12               0.0           0.0           0.0  \n",
       "...              ...           ...           ...  \n",
       "576882           0.0           0.0           0.0  \n",
       "576883           0.0           0.0           0.0  \n",
       "576884           0.0           0.0           0.0  \n",
       "576885           0.0           0.0           0.0  \n",
       "576886           0.0           0.0           0.0  \n",
       "\n",
       "[286048 rows x 54 columns]"
      ]
     },
     "execution_count": 401,
     "metadata": {},
     "output_type": "execute_result"
    }
   ],
   "source": [
    "X"
   ]
  },
  {
   "cell_type": "code",
   "execution_count": 402,
   "metadata": {},
   "outputs": [],
   "source": [
    "#Toy regression\n",
    "\n",
    "var_lst = ['Aspect', 'Slope',\n",
    "'Horizontal_Distance_To_Hydrology', 'Elevation']\n",
    "toy_data = X[var_lst].head(10)\n",
    "toy_labels = toy_data.pop('Elevation')"
   ]
  },
  {
   "cell_type": "code",
   "execution_count": 403,
   "metadata": {},
   "outputs": [
    {
     "data": {
      "text/plain": [
       "(10, 3)"
      ]
     },
     "execution_count": 403,
     "metadata": {},
     "output_type": "execute_result"
    }
   ],
   "source": [
    "toy_data.shape"
   ]
  },
  {
   "cell_type": "code",
   "execution_count": 404,
   "metadata": {},
   "outputs": [
    {
     "data": {
      "text/plain": [
       "(10,)"
      ]
     },
     "metadata": {},
     "output_type": "display_data"
    },
    {
     "data": {
      "text/html": [
       "<div>\n",
       "<style scoped>\n",
       "    .dataframe tbody tr th:only-of-type {\n",
       "        vertical-align: middle;\n",
       "    }\n",
       "\n",
       "    .dataframe tbody tr th {\n",
       "        vertical-align: top;\n",
       "    }\n",
       "\n",
       "    .dataframe thead th {\n",
       "        text-align: right;\n",
       "    }\n",
       "</style>\n",
       "<table border=\"1\" class=\"dataframe\">\n",
       "  <thead>\n",
       "    <tr style=\"text-align: right;\">\n",
       "      <th></th>\n",
       "      <th>Aspect</th>\n",
       "      <th>Slope</th>\n",
       "      <th>Horizontal_Distance_To_Hydrology</th>\n",
       "    </tr>\n",
       "  </thead>\n",
       "  <tbody>\n",
       "    <tr>\n",
       "      <th>27</th>\n",
       "      <td>148.0</td>\n",
       "      <td>16.0</td>\n",
       "      <td>323.0</td>\n",
       "    </tr>\n",
       "    <tr>\n",
       "      <th>11</th>\n",
       "      <td>151.0</td>\n",
       "      <td>11.0</td>\n",
       "      <td>371.0</td>\n",
       "    </tr>\n",
       "    <tr>\n",
       "      <th>28</th>\n",
       "      <td>135.0</td>\n",
       "      <td>1.0</td>\n",
       "      <td>212.0</td>\n",
       "    </tr>\n",
       "    <tr>\n",
       "      <th>12</th>\n",
       "      <td>134.0</td>\n",
       "      <td>22.0</td>\n",
       "      <td>150.0</td>\n",
       "    </tr>\n",
       "    <tr>\n",
       "      <th>27</th>\n",
       "      <td>148.0</td>\n",
       "      <td>16.0</td>\n",
       "      <td>323.0</td>\n",
       "    </tr>\n",
       "    <tr>\n",
       "      <th>41</th>\n",
       "      <td>346.0</td>\n",
       "      <td>2.0</td>\n",
       "      <td>0.0</td>\n",
       "    </tr>\n",
       "    <tr>\n",
       "      <th>5</th>\n",
       "      <td>132.0</td>\n",
       "      <td>6.0</td>\n",
       "      <td>300.0</td>\n",
       "    </tr>\n",
       "    <tr>\n",
       "      <th>27</th>\n",
       "      <td>148.0</td>\n",
       "      <td>16.0</td>\n",
       "      <td>323.0</td>\n",
       "    </tr>\n",
       "    <tr>\n",
       "      <th>28</th>\n",
       "      <td>135.0</td>\n",
       "      <td>1.0</td>\n",
       "      <td>212.0</td>\n",
       "    </tr>\n",
       "    <tr>\n",
       "      <th>12</th>\n",
       "      <td>134.0</td>\n",
       "      <td>22.0</td>\n",
       "      <td>150.0</td>\n",
       "    </tr>\n",
       "  </tbody>\n",
       "</table>\n",
       "</div>"
      ],
      "text/plain": [
       "    Aspect  Slope  Horizontal_Distance_To_Hydrology\n",
       "27   148.0   16.0                             323.0\n",
       "11   151.0   11.0                             371.0\n",
       "28   135.0    1.0                             212.0\n",
       "12   134.0   22.0                             150.0\n",
       "27   148.0   16.0                             323.0\n",
       "41   346.0    2.0                               0.0\n",
       "5    132.0    6.0                             300.0\n",
       "27   148.0   16.0                             323.0\n",
       "28   135.0    1.0                             212.0\n",
       "12   134.0   22.0                             150.0"
      ]
     },
     "metadata": {},
     "output_type": "display_data"
    },
    {
     "data": {
      "text/plain": [
       "27    2962.0\n",
       "11    2886.0\n",
       "28    2811.0\n",
       "12    2742.0\n",
       "27    2962.0\n",
       "41    2570.0\n",
       "5     2579.0\n",
       "27    2962.0\n",
       "28    2811.0\n",
       "12    2742.0\n",
       "Name: Elevation, dtype: float64"
      ]
     },
     "metadata": {},
     "output_type": "display_data"
    }
   ],
   "source": [
    "#Bootstrap - values can be repeated\n",
    "sample_indices = np.arange(toy_data.shape[0])\n",
    "rng = np.random.RandomState(42)\n",
    "bootstrap_indices = rng.choice(sample_indices,\n",
    "                               size=sample_indices.shape[0],\n",
    "                               replace=True)\n",
    "display(bootstrap_indices.shape)\n",
    "toy_data_boot = toy_data.iloc[bootstrap_indices]\n",
    "toy_labels_boot = toy_labels.iloc[bootstrap_indices]\n",
    "display(toy_data_boot)\n",
    "display(toy_labels_boot)"
   ]
  },
  {
   "cell_type": "code",
   "execution_count": 405,
   "metadata": {},
   "outputs": [
    {
     "data": {
      "text/plain": [
       "6"
      ]
     },
     "execution_count": 405,
     "metadata": {},
     "output_type": "execute_result"
    }
   ],
   "source": [
    "toy_labels_boot.nunique()"
   ]
  },
  {
   "cell_type": "code",
   "execution_count": 406,
   "metadata": {},
   "outputs": [
    {
     "data": {
      "text/html": [
       "<div>\n",
       "<style scoped>\n",
       "    .dataframe tbody tr th:only-of-type {\n",
       "        vertical-align: middle;\n",
       "    }\n",
       "\n",
       "    .dataframe tbody tr th {\n",
       "        vertical-align: top;\n",
       "    }\n",
       "\n",
       "    .dataframe thead th {\n",
       "        text-align: right;\n",
       "    }\n",
       "</style>\n",
       "<table border=\"1\" class=\"dataframe\">\n",
       "  <thead>\n",
       "    <tr style=\"text-align: right;\">\n",
       "      <th></th>\n",
       "      <th>Aspect</th>\n",
       "      <th>Slope</th>\n",
       "      <th>Horizontal_Distance_To_Hydrology</th>\n",
       "    </tr>\n",
       "  </thead>\n",
       "  <tbody>\n",
       "    <tr>\n",
       "      <th>2</th>\n",
       "      <td>139.0</td>\n",
       "      <td>9.0</td>\n",
       "      <td>268.0</td>\n",
       "    </tr>\n",
       "    <tr>\n",
       "      <th>3</th>\n",
       "      <td>155.0</td>\n",
       "      <td>18.0</td>\n",
       "      <td>242.0</td>\n",
       "    </tr>\n",
       "    <tr>\n",
       "      <th>21</th>\n",
       "      <td>209.0</td>\n",
       "      <td>17.0</td>\n",
       "      <td>216.0</td>\n",
       "    </tr>\n",
       "    <tr>\n",
       "      <th>35</th>\n",
       "      <td>45.0</td>\n",
       "      <td>19.0</td>\n",
       "      <td>242.0</td>\n",
       "    </tr>\n",
       "  </tbody>\n",
       "</table>\n",
       "</div>"
      ],
      "text/plain": [
       "    Aspect  Slope  Horizontal_Distance_To_Hydrology\n",
       "2    139.0    9.0                             268.0\n",
       "3    155.0   18.0                             242.0\n",
       "21   209.0   17.0                             216.0\n",
       "35    45.0   19.0                             242.0"
      ]
     },
     "metadata": {},
     "output_type": "display_data"
    },
    {
     "data": {
      "text/plain": [
       "2     2804.0\n",
       "3     2785.0\n",
       "21    2880.0\n",
       "35    2900.0\n",
       "Name: Elevation, dtype: float64"
      ]
     },
     "metadata": {},
     "output_type": "display_data"
    }
   ],
   "source": [
    "#Out-of-bag:\n",
    "toy_data_out_boot = toy_data[~toy_data.index.isin(\n",
    "toy_data_boot.index)]\n",
    "toy_labels_out_boot = toy_labels[~toy_labels.index.isin(\n",
    "toy_data_boot.index)]\n",
    "display(toy_data_out_boot)\n",
    "display(toy_labels_out_boot)"
   ]
  },
  {
   "cell_type": "code",
   "execution_count": 407,
   "metadata": {},
   "outputs": [],
   "source": [
    "#bootstrap and out-of-bag function\n",
    "def generate_bootstrap(rng, X, y, verbose=True):\n",
    "        sample_indices = np.arange(X.shape[0])\n",
    "        bootstrap_indices = rng.choice(sample_indices,\n",
    "                                       size=sample_indices.shape[0],\n",
    "                                       replace=True)\n",
    "        X_boot = X.iloc[bootstrap_indices]\n",
    "        y_boot = y.iloc[bootstrap_indices]\n",
    "        X_out_boot = X[~X.index.isin(X_boot.index)]\n",
    "        y_out_boot = y[~y.index.isin(X_boot.index)]\n",
    "        if verbose:\n",
    "            print(f\"{i}-iteration\")\n",
    "            print(f\"indexes in bootstrap: {X_boot.index.tolist()}\")\n",
    "            print(f\"indexes in out-of-bag: {X_out_boot.index.tolist()}\\n\")\n",
    "        return X_boot, y_boot, X_out_boot, y_out_boot"
   ]
  },
  {
   "cell_type": "code",
   "execution_count": 408,
   "metadata": {},
   "outputs": [
    {
     "name": "stdout",
     "output_type": "stream",
     "text": [
      "1-iteration\n",
      "indexes in bootstrap: [27, 11, 28, 12, 27, 41, 5, 27, 28, 12]\n",
      "indexes in out-of-bag: [2, 3, 21, 35]\n",
      "\n",
      "2-iteration\n",
      "indexes in bootstrap: [11, 28, 28, 5, 21, 12, 3, 28, 21, 3]\n",
      "indexes in out-of-bag: [2, 27, 35, 41]\n",
      "\n",
      "3-iteration\n",
      "indexes in bootstrap: [12, 2, 41, 21, 35, 2, 41, 5, 27, 11]\n",
      "indexes in out-of-bag: [3, 28]\n",
      "\n"
     ]
    }
   ],
   "source": [
    "rng = np.random.RandomState(42)\n",
    "standardscaler = StandardScaler()\n",
    "tree = DecisionTreeRegressor(random_state=42)\n",
    "test_score_lst = []\n",
    "for i in range(1, 4):\n",
    "    X_boot, y_boot, X_out_boot, y_out_boot = generate_bootstrap(\n",
    "    rng, toy_data, toy_labels)\n",
    "    tree.fit(X_boot, y_boot)\n",
    "    test_score = tree.score(X_out_boot, y_out_boot)\n",
    "    test_score_lst.append(test_score)"
   ]
  },
  {
   "cell_type": "code",
   "execution_count": 409,
   "metadata": {},
   "outputs": [
    {
     "name": "stdout",
     "output_type": "stream",
     "text": [
      "[-9.155198273820488, -0.9437390247197082, -184.94378698224853]\n"
     ]
    }
   ],
   "source": [
    "print(test_score_lst)"
   ]
  },
  {
   "cell_type": "code",
   "execution_count": 410,
   "metadata": {},
   "outputs": [
    {
     "name": "stdout",
     "output_type": "stream",
     "text": [
      "Mean Value R2: -65.014\n"
     ]
    }
   ],
   "source": [
    "mean_r2 = sum(test_score_lst) / len(test_score_lst)\n",
    "print(\"Mean Value R2: %.3f\" % mean_r2)"
   ]
  },
  {
   "cell_type": "code",
   "execution_count": 411,
   "metadata": {},
   "outputs": [
    {
     "name": "stdout",
     "output_type": "stream",
     "text": [
      "Mean Value R2: -65.014\n"
     ]
    }
   ],
   "source": [
    "#R2 in list\n",
    "import statistics\n",
    "mean_r2 = statistics.fmean(test_score_lst)\n",
    "print(\"Mean Value R2: %.3f\" % mean_r2)"
   ]
  },
  {
   "cell_type": "code",
   "execution_count": 412,
   "metadata": {},
   "outputs": [
    {
     "name": "stderr",
     "output_type": "stream",
     "text": [
      "c:\\Users\\Андрей Куликов\\AppData\\Local\\Programs\\Python\\Python311\\Lib\\site-packages\\sklearn\\linear_model\\_logistic.py:460: ConvergenceWarning: lbfgs failed to converge (status=1):\n",
      "STOP: TOTAL NO. of ITERATIONS REACHED LIMIT.\n",
      "\n",
      "Increase the number of iterations (max_iter) or scale the data as shown in:\n",
      "    https://scikit-learn.org/stable/modules/preprocessing.html\n",
      "Please also refer to the documentation for alternative solver options:\n",
      "    https://scikit-learn.org/stable/modules/linear_model.html#logistic-regression\n",
      "  n_iter_i = _check_optimize_result(\n",
      "c:\\Users\\Андрей Куликов\\AppData\\Local\\Programs\\Python\\Python311\\Lib\\site-packages\\sklearn\\linear_model\\_logistic.py:460: ConvergenceWarning: lbfgs failed to converge (status=1):\n",
      "STOP: TOTAL NO. of ITERATIONS REACHED LIMIT.\n",
      "\n",
      "Increase the number of iterations (max_iter) or scale the data as shown in:\n",
      "    https://scikit-learn.org/stable/modules/preprocessing.html\n",
      "Please also refer to the documentation for alternative solver options:\n",
      "    https://scikit-learn.org/stable/modules/linear_model.html#logistic-regression\n",
      "  n_iter_i = _check_optimize_result(\n",
      "c:\\Users\\Андрей Куликов\\AppData\\Local\\Programs\\Python\\Python311\\Lib\\site-packages\\sklearn\\linear_model\\_logistic.py:460: ConvergenceWarning: lbfgs failed to converge (status=1):\n",
      "STOP: TOTAL NO. of ITERATIONS REACHED LIMIT.\n",
      "\n",
      "Increase the number of iterations (max_iter) or scale the data as shown in:\n",
      "    https://scikit-learn.org/stable/modules/preprocessing.html\n",
      "Please also refer to the documentation for alternative solver options:\n",
      "    https://scikit-learn.org/stable/modules/linear_model.html#logistic-regression\n",
      "  n_iter_i = _check_optimize_result(\n",
      "c:\\Users\\Андрей Куликов\\AppData\\Local\\Programs\\Python\\Python311\\Lib\\site-packages\\sklearn\\linear_model\\_logistic.py:460: ConvergenceWarning: lbfgs failed to converge (status=1):\n",
      "STOP: TOTAL NO. of ITERATIONS REACHED LIMIT.\n",
      "\n",
      "Increase the number of iterations (max_iter) or scale the data as shown in:\n",
      "    https://scikit-learn.org/stable/modules/preprocessing.html\n",
      "Please also refer to the documentation for alternative solver options:\n",
      "    https://scikit-learn.org/stable/modules/linear_model.html#logistic-regression\n",
      "  n_iter_i = _check_optimize_result(\n",
      "c:\\Users\\Андрей Куликов\\AppData\\Local\\Programs\\Python\\Python311\\Lib\\site-packages\\sklearn\\linear_model\\_logistic.py:460: ConvergenceWarning: lbfgs failed to converge (status=1):\n",
      "STOP: TOTAL NO. of ITERATIONS REACHED LIMIT.\n",
      "\n",
      "Increase the number of iterations (max_iter) or scale the data as shown in:\n",
      "    https://scikit-learn.org/stable/modules/preprocessing.html\n",
      "Please also refer to the documentation for alternative solver options:\n",
      "    https://scikit-learn.org/stable/modules/linear_model.html#logistic-regression\n",
      "  n_iter_i = _check_optimize_result(\n",
      "c:\\Users\\Андрей Куликов\\AppData\\Local\\Programs\\Python\\Python311\\Lib\\site-packages\\sklearn\\linear_model\\_logistic.py:460: ConvergenceWarning: lbfgs failed to converge (status=1):\n",
      "STOP: TOTAL NO. of ITERATIONS REACHED LIMIT.\n",
      "\n",
      "Increase the number of iterations (max_iter) or scale the data as shown in:\n",
      "    https://scikit-learn.org/stable/modules/preprocessing.html\n",
      "Please also refer to the documentation for alternative solver options:\n",
      "    https://scikit-learn.org/stable/modules/linear_model.html#logistic-regression\n",
      "  n_iter_i = _check_optimize_result(\n",
      "c:\\Users\\Андрей Куликов\\AppData\\Local\\Programs\\Python\\Python311\\Lib\\site-packages\\sklearn\\linear_model\\_logistic.py:460: ConvergenceWarning: lbfgs failed to converge (status=1):\n",
      "STOP: TOTAL NO. of ITERATIONS REACHED LIMIT.\n",
      "\n",
      "Increase the number of iterations (max_iter) or scale the data as shown in:\n",
      "    https://scikit-learn.org/stable/modules/preprocessing.html\n",
      "Please also refer to the documentation for alternative solver options:\n",
      "    https://scikit-learn.org/stable/modules/linear_model.html#logistic-regression\n",
      "  n_iter_i = _check_optimize_result(\n",
      "c:\\Users\\Андрей Куликов\\AppData\\Local\\Programs\\Python\\Python311\\Lib\\site-packages\\sklearn\\linear_model\\_logistic.py:460: ConvergenceWarning: lbfgs failed to converge (status=1):\n",
      "STOP: TOTAL NO. of ITERATIONS REACHED LIMIT.\n",
      "\n",
      "Increase the number of iterations (max_iter) or scale the data as shown in:\n",
      "    https://scikit-learn.org/stable/modules/preprocessing.html\n",
      "Please also refer to the documentation for alternative solver options:\n",
      "    https://scikit-learn.org/stable/modules/linear_model.html#logistic-regression\n",
      "  n_iter_i = _check_optimize_result(\n",
      "c:\\Users\\Андрей Куликов\\AppData\\Local\\Programs\\Python\\Python311\\Lib\\site-packages\\sklearn\\linear_model\\_logistic.py:460: ConvergenceWarning: lbfgs failed to converge (status=1):\n",
      "STOP: TOTAL NO. of ITERATIONS REACHED LIMIT.\n",
      "\n",
      "Increase the number of iterations (max_iter) or scale the data as shown in:\n",
      "    https://scikit-learn.org/stable/modules/preprocessing.html\n",
      "Please also refer to the documentation for alternative solver options:\n",
      "    https://scikit-learn.org/stable/modules/linear_model.html#logistic-regression\n",
      "  n_iter_i = _check_optimize_result(\n",
      "c:\\Users\\Андрей Куликов\\AppData\\Local\\Programs\\Python\\Python311\\Lib\\site-packages\\sklearn\\linear_model\\_logistic.py:460: ConvergenceWarning: lbfgs failed to converge (status=1):\n",
      "STOP: TOTAL NO. of ITERATIONS REACHED LIMIT.\n",
      "\n",
      "Increase the number of iterations (max_iter) or scale the data as shown in:\n",
      "    https://scikit-learn.org/stable/modules/preprocessing.html\n",
      "Please also refer to the documentation for alternative solver options:\n",
      "    https://scikit-learn.org/stable/modules/linear_model.html#logistic-regression\n",
      "  n_iter_i = _check_optimize_result(\n",
      "c:\\Users\\Андрей Куликов\\AppData\\Local\\Programs\\Python\\Python311\\Lib\\site-packages\\sklearn\\linear_model\\_logistic.py:460: ConvergenceWarning: lbfgs failed to converge (status=1):\n",
      "STOP: TOTAL NO. of ITERATIONS REACHED LIMIT.\n",
      "\n",
      "Increase the number of iterations (max_iter) or scale the data as shown in:\n",
      "    https://scikit-learn.org/stable/modules/preprocessing.html\n",
      "Please also refer to the documentation for alternative solver options:\n",
      "    https://scikit-learn.org/stable/modules/linear_model.html#logistic-regression\n",
      "  n_iter_i = _check_optimize_result(\n",
      "c:\\Users\\Андрей Куликов\\AppData\\Local\\Programs\\Python\\Python311\\Lib\\site-packages\\sklearn\\linear_model\\_logistic.py:460: ConvergenceWarning: lbfgs failed to converge (status=1):\n",
      "STOP: TOTAL NO. of ITERATIONS REACHED LIMIT.\n",
      "\n",
      "Increase the number of iterations (max_iter) or scale the data as shown in:\n",
      "    https://scikit-learn.org/stable/modules/preprocessing.html\n",
      "Please also refer to the documentation for alternative solver options:\n",
      "    https://scikit-learn.org/stable/modules/linear_model.html#logistic-regression\n",
      "  n_iter_i = _check_optimize_result(\n",
      "c:\\Users\\Андрей Куликов\\AppData\\Local\\Programs\\Python\\Python311\\Lib\\site-packages\\sklearn\\linear_model\\_logistic.py:460: ConvergenceWarning: lbfgs failed to converge (status=1):\n",
      "STOP: TOTAL NO. of ITERATIONS REACHED LIMIT.\n",
      "\n",
      "Increase the number of iterations (max_iter) or scale the data as shown in:\n",
      "    https://scikit-learn.org/stable/modules/preprocessing.html\n",
      "Please also refer to the documentation for alternative solver options:\n",
      "    https://scikit-learn.org/stable/modules/linear_model.html#logistic-regression\n",
      "  n_iter_i = _check_optimize_result(\n",
      "c:\\Users\\Андрей Куликов\\AppData\\Local\\Programs\\Python\\Python311\\Lib\\site-packages\\sklearn\\linear_model\\_logistic.py:460: ConvergenceWarning: lbfgs failed to converge (status=1):\n",
      "STOP: TOTAL NO. of ITERATIONS REACHED LIMIT.\n",
      "\n",
      "Increase the number of iterations (max_iter) or scale the data as shown in:\n",
      "    https://scikit-learn.org/stable/modules/preprocessing.html\n",
      "Please also refer to the documentation for alternative solver options:\n",
      "    https://scikit-learn.org/stable/modules/linear_model.html#logistic-regression\n",
      "  n_iter_i = _check_optimize_result(\n",
      "c:\\Users\\Андрей Куликов\\AppData\\Local\\Programs\\Python\\Python311\\Lib\\site-packages\\sklearn\\linear_model\\_logistic.py:460: ConvergenceWarning: lbfgs failed to converge (status=1):\n",
      "STOP: TOTAL NO. of ITERATIONS REACHED LIMIT.\n",
      "\n",
      "Increase the number of iterations (max_iter) or scale the data as shown in:\n",
      "    https://scikit-learn.org/stable/modules/preprocessing.html\n",
      "Please also refer to the documentation for alternative solver options:\n",
      "    https://scikit-learn.org/stable/modules/linear_model.html#logistic-regression\n",
      "  n_iter_i = _check_optimize_result(\n"
     ]
    }
   ],
   "source": [
    "\n",
    "rng = np.random.RandomState(42)\n",
    "\n",
    "standardscaler = StandardScaler()\n",
    "\n",
    "logreg = LogisticRegression(solver='lbfgs', max_iter=200)\n",
    "\n",
    "test_score_lst = []\n",
    "\n",
    "for i in range(15):\n",
    "    X_boot, y_boot, X_out_boot, y_out_boot = generate_bootstrap(\n",
    "        rng, X_train, y_train, verbose=False)\n",
    "    standardscaler.fit(X_boot)\n",
    "    X_boot_scaled = standardscaler.transform(X_boot)\n",
    "    X_out_boot_scaled = standardscaler.transform(X_out_boot)\n",
    "    logreg.fit(X_boot_scaled, y_boot)\n",
    "   #     X_out_boot_scaled)\n",
    "    test_score = logreg.score(\n",
    "        X_out_boot_scaled, y_out_boot)\n",
    "    test_score_lst.append(test_score)\n",
    "    "
   ]
  },
  {
   "cell_type": "code",
   "execution_count": 413,
   "metadata": {},
   "outputs": [
    {
     "name": "stdout",
     "output_type": "stream",
     "text": [
      "Mean_acc: 1.000\n"
     ]
    }
   ],
   "source": [
    "mean_acc = statistics.fmean(test_score_lst)\n",
    "print(\"Mean_acc: %.3f\" % mean_acc)"
   ]
  },
  {
   "cell_type": "code",
   "execution_count": 414,
   "metadata": {},
   "outputs": [
    {
     "data": {
      "text/plain": [
       "[0.9994562188175479,\n",
       " 0.9995115730062681,\n",
       " 0.999687784218171,\n",
       " 0.9996344880802501,\n",
       " 0.9995365068978679,\n",
       " 0.9996464797541674,\n",
       " 0.9995660134264596,\n",
       " 0.9994980124004504,\n",
       " 0.9996871982483102,\n",
       " 0.9994707127734651,\n",
       " 0.9996194049123952,\n",
       " 0.9995658250003392,\n",
       " 0.9996463932107497,\n",
       " 0.9996208684819845,\n",
       " 0.9994968998150767]"
      ]
     },
     "execution_count": 414,
     "metadata": {},
     "output_type": "execute_result"
    }
   ],
   "source": [
    "test_score_lst"
   ]
  },
  {
   "cell_type": "code",
   "execution_count": 415,
   "metadata": {},
   "outputs": [],
   "source": [
    "#bias_variance\n",
    "\n",
    "from mlxtend.data import boston_housing_data\n",
    "boston_housing_data()\n",
    "X, y = boston_housing_data()\n",
    "X_train, X_test, y_train, y_test = train_test_split(X,\n",
    "                                                    y,\n",
    "                                                    test_size=0.3,\n",
    "                                                    random_state=123)\n",
    "\n",
    "#generating bootstrap samples based on a training sample\n",
    "def _draw_bootstrap_sample(rng, X, y):\n",
    "    sample_indices = np.arange(X.shape[0])\n",
    "    bootstrap_indices = rng.choice(sample_indices,\n",
    "                                    size=sample_indices.shape[0],\n",
    "                                    replace=True)\n",
    "    return X[bootstrap_indices], y[bootstrap_indices]"
   ]
  },
  {
   "cell_type": "code",
   "execution_count": 416,
   "metadata": {},
   "outputs": [],
   "source": [
    "#function that calculates the average expected value of the function of losses, averaged bias, averaged variance\n",
    "\n",
    "def bias_variance_decomp(estimator, X_train, y_train, X_test, y_test,\n",
    "                        num_rounds=200, random_seed=None):\n",
    "#Author: Sebastian Raschka https://github.com/rasbt\n",
    "\n",
    "        rng = np.random.RandomState(random_seed)\n",
    "        all_pred = np.zeros((num_rounds, y_test.shape[0]), dtype=int)\n",
    "\n",
    "        for i in range(num_rounds):\n",
    "            X_boot, y_boot = _draw_bootstrap_sample(rng, X_train, y_train)\n",
    "            pred = estimator.fit(X_boot, y_boot).predict(X_test)\n",
    "            all_pred[i] = pred\n",
    "            \n",
    "\n",
    "        avg_expected_loss = np.apply_along_axis(\n",
    "            lambda x:\n",
    "            ((x - y_test) ** 2).mean(),\n",
    "            axis=1,\n",
    "            arr=all_pred).mean()\n",
    "\n",
    "        main_predictions = np.mean(all_pred, axis=0)\n",
    "        avg_bias = np.sum((main_predictions - y_test) ** 2) / y_test.size\n",
    "        avg_var = np.sum((main_predictions - all_pred) ** 2) / all_pred.size\n",
    "        return avg_expected_loss, avg_bias, avg_var"
   ]
  },
  {
   "cell_type": "code",
   "execution_count": 417,
   "metadata": {},
   "outputs": [
    {
     "name": "stdout",
     "output_type": "stream",
     "text": [
      "avg_expected_loss: 31.756\n",
      "avg_bias: 13.856\n",
      "avg_var: 17.900\n"
     ]
    }
   ],
   "source": [
    "#max depth tree\n",
    "tree = DecisionTreeRegressor(random_state=123)\n",
    "avg_expected_loss, avg_bias, avg_var = bias_variance_decomp(\n",
    "    tree, X_train, y_train, X_test, y_test,\n",
    "    random_seed=123)\n",
    "\n",
    "ttl = \"avg_expected_loss: %.3f\"\n",
    "print(ttl % avg_expected_loss)\n",
    "print(\"avg_bias: %.3f\" % avg_bias)\n",
    "print(\"avg_var: %.3f\" % avg_var)"
   ]
  },
  {
   "cell_type": "code",
   "execution_count": 418,
   "metadata": {},
   "outputs": [
    {
     "name": "stdout",
     "output_type": "stream",
     "text": [
      "avg_expected_loss: 53.199\n",
      "avg_bias: 41.990\n",
      "avg_var: 11.209\n"
     ]
    }
   ],
   "source": [
    "#depth=1 tree\n",
    "tree2 = DecisionTreeRegressor(random_state=123, max_depth=1)\n",
    "avg_expected_loss, avg_bias, avg_var = bias_variance_decomp(\n",
    "    tree2, X_train, y_train, X_test, y_test,\n",
    "    random_seed=123)\n",
    "\n",
    "print(ttl % avg_expected_loss)\n",
    "print(\"avg_bias: %.3f\" % avg_bias)\n",
    "print(\"avg_var: %.3f\" % avg_var)"
   ]
  },
  {
   "cell_type": "code",
   "execution_count": 419,
   "metadata": {},
   "outputs": [
    {
     "data": {
      "text/plain": [
       "array([[0, 0, 0],\n",
       "       [0, 0, 0],\n",
       "       [0, 0, 0]])"
      ]
     },
     "execution_count": 419,
     "metadata": {},
     "output_type": "execute_result"
    }
   ],
   "source": [
    "#what is bias_variance_decomp\n",
    "X_train = np.array([[29.1, 19000.28, 15],\n",
    "                    [67.3, 48800.81, 45],\n",
    "                    [77.9, 89800.55, 188]])\n",
    "X_test = np.array([[11.9, 89900.28, 199],\n",
    "                    [37.8, 10600.82, 95],\n",
    "                    [77.2, 99700.22, 87]])\n",
    "y_train = np.array([22.6, 89.5, 17.3])\n",
    "y_test = np.array([12.4, 96.9, 107.9])\n",
    "\n",
    "rng = np.random.RandomState(123)\n",
    "\n",
    "all_pred = np.zeros((3, y_test.shape[0]), dtype=int)\n",
    "all_pred"
   ]
  },
  {
   "cell_type": "code",
   "execution_count": 420,
   "metadata": {},
   "outputs": [
    {
     "data": {
      "text/plain": [
       "array([[17, 89, 89],\n",
       "       [17, 22, 22],\n",
       "       [17, 89, 89]])"
      ]
     },
     "metadata": {},
     "output_type": "display_data"
    },
    {
     "data": {
      "text/plain": [
       "array([ 12.4,  96.9, 107.9])"
      ]
     },
     "execution_count": 420,
     "metadata": {},
     "output_type": "execute_result"
    }
   ],
   "source": [
    "for i in range(3):\n",
    "    X_boot, y_boot = _draw_bootstrap_sample(rng, X_train, y_train)\n",
    "    pred = tree.fit(X_boot, y_boot).predict(X_test)\n",
    "    all_pred[i] = pred\n",
    "    \n",
    "display(all_pred)\n",
    "y_test"
   ]
  },
  {
   "cell_type": "code",
   "execution_count": 421,
   "metadata": {},
   "outputs": [
    {
     "data": {
      "text/plain": [
       "146.92666666666676"
      ]
     },
     "execution_count": 421,
     "metadata": {},
     "output_type": "execute_result"
    }
   ],
   "source": [
    "mse_first_iter = (((17 - 12.4)**2) + ((89 - 96.9)**2) +\n",
    "                 ((89 - 107.9)**2)) / 3\n",
    "mse_first_iter"
   ]
  },
  {
   "cell_type": "code",
   "execution_count": 424,
   "metadata": {},
   "outputs": [
    {
     "data": {
      "text/plain": [
       "array([ 146.92666667, 4336.66      ,  146.92666667])"
      ]
     },
     "execution_count": 424,
     "metadata": {},
     "output_type": "execute_result"
    }
   ],
   "source": [
    "mse = np.apply_along_axis(\n",
    "    lambda x:\n",
    "    ((x - y_test)**2).mean(),\n",
    "    axis=1,\n",
    "    arr=all_pred)\n",
    "mse"
   ]
  },
  {
   "cell_type": "code",
   "execution_count": 425,
   "metadata": {},
   "outputs": [
    {
     "data": {
      "text/plain": [
       "1543.504444444445"
      ]
     },
     "execution_count": 425,
     "metadata": {},
     "output_type": "execute_result"
    }
   ],
   "source": [
    "avg_expected_loss = np.apply_along_axis(\n",
    "    lambda x:\n",
    "    ((x - y_test)**2).mean(),\n",
    "    axis=1,\n",
    "    arr=all_pred).mean()\n",
    "avg_expected_loss"
   ]
  },
  {
   "cell_type": "code",
   "execution_count": 426,
   "metadata": {},
   "outputs": [
    {
     "data": {
      "text/plain": [
       "array([17.        , 66.66666667, 66.66666667])"
      ]
     },
     "execution_count": 426,
     "metadata": {},
     "output_type": "execute_result"
    }
   ],
   "source": [
    "main_predictions = np.mean(all_pred, axis=0)\n",
    "main_predictions"
   ]
  },
  {
   "cell_type": "code",
   "execution_count": 427,
   "metadata": {},
   "outputs": [
    {
     "data": {
      "text/plain": [
       "878.4674074074074"
      ]
     },
     "execution_count": 427,
     "metadata": {},
     "output_type": "execute_result"
    }
   ],
   "source": [
    "avg_bias = np.sum((main_predictions - y_test)**2) / y_test.size\n",
    "avg_bias"
   ]
  },
  {
   "cell_type": "code",
   "execution_count": 428,
   "metadata": {},
   "outputs": [
    {
     "data": {
      "text/plain": [
       "665.037037037037"
      ]
     },
     "execution_count": 428,
     "metadata": {},
     "output_type": "execute_result"
    }
   ],
   "source": [
    "avg_var = np.sum((main_predictions - all_pred)**2) / all_pred.size\n",
    "avg_var"
   ]
  },
  {
   "cell_type": "code",
   "execution_count": 430,
   "metadata": {},
   "outputs": [
    {
     "name": "stdout",
     "output_type": "stream",
     "text": [
      "avg_expected_loss: 1543.504\n",
      "avg_bias: 878.467\n",
      "avg_var: 665.037\n"
     ]
    }
   ],
   "source": [
    "avg_expected_loss, avg_bias, avg_var = bias_variance_decomp(\n",
    "    tree, X_train, y_train, X_test, y_test, num_rounds=3,\n",
    "    random_seed=123)\n",
    "\n",
    "print(ttl % avg_expected_loss)\n",
    "print(\"avg_bias: %.3f\" % avg_bias)\n",
    "print(\"avg_var: %.3f\" % avg_var)"
   ]
  },
  {
   "cell_type": "code",
   "execution_count": 434,
   "metadata": {},
   "outputs": [
    {
     "data": {
      "text/html": [
       "<div>\n",
       "<style scoped>\n",
       "    .dataframe tbody tr th:only-of-type {\n",
       "        vertical-align: middle;\n",
       "    }\n",
       "\n",
       "    .dataframe tbody tr th {\n",
       "        vertical-align: top;\n",
       "    }\n",
       "\n",
       "    .dataframe thead th {\n",
       "        text-align: right;\n",
       "    }\n",
       "</style>\n",
       "<table border=\"1\" class=\"dataframe\">\n",
       "  <thead>\n",
       "    <tr style=\"text-align: right;\">\n",
       "      <th></th>\n",
       "      <th>Id</th>\n",
       "      <th>MSSubClass</th>\n",
       "      <th>MSZoning</th>\n",
       "      <th>LotFrontage</th>\n",
       "      <th>LotArea</th>\n",
       "      <th>Street</th>\n",
       "      <th>Alley</th>\n",
       "      <th>LotShape</th>\n",
       "      <th>LandContour</th>\n",
       "      <th>Utilities</th>\n",
       "      <th>...</th>\n",
       "      <th>PoolArea</th>\n",
       "      <th>PoolQC</th>\n",
       "      <th>Fence</th>\n",
       "      <th>MiscFeature</th>\n",
       "      <th>MiscVal</th>\n",
       "      <th>MoSold</th>\n",
       "      <th>YrSold</th>\n",
       "      <th>SaleType</th>\n",
       "      <th>SaleCondition</th>\n",
       "      <th>SalePrice</th>\n",
       "    </tr>\n",
       "  </thead>\n",
       "  <tbody>\n",
       "    <tr>\n",
       "      <th>0</th>\n",
       "      <td>1</td>\n",
       "      <td>60</td>\n",
       "      <td>RL</td>\n",
       "      <td>65.0</td>\n",
       "      <td>8450</td>\n",
       "      <td>Pave</td>\n",
       "      <td>NaN</td>\n",
       "      <td>Reg</td>\n",
       "      <td>Lvl</td>\n",
       "      <td>AllPub</td>\n",
       "      <td>...</td>\n",
       "      <td>0</td>\n",
       "      <td>NaN</td>\n",
       "      <td>NaN</td>\n",
       "      <td>NaN</td>\n",
       "      <td>0</td>\n",
       "      <td>2</td>\n",
       "      <td>2008</td>\n",
       "      <td>WD</td>\n",
       "      <td>Normal</td>\n",
       "      <td>208500</td>\n",
       "    </tr>\n",
       "    <tr>\n",
       "      <th>1</th>\n",
       "      <td>2</td>\n",
       "      <td>20</td>\n",
       "      <td>RL</td>\n",
       "      <td>80.0</td>\n",
       "      <td>9600</td>\n",
       "      <td>Pave</td>\n",
       "      <td>NaN</td>\n",
       "      <td>Reg</td>\n",
       "      <td>Lvl</td>\n",
       "      <td>AllPub</td>\n",
       "      <td>...</td>\n",
       "      <td>0</td>\n",
       "      <td>NaN</td>\n",
       "      <td>NaN</td>\n",
       "      <td>NaN</td>\n",
       "      <td>0</td>\n",
       "      <td>5</td>\n",
       "      <td>2007</td>\n",
       "      <td>WD</td>\n",
       "      <td>Normal</td>\n",
       "      <td>181500</td>\n",
       "    </tr>\n",
       "    <tr>\n",
       "      <th>2</th>\n",
       "      <td>3</td>\n",
       "      <td>60</td>\n",
       "      <td>RL</td>\n",
       "      <td>68.0</td>\n",
       "      <td>11250</td>\n",
       "      <td>Pave</td>\n",
       "      <td>NaN</td>\n",
       "      <td>IR1</td>\n",
       "      <td>Lvl</td>\n",
       "      <td>AllPub</td>\n",
       "      <td>...</td>\n",
       "      <td>0</td>\n",
       "      <td>NaN</td>\n",
       "      <td>NaN</td>\n",
       "      <td>NaN</td>\n",
       "      <td>0</td>\n",
       "      <td>9</td>\n",
       "      <td>2008</td>\n",
       "      <td>WD</td>\n",
       "      <td>Normal</td>\n",
       "      <td>223500</td>\n",
       "    </tr>\n",
       "    <tr>\n",
       "      <th>3</th>\n",
       "      <td>4</td>\n",
       "      <td>70</td>\n",
       "      <td>RL</td>\n",
       "      <td>60.0</td>\n",
       "      <td>9550</td>\n",
       "      <td>Pave</td>\n",
       "      <td>NaN</td>\n",
       "      <td>IR1</td>\n",
       "      <td>Lvl</td>\n",
       "      <td>AllPub</td>\n",
       "      <td>...</td>\n",
       "      <td>0</td>\n",
       "      <td>NaN</td>\n",
       "      <td>NaN</td>\n",
       "      <td>NaN</td>\n",
       "      <td>0</td>\n",
       "      <td>2</td>\n",
       "      <td>2006</td>\n",
       "      <td>WD</td>\n",
       "      <td>Abnorml</td>\n",
       "      <td>140000</td>\n",
       "    </tr>\n",
       "    <tr>\n",
       "      <th>4</th>\n",
       "      <td>5</td>\n",
       "      <td>60</td>\n",
       "      <td>RL</td>\n",
       "      <td>84.0</td>\n",
       "      <td>14260</td>\n",
       "      <td>Pave</td>\n",
       "      <td>NaN</td>\n",
       "      <td>IR1</td>\n",
       "      <td>Lvl</td>\n",
       "      <td>AllPub</td>\n",
       "      <td>...</td>\n",
       "      <td>0</td>\n",
       "      <td>NaN</td>\n",
       "      <td>NaN</td>\n",
       "      <td>NaN</td>\n",
       "      <td>0</td>\n",
       "      <td>12</td>\n",
       "      <td>2008</td>\n",
       "      <td>WD</td>\n",
       "      <td>Normal</td>\n",
       "      <td>250000</td>\n",
       "    </tr>\n",
       "  </tbody>\n",
       "</table>\n",
       "<p>5 rows × 81 columns</p>\n",
       "</div>"
      ],
      "text/plain": [
       "   Id  MSSubClass MSZoning  LotFrontage  LotArea Street Alley LotShape  \\\n",
       "0   1          60       RL         65.0     8450   Pave   NaN      Reg   \n",
       "1   2          20       RL         80.0     9600   Pave   NaN      Reg   \n",
       "2   3          60       RL         68.0    11250   Pave   NaN      IR1   \n",
       "3   4          70       RL         60.0     9550   Pave   NaN      IR1   \n",
       "4   5          60       RL         84.0    14260   Pave   NaN      IR1   \n",
       "\n",
       "  LandContour Utilities  ... PoolArea PoolQC Fence MiscFeature MiscVal MoSold  \\\n",
       "0         Lvl    AllPub  ...        0    NaN   NaN         NaN       0      2   \n",
       "1         Lvl    AllPub  ...        0    NaN   NaN         NaN       0      5   \n",
       "2         Lvl    AllPub  ...        0    NaN   NaN         NaN       0      9   \n",
       "3         Lvl    AllPub  ...        0    NaN   NaN         NaN       0      2   \n",
       "4         Lvl    AllPub  ...        0    NaN   NaN         NaN       0     12   \n",
       "\n",
       "  YrSold  SaleType  SaleCondition  SalePrice  \n",
       "0   2008        WD         Normal     208500  \n",
       "1   2007        WD         Normal     181500  \n",
       "2   2008        WD         Normal     223500  \n",
       "3   2006        WD        Abnorml     140000  \n",
       "4   2008        WD         Normal     250000  \n",
       "\n",
       "[5 rows x 81 columns]"
      ]
     },
     "execution_count": 434,
     "metadata": {},
     "output_type": "execute_result"
    }
   ],
   "source": [
    "#MissingIndicator SimpleImputer\n",
    "from sklearn.impute import MissingIndicator, SimpleImputer\n",
    "\n",
    "data = pd.read_csv('./HPData.csv')\n",
    "\n",
    "data.head()"
   ]
  },
  {
   "cell_type": "code",
   "execution_count": 437,
   "metadata": {},
   "outputs": [],
   "source": [
    "train, test, y_train, y_test = train_test_split(\n",
    "    data.drop('SalePrice', axis=1),\n",
    "    data['SalePrice'],\n",
    "    test_size=.3,\n",
    "    random_state=100)"
   ]
  },
  {
   "cell_type": "code",
   "execution_count": 463,
   "metadata": {},
   "outputs": [
    {
     "name": "stdout",
     "output_type": "stream",
     "text": [
      "<class 'pandas.core.frame.DataFrame'>\n",
      "Index: 1022 entries, 210 to 792\n",
      "Data columns (total 81 columns):\n",
      " #   Column          Non-Null Count  Dtype  \n",
      "---  ------          --------------  -----  \n",
      " 0   Id              1022 non-null   int64  \n",
      " 1   MSSubClass      1022 non-null   int64  \n",
      " 2   MSZoning        1022 non-null   object \n",
      " 3   LotFrontage     845 non-null    float64\n",
      " 4   LotArea         1022 non-null   int64  \n",
      " 5   Street          1022 non-null   object \n",
      " 6   Alley           64 non-null     object \n",
      " 7   LotShape        1022 non-null   object \n",
      " 8   LandContour     1022 non-null   object \n",
      " 9   Utilities       1022 non-null   object \n",
      " 10  LotConfig       1022 non-null   object \n",
      " 11  LandSlope       1022 non-null   object \n",
      " 12  Neighborhood    1022 non-null   object \n",
      " 13  Condition1      1022 non-null   object \n",
      " 14  Condition2      1022 non-null   object \n",
      " 15  BldgType        1022 non-null   object \n",
      " 16  HouseStyle      1022 non-null   object \n",
      " 17  OverallQual     1022 non-null   int64  \n",
      " 18  OverallCond     1022 non-null   int64  \n",
      " 19  YearBuilt       1022 non-null   int64  \n",
      " 20  YearRemodAdd    1022 non-null   int64  \n",
      " 21  RoofStyle       1022 non-null   object \n",
      " 22  RoofMatl        1022 non-null   object \n",
      " 23  Exterior1st     1022 non-null   object \n",
      " 24  Exterior2nd     1022 non-null   object \n",
      " 25  MasVnrType      413 non-null    object \n",
      " 26  MasVnrArea      1018 non-null   float64\n",
      " 27  ExterQual       1022 non-null   object \n",
      " 28  ExterCond       1022 non-null   object \n",
      " 29  Foundation      1022 non-null   object \n",
      " 30  BsmtQual        993 non-null    object \n",
      " 31  BsmtCond        993 non-null    object \n",
      " 32  BsmtExposure    992 non-null    object \n",
      " 33  BsmtFinType1    993 non-null    object \n",
      " 34  BsmtFinSF1      1022 non-null   int64  \n",
      " 35  BsmtFinType2    992 non-null    object \n",
      " 36  BsmtFinSF2      1022 non-null   int64  \n",
      " 37  BsmtUnfSF       1022 non-null   int64  \n",
      " 38  TotalBsmtSF     1022 non-null   int64  \n",
      " 39  Heating         1022 non-null   object \n",
      " 40  HeatingQC       1022 non-null   object \n",
      " 41  CentralAir      1022 non-null   object \n",
      " 42  Electrical      1022 non-null   object \n",
      " 43  1stFlrSF        1022 non-null   int64  \n",
      " 44  2ndFlrSF        1022 non-null   int64  \n",
      " 45  LowQualFinSF    1022 non-null   int64  \n",
      " 46  GrLivArea       1022 non-null   int64  \n",
      " 47  BsmtFullBath    1022 non-null   int64  \n",
      " 48  BsmtHalfBath    1022 non-null   int64  \n",
      " 49  FullBath        1022 non-null   int64  \n",
      " 50  HalfBath        1022 non-null   int64  \n",
      " 51  BedroomAbvGr    1022 non-null   int64  \n",
      " 52  KitchenAbvGr    1022 non-null   int64  \n",
      " 53  KitchenQual     1022 non-null   object \n",
      " 54  TotRmsAbvGrd    1022 non-null   int64  \n",
      " 55  Functional      1022 non-null   object \n",
      " 56  Fireplaces      1022 non-null   int64  \n",
      " 57  FireplaceQu     526 non-null    object \n",
      " 58  GarageType      964 non-null    object \n",
      " 59  GarageYrBlt     964 non-null    float64\n",
      " 60  GarageFinish    964 non-null    object \n",
      " 61  GarageCars      1022 non-null   int64  \n",
      " 62  GarageArea      1022 non-null   int64  \n",
      " 63  GarageQual      964 non-null    object \n",
      " 64  GarageCond      964 non-null    object \n",
      " 65  PavedDrive      1022 non-null   object \n",
      " 66  WoodDeckSF      1022 non-null   int64  \n",
      " 67  OpenPorchSF     1022 non-null   int64  \n",
      " 68  EnclosedPorch   1022 non-null   int64  \n",
      " 69  3SsnPorch       1022 non-null   int64  \n",
      " 70  ScreenPorch     1022 non-null   int64  \n",
      " 71  PoolArea        1022 non-null   int64  \n",
      " 72  PoolQC          4 non-null      object \n",
      " 73  Fence           185 non-null    object \n",
      " 74  MiscFeature     39 non-null     object \n",
      " 75  MiscVal         1022 non-null   int64  \n",
      " 76  MoSold          1022 non-null   int64  \n",
      " 77  YrSold          1022 non-null   int64  \n",
      " 78  SaleType        1022 non-null   object \n",
      " 79  SaleCondition   1022 non-null   object \n",
      " 80  miss_ind_Alley  1022 non-null   bool   \n",
      "dtypes: bool(1), float64(3), int64(34), object(43)\n",
      "memory usage: 647.7+ KB\n"
     ]
    }
   ],
   "source": [
    "train.info()"
   ]
  },
  {
   "cell_type": "code",
   "execution_count": 464,
   "metadata": {},
   "outputs": [
    {
     "data": {
      "text/plain": [
       "177"
      ]
     },
     "execution_count": 464,
     "metadata": {},
     "output_type": "execute_result"
    }
   ],
   "source": [
    "train['LotFrontage'].isnull().sum()"
   ]
  },
  {
   "cell_type": "code",
   "execution_count": 469,
   "metadata": {},
   "outputs": [
    {
     "data": {
      "text/plain": [
       "Id                        0\n",
       "MSSubClass                0\n",
       "MSZoning                  0\n",
       "LotFrontage             177\n",
       "LotArea                   0\n",
       "                       ... \n",
       "YrSold                    0\n",
       "SaleType                  0\n",
       "SaleCondition             0\n",
       "miss_ind_Alley            0\n",
       "miss_ind_LotFrontage      0\n",
       "Length: 82, dtype: int64"
      ]
     },
     "execution_count": 469,
     "metadata": {},
     "output_type": "execute_result"
    }
   ],
   "source": [
    "train.isnull().sum()"
   ]
  },
  {
   "cell_type": "code",
   "execution_count": 470,
   "metadata": {},
   "outputs": [
    {
     "data": {
      "text/html": [
       "<style>#sk-container-id-8 {color: black;}#sk-container-id-8 pre{padding: 0;}#sk-container-id-8 div.sk-toggleable {background-color: white;}#sk-container-id-8 label.sk-toggleable__label {cursor: pointer;display: block;width: 100%;margin-bottom: 0;padding: 0.3em;box-sizing: border-box;text-align: center;}#sk-container-id-8 label.sk-toggleable__label-arrow:before {content: \"▸\";float: left;margin-right: 0.25em;color: #696969;}#sk-container-id-8 label.sk-toggleable__label-arrow:hover:before {color: black;}#sk-container-id-8 div.sk-estimator:hover label.sk-toggleable__label-arrow:before {color: black;}#sk-container-id-8 div.sk-toggleable__content {max-height: 0;max-width: 0;overflow: hidden;text-align: left;background-color: #f0f8ff;}#sk-container-id-8 div.sk-toggleable__content pre {margin: 0.2em;color: black;border-radius: 0.25em;background-color: #f0f8ff;}#sk-container-id-8 input.sk-toggleable__control:checked~div.sk-toggleable__content {max-height: 200px;max-width: 100%;overflow: auto;}#sk-container-id-8 input.sk-toggleable__control:checked~label.sk-toggleable__label-arrow:before {content: \"▾\";}#sk-container-id-8 div.sk-estimator input.sk-toggleable__control:checked~label.sk-toggleable__label {background-color: #d4ebff;}#sk-container-id-8 div.sk-label input.sk-toggleable__control:checked~label.sk-toggleable__label {background-color: #d4ebff;}#sk-container-id-8 input.sk-hidden--visually {border: 0;clip: rect(1px 1px 1px 1px);clip: rect(1px, 1px, 1px, 1px);height: 1px;margin: -1px;overflow: hidden;padding: 0;position: absolute;width: 1px;}#sk-container-id-8 div.sk-estimator {font-family: monospace;background-color: #f0f8ff;border: 1px dotted black;border-radius: 0.25em;box-sizing: border-box;margin-bottom: 0.5em;}#sk-container-id-8 div.sk-estimator:hover {background-color: #d4ebff;}#sk-container-id-8 div.sk-parallel-item::after {content: \"\";width: 100%;border-bottom: 1px solid gray;flex-grow: 1;}#sk-container-id-8 div.sk-label:hover label.sk-toggleable__label {background-color: #d4ebff;}#sk-container-id-8 div.sk-serial::before {content: \"\";position: absolute;border-left: 1px solid gray;box-sizing: border-box;top: 0;bottom: 0;left: 50%;z-index: 0;}#sk-container-id-8 div.sk-serial {display: flex;flex-direction: column;align-items: center;background-color: white;padding-right: 0.2em;padding-left: 0.2em;position: relative;}#sk-container-id-8 div.sk-item {position: relative;z-index: 1;}#sk-container-id-8 div.sk-parallel {display: flex;align-items: stretch;justify-content: center;background-color: white;position: relative;}#sk-container-id-8 div.sk-item::before, #sk-container-id-8 div.sk-parallel-item::before {content: \"\";position: absolute;border-left: 1px solid gray;box-sizing: border-box;top: 0;bottom: 0;left: 50%;z-index: -1;}#sk-container-id-8 div.sk-parallel-item {display: flex;flex-direction: column;z-index: 1;position: relative;background-color: white;}#sk-container-id-8 div.sk-parallel-item:first-child::after {align-self: flex-end;width: 50%;}#sk-container-id-8 div.sk-parallel-item:last-child::after {align-self: flex-start;width: 50%;}#sk-container-id-8 div.sk-parallel-item:only-child::after {width: 0;}#sk-container-id-8 div.sk-dashed-wrapped {border: 1px dashed gray;margin: 0 0.4em 0.5em 0.4em;box-sizing: border-box;padding-bottom: 0.4em;background-color: white;}#sk-container-id-8 div.sk-label label {font-family: monospace;font-weight: bold;display: inline-block;line-height: 1.2em;}#sk-container-id-8 div.sk-label-container {text-align: center;}#sk-container-id-8 div.sk-container {/* jupyter's `normalize.less` sets `[hidden] { display: none; }` but bootstrap.min.css set `[hidden] { display: none !important; }` so we also need the `!important` here to be able to override the default hidden behavior on the sphinx rendered scikit-learn.org. See: https://github.com/scikit-learn/scikit-learn/issues/21755 */display: inline-block !important;position: relative;}#sk-container-id-8 div.sk-text-repr-fallback {display: none;}</style><div id=\"sk-container-id-8\" class=\"sk-top-container\"><div class=\"sk-text-repr-fallback\"><pre>MissingIndicator()</pre><b>In a Jupyter environment, please rerun this cell to show the HTML representation or trust the notebook. <br />On GitHub, the HTML representation is unable to render, please try loading this page with nbviewer.org.</b></div><div class=\"sk-container\" hidden><div class=\"sk-item\"><div class=\"sk-estimator sk-toggleable\"><input class=\"sk-toggleable__control sk-hidden--visually\" id=\"sk-estimator-id-8\" type=\"checkbox\" checked><label for=\"sk-estimator-id-8\" class=\"sk-toggleable__label sk-toggleable__label-arrow\">MissingIndicator</label><div class=\"sk-toggleable__content\"><pre>MissingIndicator()</pre></div></div></div></div></div>"
      ],
      "text/plain": [
       "MissingIndicator()"
      ]
     },
     "execution_count": 470,
     "metadata": {},
     "output_type": "execute_result"
    }
   ],
   "source": [
    "miss_ind = MissingIndicator()\n",
    "miss_ind.fit(train[['LotFrontage']])"
   ]
  },
  {
   "cell_type": "code",
   "execution_count": 467,
   "metadata": {},
   "outputs": [],
   "source": [
    "train['miss_ind_LotFrontage'] = miss_ind.transform(train[['LotFrontage']])\n",
    "test['miss_ind_LotFrontage'] = miss_ind.transform(test[['LotFrontage']])"
   ]
  },
  {
   "cell_type": "code",
   "execution_count": 477,
   "metadata": {},
   "outputs": [
    {
     "data": {
      "text/html": [
       "<div>\n",
       "<style scoped>\n",
       "    .dataframe tbody tr th:only-of-type {\n",
       "        vertical-align: middle;\n",
       "    }\n",
       "\n",
       "    .dataframe tbody tr th {\n",
       "        vertical-align: top;\n",
       "    }\n",
       "\n",
       "    .dataframe thead th {\n",
       "        text-align: right;\n",
       "    }\n",
       "</style>\n",
       "<table border=\"1\" class=\"dataframe\">\n",
       "  <thead>\n",
       "    <tr style=\"text-align: right;\">\n",
       "      <th></th>\n",
       "      <th>Id</th>\n",
       "      <th>MSSubClass</th>\n",
       "      <th>MSZoning</th>\n",
       "      <th>LotFrontage</th>\n",
       "      <th>LotArea</th>\n",
       "      <th>Street</th>\n",
       "      <th>Alley</th>\n",
       "      <th>LotShape</th>\n",
       "      <th>LandContour</th>\n",
       "      <th>Utilities</th>\n",
       "      <th>...</th>\n",
       "      <th>PoolQC</th>\n",
       "      <th>Fence</th>\n",
       "      <th>MiscFeature</th>\n",
       "      <th>MiscVal</th>\n",
       "      <th>MoSold</th>\n",
       "      <th>YrSold</th>\n",
       "      <th>SaleType</th>\n",
       "      <th>SaleCondition</th>\n",
       "      <th>miss_ind_Alley</th>\n",
       "      <th>miss_ind_LotFrontage</th>\n",
       "    </tr>\n",
       "  </thead>\n",
       "  <tbody>\n",
       "    <tr>\n",
       "      <th>342</th>\n",
       "      <td>343</td>\n",
       "      <td>90</td>\n",
       "      <td>RL</td>\n",
       "      <td>NaN</td>\n",
       "      <td>8544</td>\n",
       "      <td>Pave</td>\n",
       "      <td>NaN</td>\n",
       "      <td>Reg</td>\n",
       "      <td>Lvl</td>\n",
       "      <td>AllPub</td>\n",
       "      <td>...</td>\n",
       "      <td>NaN</td>\n",
       "      <td>NaN</td>\n",
       "      <td>NaN</td>\n",
       "      <td>0</td>\n",
       "      <td>5</td>\n",
       "      <td>2006</td>\n",
       "      <td>WD</td>\n",
       "      <td>Normal</td>\n",
       "      <td>True</td>\n",
       "      <td>True</td>\n",
       "    </tr>\n",
       "    <tr>\n",
       "      <th>308</th>\n",
       "      <td>309</td>\n",
       "      <td>30</td>\n",
       "      <td>RL</td>\n",
       "      <td>NaN</td>\n",
       "      <td>12342</td>\n",
       "      <td>Pave</td>\n",
       "      <td>NaN</td>\n",
       "      <td>IR1</td>\n",
       "      <td>Lvl</td>\n",
       "      <td>AllPub</td>\n",
       "      <td>...</td>\n",
       "      <td>NaN</td>\n",
       "      <td>NaN</td>\n",
       "      <td>NaN</td>\n",
       "      <td>0</td>\n",
       "      <td>3</td>\n",
       "      <td>2009</td>\n",
       "      <td>WD</td>\n",
       "      <td>Normal</td>\n",
       "      <td>True</td>\n",
       "      <td>True</td>\n",
       "    </tr>\n",
       "    <tr>\n",
       "      <th>452</th>\n",
       "      <td>453</td>\n",
       "      <td>60</td>\n",
       "      <td>RL</td>\n",
       "      <td>NaN</td>\n",
       "      <td>9303</td>\n",
       "      <td>Pave</td>\n",
       "      <td>NaN</td>\n",
       "      <td>IR1</td>\n",
       "      <td>Lvl</td>\n",
       "      <td>AllPub</td>\n",
       "      <td>...</td>\n",
       "      <td>NaN</td>\n",
       "      <td>NaN</td>\n",
       "      <td>NaN</td>\n",
       "      <td>0</td>\n",
       "      <td>7</td>\n",
       "      <td>2007</td>\n",
       "      <td>WD</td>\n",
       "      <td>Normal</td>\n",
       "      <td>True</td>\n",
       "      <td>True</td>\n",
       "    </tr>\n",
       "    <tr>\n",
       "      <th>405</th>\n",
       "      <td>406</td>\n",
       "      <td>20</td>\n",
       "      <td>RL</td>\n",
       "      <td>NaN</td>\n",
       "      <td>9991</td>\n",
       "      <td>Pave</td>\n",
       "      <td>NaN</td>\n",
       "      <td>IR1</td>\n",
       "      <td>Lvl</td>\n",
       "      <td>AllPub</td>\n",
       "      <td>...</td>\n",
       "      <td>NaN</td>\n",
       "      <td>GdWo</td>\n",
       "      <td>NaN</td>\n",
       "      <td>0</td>\n",
       "      <td>6</td>\n",
       "      <td>2009</td>\n",
       "      <td>WD</td>\n",
       "      <td>Normal</td>\n",
       "      <td>True</td>\n",
       "      <td>True</td>\n",
       "    </tr>\n",
       "    <tr>\n",
       "      <th>1443</th>\n",
       "      <td>1444</td>\n",
       "      <td>30</td>\n",
       "      <td>RL</td>\n",
       "      <td>NaN</td>\n",
       "      <td>8854</td>\n",
       "      <td>Pave</td>\n",
       "      <td>NaN</td>\n",
       "      <td>Reg</td>\n",
       "      <td>Lvl</td>\n",
       "      <td>AllPub</td>\n",
       "      <td>...</td>\n",
       "      <td>NaN</td>\n",
       "      <td>NaN</td>\n",
       "      <td>NaN</td>\n",
       "      <td>0</td>\n",
       "      <td>5</td>\n",
       "      <td>2009</td>\n",
       "      <td>WD</td>\n",
       "      <td>Normal</td>\n",
       "      <td>True</td>\n",
       "      <td>True</td>\n",
       "    </tr>\n",
       "    <tr>\n",
       "      <th>...</th>\n",
       "      <td>...</td>\n",
       "      <td>...</td>\n",
       "      <td>...</td>\n",
       "      <td>...</td>\n",
       "      <td>...</td>\n",
       "      <td>...</td>\n",
       "      <td>...</td>\n",
       "      <td>...</td>\n",
       "      <td>...</td>\n",
       "      <td>...</td>\n",
       "      <td>...</td>\n",
       "      <td>...</td>\n",
       "      <td>...</td>\n",
       "      <td>...</td>\n",
       "      <td>...</td>\n",
       "      <td>...</td>\n",
       "      <td>...</td>\n",
       "      <td>...</td>\n",
       "      <td>...</td>\n",
       "      <td>...</td>\n",
       "      <td>...</td>\n",
       "    </tr>\n",
       "    <tr>\n",
       "      <th>944</th>\n",
       "      <td>945</td>\n",
       "      <td>20</td>\n",
       "      <td>RL</td>\n",
       "      <td>NaN</td>\n",
       "      <td>14375</td>\n",
       "      <td>Pave</td>\n",
       "      <td>NaN</td>\n",
       "      <td>IR1</td>\n",
       "      <td>Lvl</td>\n",
       "      <td>NoSeWa</td>\n",
       "      <td>...</td>\n",
       "      <td>NaN</td>\n",
       "      <td>NaN</td>\n",
       "      <td>NaN</td>\n",
       "      <td>0</td>\n",
       "      <td>1</td>\n",
       "      <td>2009</td>\n",
       "      <td>COD</td>\n",
       "      <td>Abnorml</td>\n",
       "      <td>True</td>\n",
       "      <td>True</td>\n",
       "    </tr>\n",
       "    <tr>\n",
       "      <th>1262</th>\n",
       "      <td>1263</td>\n",
       "      <td>50</td>\n",
       "      <td>RL</td>\n",
       "      <td>NaN</td>\n",
       "      <td>11250</td>\n",
       "      <td>Pave</td>\n",
       "      <td>NaN</td>\n",
       "      <td>Reg</td>\n",
       "      <td>Lvl</td>\n",
       "      <td>AllPub</td>\n",
       "      <td>...</td>\n",
       "      <td>NaN</td>\n",
       "      <td>NaN</td>\n",
       "      <td>NaN</td>\n",
       "      <td>0</td>\n",
       "      <td>11</td>\n",
       "      <td>2009</td>\n",
       "      <td>WD</td>\n",
       "      <td>Normal</td>\n",
       "      <td>True</td>\n",
       "      <td>True</td>\n",
       "    </tr>\n",
       "    <tr>\n",
       "      <th>967</th>\n",
       "      <td>968</td>\n",
       "      <td>20</td>\n",
       "      <td>RL</td>\n",
       "      <td>NaN</td>\n",
       "      <td>7390</td>\n",
       "      <td>Pave</td>\n",
       "      <td>NaN</td>\n",
       "      <td>IR1</td>\n",
       "      <td>Lvl</td>\n",
       "      <td>AllPub</td>\n",
       "      <td>...</td>\n",
       "      <td>NaN</td>\n",
       "      <td>NaN</td>\n",
       "      <td>NaN</td>\n",
       "      <td>0</td>\n",
       "      <td>7</td>\n",
       "      <td>2008</td>\n",
       "      <td>WD</td>\n",
       "      <td>Normal</td>\n",
       "      <td>True</td>\n",
       "      <td>True</td>\n",
       "    </tr>\n",
       "    <tr>\n",
       "      <th>612</th>\n",
       "      <td>613</td>\n",
       "      <td>60</td>\n",
       "      <td>RL</td>\n",
       "      <td>NaN</td>\n",
       "      <td>11885</td>\n",
       "      <td>Pave</td>\n",
       "      <td>NaN</td>\n",
       "      <td>Reg</td>\n",
       "      <td>Lvl</td>\n",
       "      <td>AllPub</td>\n",
       "      <td>...</td>\n",
       "      <td>NaN</td>\n",
       "      <td>NaN</td>\n",
       "      <td>NaN</td>\n",
       "      <td>0</td>\n",
       "      <td>11</td>\n",
       "      <td>2009</td>\n",
       "      <td>WD</td>\n",
       "      <td>Normal</td>\n",
       "      <td>True</td>\n",
       "      <td>True</td>\n",
       "    </tr>\n",
       "    <tr>\n",
       "      <th>757</th>\n",
       "      <td>758</td>\n",
       "      <td>60</td>\n",
       "      <td>RL</td>\n",
       "      <td>NaN</td>\n",
       "      <td>11616</td>\n",
       "      <td>Pave</td>\n",
       "      <td>NaN</td>\n",
       "      <td>IR1</td>\n",
       "      <td>Lvl</td>\n",
       "      <td>AllPub</td>\n",
       "      <td>...</td>\n",
       "      <td>NaN</td>\n",
       "      <td>GdPrv</td>\n",
       "      <td>NaN</td>\n",
       "      <td>0</td>\n",
       "      <td>4</td>\n",
       "      <td>2010</td>\n",
       "      <td>WD</td>\n",
       "      <td>Abnorml</td>\n",
       "      <td>True</td>\n",
       "      <td>True</td>\n",
       "    </tr>\n",
       "  </tbody>\n",
       "</table>\n",
       "<p>177 rows × 82 columns</p>\n",
       "</div>"
      ],
      "text/plain": [
       "        Id  MSSubClass MSZoning  LotFrontage  LotArea Street Alley LotShape  \\\n",
       "342    343          90       RL          NaN     8544   Pave   NaN      Reg   \n",
       "308    309          30       RL          NaN    12342   Pave   NaN      IR1   \n",
       "452    453          60       RL          NaN     9303   Pave   NaN      IR1   \n",
       "405    406          20       RL          NaN     9991   Pave   NaN      IR1   \n",
       "1443  1444          30       RL          NaN     8854   Pave   NaN      Reg   \n",
       "...    ...         ...      ...          ...      ...    ...   ...      ...   \n",
       "944    945          20       RL          NaN    14375   Pave   NaN      IR1   \n",
       "1262  1263          50       RL          NaN    11250   Pave   NaN      Reg   \n",
       "967    968          20       RL          NaN     7390   Pave   NaN      IR1   \n",
       "612    613          60       RL          NaN    11885   Pave   NaN      Reg   \n",
       "757    758          60       RL          NaN    11616   Pave   NaN      IR1   \n",
       "\n",
       "     LandContour Utilities  ... PoolQC  Fence MiscFeature MiscVal MoSold  \\\n",
       "342          Lvl    AllPub  ...    NaN    NaN         NaN       0      5   \n",
       "308          Lvl    AllPub  ...    NaN    NaN         NaN       0      3   \n",
       "452          Lvl    AllPub  ...    NaN    NaN         NaN       0      7   \n",
       "405          Lvl    AllPub  ...    NaN   GdWo         NaN       0      6   \n",
       "1443         Lvl    AllPub  ...    NaN    NaN         NaN       0      5   \n",
       "...          ...       ...  ...    ...    ...         ...     ...    ...   \n",
       "944          Lvl    NoSeWa  ...    NaN    NaN         NaN       0      1   \n",
       "1262         Lvl    AllPub  ...    NaN    NaN         NaN       0     11   \n",
       "967          Lvl    AllPub  ...    NaN    NaN         NaN       0      7   \n",
       "612          Lvl    AllPub  ...    NaN    NaN         NaN       0     11   \n",
       "757          Lvl    AllPub  ...    NaN  GdPrv         NaN       0      4   \n",
       "\n",
       "     YrSold SaleType  SaleCondition  miss_ind_Alley  miss_ind_LotFrontage  \n",
       "342    2006       WD         Normal            True                  True  \n",
       "308    2009       WD         Normal            True                  True  \n",
       "452    2007       WD         Normal            True                  True  \n",
       "405    2009       WD         Normal            True                  True  \n",
       "1443   2009       WD         Normal            True                  True  \n",
       "...     ...      ...            ...             ...                   ...  \n",
       "944    2009      COD        Abnorml            True                  True  \n",
       "1262   2009       WD         Normal            True                  True  \n",
       "967    2008       WD         Normal            True                  True  \n",
       "612    2009       WD         Normal            True                  True  \n",
       "757    2010       WD        Abnorml            True                  True  \n",
       "\n",
       "[177 rows x 82 columns]"
      ]
     },
     "execution_count": 477,
     "metadata": {},
     "output_type": "execute_result"
    }
   ],
   "source": [
    "train[train[\"miss_ind_LotFrontage\"] == True]"
   ]
  },
  {
   "cell_type": "code",
   "execution_count": 479,
   "metadata": {},
   "outputs": [
    {
     "data": {
      "text/plain": [
       "68.0"
      ]
     },
     "execution_count": 479,
     "metadata": {},
     "output_type": "execute_result"
    }
   ],
   "source": [
    "train[\"LotFrontage\"].median()"
   ]
  },
  {
   "cell_type": "code",
   "execution_count": 482,
   "metadata": {},
   "outputs": [
    {
     "data": {
      "text/plain": [
       "0"
      ]
     },
     "execution_count": 482,
     "metadata": {},
     "output_type": "execute_result"
    }
   ],
   "source": [
    "#For numerical\n",
    "simp = SimpleImputer(strategy='median')\n",
    "simp.fit(train[['LotFrontage']])\n",
    "\n",
    "test['LotFrontage'] = simp.transform(test[['LotFrontage']])\n",
    "test['LotFrontage'] = simp.transform(test[['LotFrontage']])"
   ]
  },
  {
   "cell_type": "code",
   "execution_count": 484,
   "metadata": {},
   "outputs": [
    {
     "data": {
      "text/plain": [
       "0"
      ]
     },
     "execution_count": 484,
     "metadata": {},
     "output_type": "execute_result"
    }
   ],
   "source": [
    "train['LotFrontage'].isnull().sum()"
   ]
  },
  {
   "cell_type": "code",
   "execution_count": 485,
   "metadata": {},
   "outputs": [
    {
     "data": {
      "text/plain": [
       "0"
      ]
     },
     "execution_count": 485,
     "metadata": {},
     "output_type": "execute_result"
    }
   ],
   "source": [
    "test['LotFrontage'].isnull().sum()"
   ]
  },
  {
   "cell_type": "code",
   "execution_count": 505,
   "metadata": {},
   "outputs": [
    {
     "data": {
      "text/html": [
       "<div>\n",
       "<style scoped>\n",
       "    .dataframe tbody tr th:only-of-type {\n",
       "        vertical-align: middle;\n",
       "    }\n",
       "\n",
       "    .dataframe tbody tr th {\n",
       "        vertical-align: top;\n",
       "    }\n",
       "\n",
       "    .dataframe thead th {\n",
       "        text-align: right;\n",
       "    }\n",
       "</style>\n",
       "<table border=\"1\" class=\"dataframe\">\n",
       "  <thead>\n",
       "    <tr style=\"text-align: right;\">\n",
       "      <th></th>\n",
       "      <th>Id</th>\n",
       "      <th>MSSubClass</th>\n",
       "      <th>MSZoning</th>\n",
       "      <th>LotFrontage</th>\n",
       "      <th>LotArea</th>\n",
       "      <th>Street</th>\n",
       "      <th>Alley</th>\n",
       "      <th>LotShape</th>\n",
       "      <th>LandContour</th>\n",
       "      <th>Utilities</th>\n",
       "      <th>...</th>\n",
       "      <th>PoolQC</th>\n",
       "      <th>Fence</th>\n",
       "      <th>MiscFeature</th>\n",
       "      <th>MiscVal</th>\n",
       "      <th>MoSold</th>\n",
       "      <th>YrSold</th>\n",
       "      <th>SaleType</th>\n",
       "      <th>SaleCondition</th>\n",
       "      <th>miss_ind_Alley</th>\n",
       "      <th>miss_ind_LotFrontage</th>\n",
       "    </tr>\n",
       "  </thead>\n",
       "  <tbody>\n",
       "    <tr>\n",
       "      <th>719</th>\n",
       "      <td>720</td>\n",
       "      <td>20</td>\n",
       "      <td>RL</td>\n",
       "      <td>69.0</td>\n",
       "      <td>9920</td>\n",
       "      <td>Pave</td>\n",
       "      <td>Grvl</td>\n",
       "      <td>IR1</td>\n",
       "      <td>Lvl</td>\n",
       "      <td>AllPub</td>\n",
       "      <td>...</td>\n",
       "      <td>NaN</td>\n",
       "      <td>NaN</td>\n",
       "      <td>NaN</td>\n",
       "      <td>0</td>\n",
       "      <td>5</td>\n",
       "      <td>2006</td>\n",
       "      <td>WD</td>\n",
       "      <td>Normal</td>\n",
       "      <td>True</td>\n",
       "      <td>False</td>\n",
       "    </tr>\n",
       "    <tr>\n",
       "      <th>1214</th>\n",
       "      <td>1215</td>\n",
       "      <td>85</td>\n",
       "      <td>RL</td>\n",
       "      <td>69.0</td>\n",
       "      <td>10205</td>\n",
       "      <td>Pave</td>\n",
       "      <td>Grvl</td>\n",
       "      <td>IR1</td>\n",
       "      <td>Lvl</td>\n",
       "      <td>AllPub</td>\n",
       "      <td>...</td>\n",
       "      <td>NaN</td>\n",
       "      <td>NaN</td>\n",
       "      <td>NaN</td>\n",
       "      <td>0</td>\n",
       "      <td>5</td>\n",
       "      <td>2006</td>\n",
       "      <td>WD</td>\n",
       "      <td>Normal</td>\n",
       "      <td>True</td>\n",
       "      <td>False</td>\n",
       "    </tr>\n",
       "    <tr>\n",
       "      <th>71</th>\n",
       "      <td>72</td>\n",
       "      <td>20</td>\n",
       "      <td>RL</td>\n",
       "      <td>69.0</td>\n",
       "      <td>7599</td>\n",
       "      <td>Pave</td>\n",
       "      <td>Grvl</td>\n",
       "      <td>Reg</td>\n",
       "      <td>Lvl</td>\n",
       "      <td>AllPub</td>\n",
       "      <td>...</td>\n",
       "      <td>NaN</td>\n",
       "      <td>NaN</td>\n",
       "      <td>NaN</td>\n",
       "      <td>0</td>\n",
       "      <td>6</td>\n",
       "      <td>2007</td>\n",
       "      <td>WD</td>\n",
       "      <td>Normal</td>\n",
       "      <td>True</td>\n",
       "      <td>False</td>\n",
       "    </tr>\n",
       "    <tr>\n",
       "      <th>94</th>\n",
       "      <td>95</td>\n",
       "      <td>60</td>\n",
       "      <td>RL</td>\n",
       "      <td>69.0</td>\n",
       "      <td>9337</td>\n",
       "      <td>Pave</td>\n",
       "      <td>Grvl</td>\n",
       "      <td>IR1</td>\n",
       "      <td>Lvl</td>\n",
       "      <td>AllPub</td>\n",
       "      <td>...</td>\n",
       "      <td>NaN</td>\n",
       "      <td>NaN</td>\n",
       "      <td>NaN</td>\n",
       "      <td>0</td>\n",
       "      <td>5</td>\n",
       "      <td>2007</td>\n",
       "      <td>WD</td>\n",
       "      <td>Normal</td>\n",
       "      <td>True</td>\n",
       "      <td>False</td>\n",
       "    </tr>\n",
       "    <tr>\n",
       "      <th>129</th>\n",
       "      <td>130</td>\n",
       "      <td>20</td>\n",
       "      <td>RL</td>\n",
       "      <td>69.0</td>\n",
       "      <td>8973</td>\n",
       "      <td>Pave</td>\n",
       "      <td>Grvl</td>\n",
       "      <td>Reg</td>\n",
       "      <td>Lvl</td>\n",
       "      <td>AllPub</td>\n",
       "      <td>...</td>\n",
       "      <td>NaN</td>\n",
       "      <td>MnWw</td>\n",
       "      <td>NaN</td>\n",
       "      <td>0</td>\n",
       "      <td>7</td>\n",
       "      <td>2006</td>\n",
       "      <td>WD</td>\n",
       "      <td>Abnorml</td>\n",
       "      <td>True</td>\n",
       "      <td>False</td>\n",
       "    </tr>\n",
       "    <tr>\n",
       "      <th>246</th>\n",
       "      <td>247</td>\n",
       "      <td>190</td>\n",
       "      <td>RM</td>\n",
       "      <td>69.0</td>\n",
       "      <td>9142</td>\n",
       "      <td>Pave</td>\n",
       "      <td>Grvl</td>\n",
       "      <td>Reg</td>\n",
       "      <td>Lvl</td>\n",
       "      <td>AllPub</td>\n",
       "      <td>...</td>\n",
       "      <td>NaN</td>\n",
       "      <td>NaN</td>\n",
       "      <td>NaN</td>\n",
       "      <td>0</td>\n",
       "      <td>4</td>\n",
       "      <td>2006</td>\n",
       "      <td>WD</td>\n",
       "      <td>Normal</td>\n",
       "      <td>False</td>\n",
       "      <td>False</td>\n",
       "    </tr>\n",
       "    <tr>\n",
       "      <th>397</th>\n",
       "      <td>398</td>\n",
       "      <td>60</td>\n",
       "      <td>RL</td>\n",
       "      <td>69.0</td>\n",
       "      <td>7590</td>\n",
       "      <td>Pave</td>\n",
       "      <td>Grvl</td>\n",
       "      <td>Reg</td>\n",
       "      <td>Lvl</td>\n",
       "      <td>AllPub</td>\n",
       "      <td>...</td>\n",
       "      <td>NaN</td>\n",
       "      <td>NaN</td>\n",
       "      <td>NaN</td>\n",
       "      <td>0</td>\n",
       "      <td>7</td>\n",
       "      <td>2007</td>\n",
       "      <td>WD</td>\n",
       "      <td>Normal</td>\n",
       "      <td>True</td>\n",
       "      <td>False</td>\n",
       "    </tr>\n",
       "    <tr>\n",
       "      <th>128</th>\n",
       "      <td>129</td>\n",
       "      <td>60</td>\n",
       "      <td>RL</td>\n",
       "      <td>69.0</td>\n",
       "      <td>7590</td>\n",
       "      <td>Pave</td>\n",
       "      <td>Grvl</td>\n",
       "      <td>Reg</td>\n",
       "      <td>Lvl</td>\n",
       "      <td>AllPub</td>\n",
       "      <td>...</td>\n",
       "      <td>NaN</td>\n",
       "      <td>NaN</td>\n",
       "      <td>NaN</td>\n",
       "      <td>0</td>\n",
       "      <td>7</td>\n",
       "      <td>2006</td>\n",
       "      <td>WD</td>\n",
       "      <td>Normal</td>\n",
       "      <td>True</td>\n",
       "      <td>False</td>\n",
       "    </tr>\n",
       "    <tr>\n",
       "      <th>556</th>\n",
       "      <td>557</td>\n",
       "      <td>20</td>\n",
       "      <td>RL</td>\n",
       "      <td>69.0</td>\n",
       "      <td>14850</td>\n",
       "      <td>Pave</td>\n",
       "      <td>Grvl</td>\n",
       "      <td>IR1</td>\n",
       "      <td>Lvl</td>\n",
       "      <td>AllPub</td>\n",
       "      <td>...</td>\n",
       "      <td>NaN</td>\n",
       "      <td>MnWw</td>\n",
       "      <td>NaN</td>\n",
       "      <td>0</td>\n",
       "      <td>5</td>\n",
       "      <td>2006</td>\n",
       "      <td>WD</td>\n",
       "      <td>Normal</td>\n",
       "      <td>True</td>\n",
       "      <td>False</td>\n",
       "    </tr>\n",
       "  </tbody>\n",
       "</table>\n",
       "<p>9 rows × 82 columns</p>\n",
       "</div>"
      ],
      "text/plain": [
       "        Id  MSSubClass MSZoning  LotFrontage  LotArea Street Alley LotShape  \\\n",
       "719    720          20       RL         69.0     9920   Pave  Grvl      IR1   \n",
       "1214  1215          85       RL         69.0    10205   Pave  Grvl      IR1   \n",
       "71      72          20       RL         69.0     7599   Pave  Grvl      Reg   \n",
       "94      95          60       RL         69.0     9337   Pave  Grvl      IR1   \n",
       "129    130          20       RL         69.0     8973   Pave  Grvl      Reg   \n",
       "246    247         190       RM         69.0     9142   Pave  Grvl      Reg   \n",
       "397    398          60       RL         69.0     7590   Pave  Grvl      Reg   \n",
       "128    129          60       RL         69.0     7590   Pave  Grvl      Reg   \n",
       "556    557          20       RL         69.0    14850   Pave  Grvl      IR1   \n",
       "\n",
       "     LandContour Utilities  ... PoolQC Fence MiscFeature MiscVal MoSold  \\\n",
       "719          Lvl    AllPub  ...    NaN   NaN         NaN       0      5   \n",
       "1214         Lvl    AllPub  ...    NaN   NaN         NaN       0      5   \n",
       "71           Lvl    AllPub  ...    NaN   NaN         NaN       0      6   \n",
       "94           Lvl    AllPub  ...    NaN   NaN         NaN       0      5   \n",
       "129          Lvl    AllPub  ...    NaN  MnWw         NaN       0      7   \n",
       "246          Lvl    AllPub  ...    NaN   NaN         NaN       0      4   \n",
       "397          Lvl    AllPub  ...    NaN   NaN         NaN       0      7   \n",
       "128          Lvl    AllPub  ...    NaN   NaN         NaN       0      7   \n",
       "556          Lvl    AllPub  ...    NaN  MnWw         NaN       0      5   \n",
       "\n",
       "     YrSold SaleType  SaleCondition  miss_ind_Alley  miss_ind_LotFrontage  \n",
       "719    2006       WD         Normal            True                 False  \n",
       "1214   2006       WD         Normal            True                 False  \n",
       "71     2007       WD         Normal            True                 False  \n",
       "94     2007       WD         Normal            True                 False  \n",
       "129    2006       WD        Abnorml            True                 False  \n",
       "246    2006       WD         Normal           False                 False  \n",
       "397    2007       WD         Normal            True                 False  \n",
       "128    2006       WD         Normal            True                 False  \n",
       "556    2006       WD         Normal            True                 False  \n",
       "\n",
       "[9 rows x 82 columns]"
      ]
     },
     "execution_count": 505,
     "metadata": {},
     "output_type": "execute_result"
    }
   ],
   "source": [
    "train[train['LotFrontage'] == 69]"
   ]
  },
  {
   "cell_type": "code",
   "execution_count": 489,
   "metadata": {},
   "outputs": [
    {
     "data": {
      "text/plain": [
       "210      NaN\n",
       "318      NaN\n",
       "239      NaN\n",
       "986      NaN\n",
       "1416     NaN\n",
       "        ... \n",
       "802      NaN\n",
       "53       NaN\n",
       "350      NaN\n",
       "79      Grvl\n",
       "792      NaN\n",
       "Name: Alley, Length: 1022, dtype: object"
      ]
     },
     "execution_count": 489,
     "metadata": {},
     "output_type": "execute_result"
    }
   ],
   "source": [
    "train['Alley']"
   ]
  },
  {
   "cell_type": "code",
   "execution_count": 502,
   "metadata": {},
   "outputs": [],
   "source": [
    "#For catagorical\n",
    "cat_cols = ['Alley']\n",
    "simp2 = SimpleImputer(strategy='most_frequent')\n",
    "simp2.fit(train[cat_cols])\n",
    "\n",
    "test[cat_cols] = simp2.transform(test[cat_cols])\n",
    "train[cat_cols] = simp2.transform(train[cat_cols])"
   ]
  },
  {
   "cell_type": "code",
   "execution_count": 503,
   "metadata": {},
   "outputs": [
    {
     "data": {
      "text/plain": [
       "0"
      ]
     },
     "execution_count": 503,
     "metadata": {},
     "output_type": "execute_result"
    }
   ],
   "source": [
    "train['Alley'].isnull().sum()"
   ]
  },
  {
   "cell_type": "code",
   "execution_count": null,
   "metadata": {},
   "outputs": [],
   "source": [
    "#Dummy with OneHotEncoder"
   ]
  }
 ],
 "metadata": {
  "kernelspec": {
   "display_name": "Python 3.11.2 64-bit",
   "language": "python",
   "name": "python3"
  },
  "language_info": {
   "codemirror_mode": {
    "name": "ipython",
    "version": 3
   },
   "file_extension": ".py",
   "mimetype": "text/x-python",
   "name": "python",
   "nbconvert_exporter": "python",
   "pygments_lexer": "ipython3",
   "version": "3.11.5"
  },
  "vscode": {
   "interpreter": {
    "hash": "1682e5d06a6d97c1b1cf6bb4ae6cf16223e994936ddb1d53664597d7d46101fa"
   }
  }
 },
 "nbformat": 4,
 "nbformat_minor": 0
}
