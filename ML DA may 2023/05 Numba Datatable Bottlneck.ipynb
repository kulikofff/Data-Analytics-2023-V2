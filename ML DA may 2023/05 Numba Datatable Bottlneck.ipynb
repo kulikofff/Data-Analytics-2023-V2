{
 "cells": [
  {
   "cell_type": "code",
   "execution_count": null,
   "metadata": {},
   "outputs": [],
   "source": [
    "import numpy as np"
   ]
  },
  {
   "cell_type": "code",
   "execution_count": null,
   "metadata": {},
   "outputs": [],
   "source": [
    "#numba\n",
    "def mean_distance(x, y):\n",
    "    nx = len(x)\n",
    "    result = 0.0\n",
    "    count = 0\n",
    "    for i in range(nx):\n",
    "        result += x[i] - y[i]\n",
    "        count += 1\n",
    "    return result / count"
   ]
  },
  {
   "cell_type": "code",
   "execution_count": null,
   "metadata": {},
   "outputs": [],
   "source": [
    "x = np.random.randn(10000000)\n",
    "y = np.random.randn(10000000)"
   ]
  },
  {
   "cell_type": "code",
   "execution_count": null,
   "metadata": {},
   "outputs": [],
   "source": [
    "%timeit mean_distance(x, y)"
   ]
  },
  {
   "cell_type": "code",
   "execution_count": null,
   "metadata": {},
   "outputs": [],
   "source": [
    "%timeit np.mean(x - y)"
   ]
  },
  {
   "cell_type": "code",
   "execution_count": null,
   "metadata": {},
   "outputs": [],
   "source": [
    "import numba as nb\n",
    "numba_mean_distance = nb.jit(mean_distance)\n",
    "%timeit numba_mean_distance(x, y)"
   ]
  },
  {
   "cell_type": "code",
   "execution_count": null,
   "metadata": {},
   "outputs": [],
   "source": [
    "@nb.jit\n",
    "def nb_mean_distance(x, y):\n",
    "    nx = len(x)\n",
    "    result = 0.0\n",
    "    count = 0\n",
    "    for i in range(nx):\n",
    "        result += x[i] - y[i]\n",
    "        count += 1\n",
    "    return result / count"
   ]
  },
  {
   "cell_type": "code",
   "execution_count": null,
   "metadata": {},
   "outputs": [],
   "source": [
    "%timeit nb_mean_distance(x, y)"
   ]
  },
  {
   "cell_type": "code",
   "execution_count": null,
   "metadata": {},
   "outputs": [],
   "source": [
    "@nb.vectorize()\n",
    "def nb_square(x):\n",
    "    return x ** 2"
   ]
  },
  {
   "cell_type": "code",
   "execution_count": null,
   "metadata": {},
   "outputs": [],
   "source": [
    "%timeit nb_square(x)"
   ]
  },
  {
   "cell_type": "code",
   "execution_count": null,
   "metadata": {},
   "outputs": [],
   "source": [
    "data = np.random.randn(10000000)\n",
    "data"
   ]
  },
  {
   "cell_type": "code",
   "execution_count": null,
   "metadata": {},
   "outputs": [],
   "source": [
    "@nb.jit()\n",
    "def f(x):\n",
    "    return np.cos(x) ** 2 + np.sin(x) ** 2\n",
    "\n",
    "%timeit f(data)"
   ]
  },
  {
   "cell_type": "code",
   "execution_count": null,
   "metadata": {},
   "outputs": [],
   "source": [
    "@nb.jit(parallel=True)\n",
    "def f(x):\n",
    "    return np.cos(x) ** 2 + np.sin(x) ** 2\n",
    "%timeit f(data)"
   ]
  },
  {
   "cell_type": "code",
   "execution_count": null,
   "metadata": {},
   "outputs": [],
   "source": [
    "@nb.jit()\n",
    "def compute(x):\n",
    "    s = 0\n",
    "    for i in nb.prange(x.shape[0]):\n",
    "        s += x[i]\n",
    "    return s\n",
    "%timeit compute(data)"
   ]
  },
  {
   "cell_type": "code",
   "execution_count": null,
   "metadata": {},
   "outputs": [],
   "source": [
    "@nb.jit(parallel=True)\n",
    "def compute(x):\n",
    "    s = 0\n",
    "    for i in nb.prange(x.shape[0]):\n",
    "        s += x[i]\n",
    "    return s\n",
    "%timeit compute(data)"
   ]
  },
  {
   "cell_type": "code",
   "execution_count": null,
   "metadata": {},
   "outputs": [],
   "source": [
    "# импортируем библиотеки pandas и numpy\n",
    "import pandas as pd\n",
    "import numpy as np\n",
    "# создаем серию со 100 000 значений\n",
    "series = pd.Series(np.random.randn(100000))\n",
    "# задаем объект Rolling\n",
    "roll = series.rolling(10)\n",
    "# пишем функцию вычисления среднего\n",
    "def f(x):\n",
    "    return np.mean(x)"
   ]
  },
  {
   "cell_type": "code",
   "execution_count": null,
   "metadata": {},
   "outputs": [],
   "source": [
    "# запускаем в первый раз, время компиляции\n",
    "# повлияет на производительность, здесь и\n",
    "# далее если raw=True, то переданная в метод .apply()\n",
    "# функция вместо серии получает массив NumPy,\n",
    "# -r(epeat) – сколько раз повторять таймер,\n",
    "# -n(umber) – сколько раз выполнять команду\n",
    "%timeit -r 1 -n 1 roll.apply(f, engine='numba', raw=True)\n",
    "\n",
    "# функция кешируется, и производительность улучшается\n",
    "%timeit roll.apply(f, engine='numba', raw=True)"
   ]
  },
  {
   "cell_type": "code",
   "execution_count": null,
   "metadata": {},
   "outputs": [],
   "source": [
    "%timeit roll.apply(f, raw=True)"
   ]
  },
  {
   "cell_type": "code",
   "execution_count": null,
   "metadata": {},
   "outputs": [],
   "source": [
    "#Datatable. Use under Python 3.10\n",
    "\n",
    "#use .venv in VSC and pip manager in the left area\n",
    "#.\\.venv\\Scripts\\activate\n",
    "\n",
    "import pandas as pd\n",
    "import datatable as dt ###not work in kaggle, P3.9, 3.10, 3.11"
   ]
  },
  {
   "cell_type": "code",
   "execution_count": null,
   "metadata": {},
   "outputs": [],
   "source": [
    "%%time\n",
    "dataframe = pd.read_csv('SampleSuperstore.csv', sep=',', encoding='cp1251')"
   ]
  },
  {
   "cell_type": "code",
   "execution_count": null,
   "metadata": {},
   "outputs": [],
   "source": [
    "\n",
    "%%time\n",
    "dataframe = dt.fread('SampleSuperstore.csv', sep=',', encoding='cp1251')"
   ]
  },
  {
   "cell_type": "code",
   "execution_count": null,
   "metadata": {},
   "outputs": [],
   "source": [
    "#Bottleneck"
   ]
  },
  {
   "cell_type": "code",
   "execution_count": 5,
   "metadata": {},
   "outputs": [],
   "source": [
    "import bottleneck as bn\n",
    "import numpy as np"
   ]
  },
  {
   "cell_type": "code",
   "execution_count": 8,
   "metadata": {},
   "outputs": [
    {
     "data": {
      "text/plain": [
       "0        1.185678\n",
       "1       -0.507568\n",
       "2       -0.638381\n",
       "3        1.328102\n",
       "4       -0.272861\n",
       "           ...   \n",
       "99995    1.344299\n",
       "99996   -0.139366\n",
       "99997   -1.061903\n",
       "99998    0.458839\n",
       "99999    0.380110\n",
       "Length: 100000, dtype: float64"
      ]
     },
     "execution_count": 8,
     "metadata": {},
     "output_type": "execute_result"
    }
   ],
   "source": [
    "series = pd.Series(np.random.randn(100000))\n",
    "series"
   ]
  },
  {
   "cell_type": "code",
   "execution_count": 9,
   "metadata": {},
   "outputs": [
    {
     "name": "stdout",
     "output_type": "stream",
     "text": [
      "CPU times: total: 15.6 ms\n",
      "Wall time: 6.51 ms\n"
     ]
    }
   ],
   "source": [
    "%%time\n",
    "roll_mean = series.shift(1).rolling(min_periods=1, window=4).mean()"
   ]
  },
  {
   "cell_type": "code",
   "execution_count": 11,
   "metadata": {},
   "outputs": [
    {
     "name": "stdout",
     "output_type": "stream",
     "text": [
      "CPU times: total: 15.6 ms\n",
      "Wall time: 1.5 ms\n"
     ]
    }
   ],
   "source": [
    "%%time\n",
    "roll_mean_bn = bn.move_mean(series.shift(1), window=4, min_count=1)"
   ]
  }
 ],
 "metadata": {
  "kernelspec": {
   "display_name": "Python 3.11.2 ('.venv': venv)",
   "language": "python",
   "name": "python3"
  },
  "language_info": {
   "codemirror_mode": {
    "name": "ipython",
    "version": 3
   },
   "file_extension": ".py",
   "mimetype": "text/x-python",
   "name": "python",
   "nbconvert_exporter": "python",
   "pygments_lexer": "ipython3",
   "version": "3.10.11"
  },
  "vscode": {
   "interpreter": {
    "hash": "6271dae41a66e49f9f257956ef2041e8f76d7e28650c05bc5102f55d7d025537"
   }
  }
 },
 "nbformat": 4,
 "nbformat_minor": 0
}
